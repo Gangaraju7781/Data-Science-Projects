{
 "cells": [
  {
   "cell_type": "markdown",
   "id": "c16ff87d",
   "metadata": {},
   "source": [
    "# Player Rating after a Cricket Match"
   ]
  },
  {
   "cell_type": "markdown",
   "id": "785d2f91",
   "metadata": {},
   "source": [
    "## Batsman Rating"
   ]
  },
  {
   "cell_type": "markdown",
   "id": "5fe38e50",
   "metadata": {},
   "source": [
    "#### Importing all the required libraries"
   ]
  },
  {
   "cell_type": "code",
   "execution_count": 1,
   "id": "c46dbe63",
   "metadata": {},
   "outputs": [],
   "source": [
    "import pandas as pd\n",
    "import matplotlib.pyplot as plt\n",
    "import numpy as np\n",
    "import seaborn as sns"
   ]
  },
  {
   "cell_type": "code",
   "execution_count": 2,
   "id": "c8066828",
   "metadata": {},
   "outputs": [],
   "source": [
    "df = pd.read_csv('match.csv') # Reading the dataset"
   ]
  },
  {
   "cell_type": "code",
   "execution_count": 3,
   "id": "d15d0b00",
   "metadata": {},
   "outputs": [
    {
     "data": {
      "text/html": [
       "<div>\n",
       "<style scoped>\n",
       "    .dataframe tbody tr th:only-of-type {\n",
       "        vertical-align: middle;\n",
       "    }\n",
       "\n",
       "    .dataframe tbody tr th {\n",
       "        vertical-align: top;\n",
       "    }\n",
       "\n",
       "    .dataframe thead th {\n",
       "        text-align: right;\n",
       "    }\n",
       "</style>\n",
       "<table border=\"1\" class=\"dataframe\">\n",
       "  <thead>\n",
       "    <tr style=\"text-align: right;\">\n",
       "      <th></th>\n",
       "      <th>match_id</th>\n",
       "      <th>season</th>\n",
       "      <th>start_date</th>\n",
       "      <th>venue</th>\n",
       "      <th>innings</th>\n",
       "      <th>ball</th>\n",
       "      <th>batting_team</th>\n",
       "      <th>bowling_team</th>\n",
       "      <th>striker</th>\n",
       "      <th>non_striker</th>\n",
       "      <th>...</th>\n",
       "      <th>extras</th>\n",
       "      <th>wides</th>\n",
       "      <th>noballs</th>\n",
       "      <th>byes</th>\n",
       "      <th>legbyes</th>\n",
       "      <th>penalty</th>\n",
       "      <th>wicket_type</th>\n",
       "      <th>player_dismissed</th>\n",
       "      <th>other_wicket_type</th>\n",
       "      <th>other_player_dismissed</th>\n",
       "    </tr>\n",
       "  </thead>\n",
       "  <tbody>\n",
       "    <tr>\n",
       "      <th>0</th>\n",
       "      <td>1276909</td>\n",
       "      <td>2022</td>\n",
       "      <td>2022-07-17</td>\n",
       "      <td>Old Trafford, Manchester</td>\n",
       "      <td>1</td>\n",
       "      <td>0.1</td>\n",
       "      <td>England</td>\n",
       "      <td>India</td>\n",
       "      <td>JJ Roy</td>\n",
       "      <td>JM Bairstow</td>\n",
       "      <td>...</td>\n",
       "      <td>0</td>\n",
       "      <td>NaN</td>\n",
       "      <td>NaN</td>\n",
       "      <td>NaN</td>\n",
       "      <td>NaN</td>\n",
       "      <td>NaN</td>\n",
       "      <td>NaN</td>\n",
       "      <td>NaN</td>\n",
       "      <td>NaN</td>\n",
       "      <td>NaN</td>\n",
       "    </tr>\n",
       "    <tr>\n",
       "      <th>1</th>\n",
       "      <td>1276909</td>\n",
       "      <td>2022</td>\n",
       "      <td>2022-07-17</td>\n",
       "      <td>Old Trafford, Manchester</td>\n",
       "      <td>1</td>\n",
       "      <td>0.2</td>\n",
       "      <td>England</td>\n",
       "      <td>India</td>\n",
       "      <td>JJ Roy</td>\n",
       "      <td>JM Bairstow</td>\n",
       "      <td>...</td>\n",
       "      <td>0</td>\n",
       "      <td>NaN</td>\n",
       "      <td>NaN</td>\n",
       "      <td>NaN</td>\n",
       "      <td>NaN</td>\n",
       "      <td>NaN</td>\n",
       "      <td>NaN</td>\n",
       "      <td>NaN</td>\n",
       "      <td>NaN</td>\n",
       "      <td>NaN</td>\n",
       "    </tr>\n",
       "    <tr>\n",
       "      <th>2</th>\n",
       "      <td>1276909</td>\n",
       "      <td>2022</td>\n",
       "      <td>2022-07-17</td>\n",
       "      <td>Old Trafford, Manchester</td>\n",
       "      <td>1</td>\n",
       "      <td>0.3</td>\n",
       "      <td>England</td>\n",
       "      <td>India</td>\n",
       "      <td>JJ Roy</td>\n",
       "      <td>JM Bairstow</td>\n",
       "      <td>...</td>\n",
       "      <td>0</td>\n",
       "      <td>NaN</td>\n",
       "      <td>NaN</td>\n",
       "      <td>NaN</td>\n",
       "      <td>NaN</td>\n",
       "      <td>NaN</td>\n",
       "      <td>NaN</td>\n",
       "      <td>NaN</td>\n",
       "      <td>NaN</td>\n",
       "      <td>NaN</td>\n",
       "    </tr>\n",
       "    <tr>\n",
       "      <th>3</th>\n",
       "      <td>1276909</td>\n",
       "      <td>2022</td>\n",
       "      <td>2022-07-17</td>\n",
       "      <td>Old Trafford, Manchester</td>\n",
       "      <td>1</td>\n",
       "      <td>0.4</td>\n",
       "      <td>England</td>\n",
       "      <td>India</td>\n",
       "      <td>JJ Roy</td>\n",
       "      <td>JM Bairstow</td>\n",
       "      <td>...</td>\n",
       "      <td>0</td>\n",
       "      <td>NaN</td>\n",
       "      <td>NaN</td>\n",
       "      <td>NaN</td>\n",
       "      <td>NaN</td>\n",
       "      <td>NaN</td>\n",
       "      <td>NaN</td>\n",
       "      <td>NaN</td>\n",
       "      <td>NaN</td>\n",
       "      <td>NaN</td>\n",
       "    </tr>\n",
       "    <tr>\n",
       "      <th>4</th>\n",
       "      <td>1276909</td>\n",
       "      <td>2022</td>\n",
       "      <td>2022-07-17</td>\n",
       "      <td>Old Trafford, Manchester</td>\n",
       "      <td>1</td>\n",
       "      <td>0.5</td>\n",
       "      <td>England</td>\n",
       "      <td>India</td>\n",
       "      <td>JJ Roy</td>\n",
       "      <td>JM Bairstow</td>\n",
       "      <td>...</td>\n",
       "      <td>0</td>\n",
       "      <td>NaN</td>\n",
       "      <td>NaN</td>\n",
       "      <td>NaN</td>\n",
       "      <td>NaN</td>\n",
       "      <td>NaN</td>\n",
       "      <td>NaN</td>\n",
       "      <td>NaN</td>\n",
       "      <td>NaN</td>\n",
       "      <td>NaN</td>\n",
       "    </tr>\n",
       "  </tbody>\n",
       "</table>\n",
       "<p>5 rows × 22 columns</p>\n",
       "</div>"
      ],
      "text/plain": [
       "   match_id  season  start_date                     venue  innings  ball  \\\n",
       "0   1276909    2022  2022-07-17  Old Trafford, Manchester        1   0.1   \n",
       "1   1276909    2022  2022-07-17  Old Trafford, Manchester        1   0.2   \n",
       "2   1276909    2022  2022-07-17  Old Trafford, Manchester        1   0.3   \n",
       "3   1276909    2022  2022-07-17  Old Trafford, Manchester        1   0.4   \n",
       "4   1276909    2022  2022-07-17  Old Trafford, Manchester        1   0.5   \n",
       "\n",
       "  batting_team bowling_team striker  non_striker  ... extras  wides  noballs  \\\n",
       "0      England        India  JJ Roy  JM Bairstow  ...      0    NaN      NaN   \n",
       "1      England        India  JJ Roy  JM Bairstow  ...      0    NaN      NaN   \n",
       "2      England        India  JJ Roy  JM Bairstow  ...      0    NaN      NaN   \n",
       "3      England        India  JJ Roy  JM Bairstow  ...      0    NaN      NaN   \n",
       "4      England        India  JJ Roy  JM Bairstow  ...      0    NaN      NaN   \n",
       "\n",
       "   byes  legbyes  penalty  wicket_type  player_dismissed other_wicket_type  \\\n",
       "0   NaN      NaN      NaN          NaN               NaN               NaN   \n",
       "1   NaN      NaN      NaN          NaN               NaN               NaN   \n",
       "2   NaN      NaN      NaN          NaN               NaN               NaN   \n",
       "3   NaN      NaN      NaN          NaN               NaN               NaN   \n",
       "4   NaN      NaN      NaN          NaN               NaN               NaN   \n",
       "\n",
       "  other_player_dismissed  \n",
       "0                    NaN  \n",
       "1                    NaN  \n",
       "2                    NaN  \n",
       "3                    NaN  \n",
       "4                    NaN  \n",
       "\n",
       "[5 rows x 22 columns]"
      ]
     },
     "execution_count": 3,
     "metadata": {},
     "output_type": "execute_result"
    }
   ],
   "source": [
    "df.head() # Extracting the top 5 rows of the dataframe!"
   ]
  },
  {
   "cell_type": "code",
   "execution_count": 4,
   "id": "e2f33c45",
   "metadata": {},
   "outputs": [
    {
     "name": "stdout",
     "output_type": "stream",
     "text": [
      "<class 'pandas.core.frame.DataFrame'>\n",
      "RangeIndex: 542 entries, 0 to 541\n",
      "Data columns (total 22 columns):\n",
      " #   Column                  Non-Null Count  Dtype  \n",
      "---  ------                  --------------  -----  \n",
      " 0   match_id                542 non-null    int64  \n",
      " 1   season                  542 non-null    int64  \n",
      " 2   start_date              542 non-null    object \n",
      " 3   venue                   542 non-null    object \n",
      " 4   innings                 542 non-null    int64  \n",
      " 5   ball                    542 non-null    float64\n",
      " 6   batting_team            542 non-null    object \n",
      " 7   bowling_team            542 non-null    object \n",
      " 8   striker                 542 non-null    object \n",
      " 9   non_striker             542 non-null    object \n",
      " 10  bowler                  542 non-null    object \n",
      " 11  runs_off_bat            542 non-null    int64  \n",
      " 12  extras                  542 non-null    int64  \n",
      " 13  wides                   12 non-null     float64\n",
      " 14  noballs                 2 non-null      float64\n",
      " 15  byes                    1 non-null      float64\n",
      " 16  legbyes                 5 non-null      float64\n",
      " 17  penalty                 0 non-null      float64\n",
      " 18  wicket_type             15 non-null     object \n",
      " 19  player_dismissed        15 non-null     object \n",
      " 20  other_wicket_type       0 non-null      float64\n",
      " 21  other_player_dismissed  0 non-null      float64\n",
      "dtypes: float64(8), int64(5), object(9)\n",
      "memory usage: 93.3+ KB\n"
     ]
    }
   ],
   "source": [
    "df.info() # Getting the info about the dataframe"
   ]
  },
  {
   "cell_type": "code",
   "execution_count": 5,
   "id": "6381923e",
   "metadata": {},
   "outputs": [
    {
     "data": {
      "text/html": [
       "<div>\n",
       "<style scoped>\n",
       "    .dataframe tbody tr th:only-of-type {\n",
       "        vertical-align: middle;\n",
       "    }\n",
       "\n",
       "    .dataframe tbody tr th {\n",
       "        vertical-align: top;\n",
       "    }\n",
       "\n",
       "    .dataframe thead th {\n",
       "        text-align: right;\n",
       "    }\n",
       "</style>\n",
       "<table border=\"1\" class=\"dataframe\">\n",
       "  <thead>\n",
       "    <tr style=\"text-align: right;\">\n",
       "      <th></th>\n",
       "      <th>match_id</th>\n",
       "      <th>season</th>\n",
       "      <th>innings</th>\n",
       "      <th>ball</th>\n",
       "      <th>runs_off_bat</th>\n",
       "      <th>extras</th>\n",
       "      <th>wides</th>\n",
       "      <th>noballs</th>\n",
       "      <th>byes</th>\n",
       "      <th>legbyes</th>\n",
       "      <th>penalty</th>\n",
       "      <th>other_wicket_type</th>\n",
       "      <th>other_player_dismissed</th>\n",
       "    </tr>\n",
       "  </thead>\n",
       "  <tbody>\n",
       "    <tr>\n",
       "      <th>count</th>\n",
       "      <td>542.0</td>\n",
       "      <td>542.0</td>\n",
       "      <td>542.000000</td>\n",
       "      <td>542.000000</td>\n",
       "      <td>542.000000</td>\n",
       "      <td>542.000000</td>\n",
       "      <td>12.000000</td>\n",
       "      <td>2.0</td>\n",
       "      <td>1.0</td>\n",
       "      <td>5.0</td>\n",
       "      <td>0.0</td>\n",
       "      <td>0.0</td>\n",
       "      <td>0.0</td>\n",
       "    </tr>\n",
       "    <tr>\n",
       "      <th>mean</th>\n",
       "      <td>1276909.0</td>\n",
       "      <td>2022.0</td>\n",
       "      <td>1.472325</td>\n",
       "      <td>22.005720</td>\n",
       "      <td>0.915129</td>\n",
       "      <td>0.044280</td>\n",
       "      <td>1.333333</td>\n",
       "      <td>1.0</td>\n",
       "      <td>1.0</td>\n",
       "      <td>1.0</td>\n",
       "      <td>NaN</td>\n",
       "      <td>NaN</td>\n",
       "      <td>NaN</td>\n",
       "    </tr>\n",
       "    <tr>\n",
       "      <th>std</th>\n",
       "      <td>0.0</td>\n",
       "      <td>0.0</td>\n",
       "      <td>0.499695</td>\n",
       "      <td>12.804588</td>\n",
       "      <td>1.398505</td>\n",
       "      <td>0.281721</td>\n",
       "      <td>1.154701</td>\n",
       "      <td>0.0</td>\n",
       "      <td>NaN</td>\n",
       "      <td>0.0</td>\n",
       "      <td>NaN</td>\n",
       "      <td>NaN</td>\n",
       "      <td>NaN</td>\n",
       "    </tr>\n",
       "    <tr>\n",
       "      <th>min</th>\n",
       "      <td>1276909.0</td>\n",
       "      <td>2022.0</td>\n",
       "      <td>1.000000</td>\n",
       "      <td>0.100000</td>\n",
       "      <td>0.000000</td>\n",
       "      <td>0.000000</td>\n",
       "      <td>1.000000</td>\n",
       "      <td>1.0</td>\n",
       "      <td>1.0</td>\n",
       "      <td>1.0</td>\n",
       "      <td>NaN</td>\n",
       "      <td>NaN</td>\n",
       "      <td>NaN</td>\n",
       "    </tr>\n",
       "    <tr>\n",
       "      <th>25%</th>\n",
       "      <td>1276909.0</td>\n",
       "      <td>2022.0</td>\n",
       "      <td>1.000000</td>\n",
       "      <td>11.125000</td>\n",
       "      <td>0.000000</td>\n",
       "      <td>0.000000</td>\n",
       "      <td>1.000000</td>\n",
       "      <td>1.0</td>\n",
       "      <td>1.0</td>\n",
       "      <td>1.0</td>\n",
       "      <td>NaN</td>\n",
       "      <td>NaN</td>\n",
       "      <td>NaN</td>\n",
       "    </tr>\n",
       "    <tr>\n",
       "      <th>50%</th>\n",
       "      <td>1276909.0</td>\n",
       "      <td>2022.0</td>\n",
       "      <td>1.000000</td>\n",
       "      <td>22.150000</td>\n",
       "      <td>0.000000</td>\n",
       "      <td>0.000000</td>\n",
       "      <td>1.000000</td>\n",
       "      <td>1.0</td>\n",
       "      <td>1.0</td>\n",
       "      <td>1.0</td>\n",
       "      <td>NaN</td>\n",
       "      <td>NaN</td>\n",
       "      <td>NaN</td>\n",
       "    </tr>\n",
       "    <tr>\n",
       "      <th>75%</th>\n",
       "      <td>1276909.0</td>\n",
       "      <td>2022.0</td>\n",
       "      <td>2.000000</td>\n",
       "      <td>33.100000</td>\n",
       "      <td>1.000000</td>\n",
       "      <td>0.000000</td>\n",
       "      <td>1.000000</td>\n",
       "      <td>1.0</td>\n",
       "      <td>1.0</td>\n",
       "      <td>1.0</td>\n",
       "      <td>NaN</td>\n",
       "      <td>NaN</td>\n",
       "      <td>NaN</td>\n",
       "    </tr>\n",
       "    <tr>\n",
       "      <th>max</th>\n",
       "      <td>1276909.0</td>\n",
       "      <td>2022.0</td>\n",
       "      <td>2.000000</td>\n",
       "      <td>45.600000</td>\n",
       "      <td>6.000000</td>\n",
       "      <td>5.000000</td>\n",
       "      <td>5.000000</td>\n",
       "      <td>1.0</td>\n",
       "      <td>1.0</td>\n",
       "      <td>1.0</td>\n",
       "      <td>NaN</td>\n",
       "      <td>NaN</td>\n",
       "      <td>NaN</td>\n",
       "    </tr>\n",
       "  </tbody>\n",
       "</table>\n",
       "</div>"
      ],
      "text/plain": [
       "        match_id  season     innings        ball  runs_off_bat      extras  \\\n",
       "count      542.0   542.0  542.000000  542.000000    542.000000  542.000000   \n",
       "mean   1276909.0  2022.0    1.472325   22.005720      0.915129    0.044280   \n",
       "std          0.0     0.0    0.499695   12.804588      1.398505    0.281721   \n",
       "min    1276909.0  2022.0    1.000000    0.100000      0.000000    0.000000   \n",
       "25%    1276909.0  2022.0    1.000000   11.125000      0.000000    0.000000   \n",
       "50%    1276909.0  2022.0    1.000000   22.150000      0.000000    0.000000   \n",
       "75%    1276909.0  2022.0    2.000000   33.100000      1.000000    0.000000   \n",
       "max    1276909.0  2022.0    2.000000   45.600000      6.000000    5.000000   \n",
       "\n",
       "           wides  noballs  byes  legbyes  penalty  other_wicket_type  \\\n",
       "count  12.000000      2.0   1.0      5.0      0.0                0.0   \n",
       "mean    1.333333      1.0   1.0      1.0      NaN                NaN   \n",
       "std     1.154701      0.0   NaN      0.0      NaN                NaN   \n",
       "min     1.000000      1.0   1.0      1.0      NaN                NaN   \n",
       "25%     1.000000      1.0   1.0      1.0      NaN                NaN   \n",
       "50%     1.000000      1.0   1.0      1.0      NaN                NaN   \n",
       "75%     1.000000      1.0   1.0      1.0      NaN                NaN   \n",
       "max     5.000000      1.0   1.0      1.0      NaN                NaN   \n",
       "\n",
       "       other_player_dismissed  \n",
       "count                     0.0  \n",
       "mean                      NaN  \n",
       "std                       NaN  \n",
       "min                       NaN  \n",
       "25%                       NaN  \n",
       "50%                       NaN  \n",
       "75%                       NaN  \n",
       "max                       NaN  "
      ]
     },
     "execution_count": 5,
     "metadata": {},
     "output_type": "execute_result"
    }
   ],
   "source": [
    "df.describe() # Statistical info about the dataframe"
   ]
  },
  {
   "cell_type": "code",
   "execution_count": 6,
   "id": "db92ffe6",
   "metadata": {},
   "outputs": [
    {
     "data": {
      "text/plain": [
       "Index(['match_id', 'season', 'start_date', 'venue', 'innings', 'ball',\n",
       "       'batting_team', 'bowling_team', 'striker', 'non_striker', 'bowler',\n",
       "       'runs_off_bat', 'extras', 'wides', 'noballs', 'byes', 'legbyes',\n",
       "       'penalty', 'wicket_type', 'player_dismissed', 'other_wicket_type',\n",
       "       'other_player_dismissed'],\n",
       "      dtype='object')"
      ]
     },
     "execution_count": 6,
     "metadata": {},
     "output_type": "execute_result"
    }
   ],
   "source": [
    "df.columns # Names of all columns"
   ]
  },
  {
   "cell_type": "code",
   "execution_count": 7,
   "id": "71dcd58e",
   "metadata": {},
   "outputs": [
    {
     "data": {
      "text/plain": [
       "22"
      ]
     },
     "execution_count": 7,
     "metadata": {},
     "output_type": "execute_result"
    }
   ],
   "source": [
    "df.columns.nunique() # Count of unique columns"
   ]
  },
  {
   "cell_type": "code",
   "execution_count": 8,
   "id": "6c6b847a",
   "metadata": {},
   "outputs": [],
   "source": [
    "# Renaming the column names\n",
    "df.rename(columns = {'batting_team':'Batting_Team', 'bowling_team':'Bowling_Team'}, \\\n",
    "          inplace = True)"
   ]
  },
  {
   "cell_type": "markdown",
   "id": "cf44a1cf",
   "metadata": {},
   "source": [
    "### Checking Missing Data of the dataset"
   ]
  },
  {
   "cell_type": "code",
   "execution_count": 9,
   "id": "a798aab7",
   "metadata": {},
   "outputs": [
    {
     "data": {
      "image/png": "[encoded data removed]",
      "text/plain": [
       "<Figure size 1800x720 with 2 Axes>"
      ]
     },
     "metadata": {
      "needs_background": "light"
     },
     "output_type": "display_data"
    }
   ],
   "source": [
    "import missingno as msno\n",
    "msno.matrix(df)\n",
    "plt.show()"
   ]
  },
  {
   "cell_type": "markdown",
   "id": "b0ba2b89",
   "metadata": {},
   "source": [
    "#### Initialising new dataframe to calculate the \"Total Runs Scored\" by each batsman from both teams"
   ]
  },
  {
   "cell_type": "code",
   "execution_count": 10,
   "id": "0830dedc",
   "metadata": {},
   "outputs": [
    {
     "data": {
      "text/html": [
       "<div>\n",
       "<style scoped>\n",
       "    .dataframe tbody tr th:only-of-type {\n",
       "        vertical-align: middle;\n",
       "    }\n",
       "\n",
       "    .dataframe tbody tr th {\n",
       "        vertical-align: top;\n",
       "    }\n",
       "\n",
       "    .dataframe thead th {\n",
       "        text-align: right;\n",
       "    }\n",
       "</style>\n",
       "<table border=\"1\" class=\"dataframe\">\n",
       "  <thead>\n",
       "    <tr style=\"text-align: right;\">\n",
       "      <th></th>\n",
       "      <th>striker</th>\n",
       "      <th>Batting_Team</th>\n",
       "      <th>runs_off_bat</th>\n",
       "    </tr>\n",
       "  </thead>\n",
       "  <tbody>\n",
       "    <tr>\n",
       "      <th>0</th>\n",
       "      <td>BA Carse</td>\n",
       "      <td>England</td>\n",
       "      <td>3</td>\n",
       "    </tr>\n",
       "    <tr>\n",
       "      <th>1</th>\n",
       "      <td>BA Stokes</td>\n",
       "      <td>England</td>\n",
       "      <td>27</td>\n",
       "    </tr>\n",
       "    <tr>\n",
       "      <th>2</th>\n",
       "      <td>C Overton</td>\n",
       "      <td>England</td>\n",
       "      <td>32</td>\n",
       "    </tr>\n",
       "    <tr>\n",
       "      <th>3</th>\n",
       "      <td>DJ Willey</td>\n",
       "      <td>England</td>\n",
       "      <td>18</td>\n",
       "    </tr>\n",
       "    <tr>\n",
       "      <th>4</th>\n",
       "      <td>HH Pandya</td>\n",
       "      <td>India</td>\n",
       "      <td>71</td>\n",
       "    </tr>\n",
       "  </tbody>\n",
       "</table>\n",
       "</div>"
      ],
      "text/plain": [
       "     striker Batting_Team  runs_off_bat\n",
       "0   BA Carse      England             3\n",
       "1  BA Stokes      England            27\n",
       "2  C Overton      England            32\n",
       "3  DJ Willey      England            18\n",
       "4  HH Pandya        India            71"
      ]
     },
     "execution_count": 10,
     "metadata": {},
     "output_type": "execute_result"
    }
   ],
   "source": [
    "df1=df.groupby(by=['striker','Batting_Team'],as_index=False).agg({'runs_off_bat':'sum'})\n",
    "df1.head() # Performed groupby to group each player and their respective country!"
   ]
  },
  {
   "cell_type": "markdown",
   "id": "87c6561a",
   "metadata": {},
   "source": [
    "#### Initialising new dataframe to calculate the \"Total Balls Faced\" by each batsman from both teams"
   ]
  },
  {
   "cell_type": "code",
   "execution_count": 11,
   "id": "bdc30176",
   "metadata": {},
   "outputs": [],
   "source": [
    "df2=df.groupby(by=['striker','Batting_Team'],as_index=False).agg({\"runs_off_bat\":'count','wides':'count',\"noballs\":'sum'})"
   ]
  },
  {
   "cell_type": "code",
   "execution_count": 12,
   "id": "b0ed0852",
   "metadata": {},
   "outputs": [],
   "source": [
    "# To accurately count the number of balls faced, wides count has been removed according to laws of cricket\n",
    "df2['Balls_faced']= df2['runs_off_bat']-df2['wides']"
   ]
  },
  {
   "cell_type": "code",
   "execution_count": 13,
   "id": "33c446f9",
   "metadata": {},
   "outputs": [
    {
     "data": {
      "text/html": [
       "<div>\n",
       "<style scoped>\n",
       "    .dataframe tbody tr th:only-of-type {\n",
       "        vertical-align: middle;\n",
       "    }\n",
       "\n",
       "    .dataframe tbody tr th {\n",
       "        vertical-align: top;\n",
       "    }\n",
       "\n",
       "    .dataframe thead th {\n",
       "        text-align: right;\n",
       "    }\n",
       "</style>\n",
       "<table border=\"1\" class=\"dataframe\">\n",
       "  <thead>\n",
       "    <tr style=\"text-align: right;\">\n",
       "      <th></th>\n",
       "      <th>striker</th>\n",
       "      <th>Batting_Team</th>\n",
       "      <th>Balls_faced</th>\n",
       "    </tr>\n",
       "  </thead>\n",
       "  <tbody>\n",
       "    <tr>\n",
       "      <th>0</th>\n",
       "      <td>BA Carse</td>\n",
       "      <td>England</td>\n",
       "      <td>7</td>\n",
       "    </tr>\n",
       "    <tr>\n",
       "      <th>1</th>\n",
       "      <td>BA Stokes</td>\n",
       "      <td>England</td>\n",
       "      <td>29</td>\n",
       "    </tr>\n",
       "    <tr>\n",
       "      <th>2</th>\n",
       "      <td>C Overton</td>\n",
       "      <td>England</td>\n",
       "      <td>33</td>\n",
       "    </tr>\n",
       "    <tr>\n",
       "      <th>3</th>\n",
       "      <td>DJ Willey</td>\n",
       "      <td>England</td>\n",
       "      <td>15</td>\n",
       "    </tr>\n",
       "    <tr>\n",
       "      <th>4</th>\n",
       "      <td>HH Pandya</td>\n",
       "      <td>India</td>\n",
       "      <td>55</td>\n",
       "    </tr>\n",
       "  </tbody>\n",
       "</table>\n",
       "</div>"
      ],
      "text/plain": [
       "     striker Batting_Team  Balls_faced\n",
       "0   BA Carse      England            7\n",
       "1  BA Stokes      England           29\n",
       "2  C Overton      England           33\n",
       "3  DJ Willey      England           15\n",
       "4  HH Pandya        India           55"
      ]
     },
     "execution_count": 13,
     "metadata": {},
     "output_type": "execute_result"
    }
   ],
   "source": [
    "#Dropped the wides and noballs columns which don't make sense anymore!!!\n",
    "df2.drop(['runs_off_bat','wides','noballs'],axis=1,inplace=True)\n",
    "df2.head() "
   ]
  },
  {
   "cell_type": "markdown",
   "id": "27b1027f",
   "metadata": {},
   "source": [
    "#### Creating a new dataframe 'batsman' merging both df1,df2 to get runs scored and balls faced in same dataframe"
   ]
  },
  {
   "cell_type": "code",
   "execution_count": 14,
   "id": "b34f6e80",
   "metadata": {},
   "outputs": [],
   "source": [
    "# Merging the dataframes using merge method\n",
    "batsman = pd.merge(df1,df2,on=['striker','Batting_Team'])"
   ]
  },
  {
   "cell_type": "code",
   "execution_count": 15,
   "id": "3bfc6471",
   "metadata": {},
   "outputs": [
    {
     "data": {
      "text/html": [
       "<div>\n",
       "<style scoped>\n",
       "    .dataframe tbody tr th:only-of-type {\n",
       "        vertical-align: middle;\n",
       "    }\n",
       "\n",
       "    .dataframe tbody tr th {\n",
       "        vertical-align: top;\n",
       "    }\n",
       "\n",
       "    .dataframe thead th {\n",
       "        text-align: right;\n",
       "    }\n",
       "</style>\n",
       "<table border=\"1\" class=\"dataframe\">\n",
       "  <thead>\n",
       "    <tr style=\"text-align: right;\">\n",
       "      <th></th>\n",
       "      <th>striker</th>\n",
       "      <th>Batting_Team</th>\n",
       "      <th>runs_off_bat</th>\n",
       "      <th>Balls_faced</th>\n",
       "    </tr>\n",
       "  </thead>\n",
       "  <tbody>\n",
       "    <tr>\n",
       "      <th>0</th>\n",
       "      <td>BA Carse</td>\n",
       "      <td>England</td>\n",
       "      <td>3</td>\n",
       "      <td>7</td>\n",
       "    </tr>\n",
       "    <tr>\n",
       "      <th>1</th>\n",
       "      <td>BA Stokes</td>\n",
       "      <td>England</td>\n",
       "      <td>27</td>\n",
       "      <td>29</td>\n",
       "    </tr>\n",
       "    <tr>\n",
       "      <th>2</th>\n",
       "      <td>C Overton</td>\n",
       "      <td>England</td>\n",
       "      <td>32</td>\n",
       "      <td>33</td>\n",
       "    </tr>\n",
       "    <tr>\n",
       "      <th>3</th>\n",
       "      <td>DJ Willey</td>\n",
       "      <td>England</td>\n",
       "      <td>18</td>\n",
       "      <td>15</td>\n",
       "    </tr>\n",
       "    <tr>\n",
       "      <th>4</th>\n",
       "      <td>HH Pandya</td>\n",
       "      <td>India</td>\n",
       "      <td>71</td>\n",
       "      <td>55</td>\n",
       "    </tr>\n",
       "  </tbody>\n",
       "</table>\n",
       "</div>"
      ],
      "text/plain": [
       "     striker Batting_Team  runs_off_bat  Balls_faced\n",
       "0   BA Carse      England             3            7\n",
       "1  BA Stokes      England            27           29\n",
       "2  C Overton      England            32           33\n",
       "3  DJ Willey      England            18           15\n",
       "4  HH Pandya        India            71           55"
      ]
     },
     "execution_count": 15,
     "metadata": {},
     "output_type": "execute_result"
    }
   ],
   "source": [
    "batsman.head()"
   ]
  },
  {
   "cell_type": "code",
   "execution_count": 16,
   "id": "e04f5e8b",
   "metadata": {},
   "outputs": [],
   "source": [
    "# Calculating the total team score of England\n",
    "batsman['England_Score'] = df[df['Batting_Team']=='England'] \\\n",
    ".agg({'runs_off_bat':'sum','wides':'sum','noballs':'sum','byes':'sum','legbyes':'sum'}) \\\n",
    ".sum().astype(int)"
   ]
  },
  {
   "cell_type": "code",
   "execution_count": 17,
   "id": "a7797877",
   "metadata": {},
   "outputs": [],
   "source": [
    "# Calculating the total team score of India\n",
    "batsman['India_Score'] = df[df['Batting_Team']=='India'] \\\n",
    ".agg({'runs_off_bat':'sum','wides':'sum','noballs':'sum','byes':'sum','legbyes':'sum'}) \\\n",
    ".sum().astype(int)"
   ]
  },
  {
   "cell_type": "code",
   "execution_count": 18,
   "id": "8c43b1a4",
   "metadata": {},
   "outputs": [
    {
     "data": {
      "text/html": [
       "<div>\n",
       "<style scoped>\n",
       "    .dataframe tbody tr th:only-of-type {\n",
       "        vertical-align: middle;\n",
       "    }\n",
       "\n",
       "    .dataframe tbody tr th {\n",
       "        vertical-align: top;\n",
       "    }\n",
       "\n",
       "    .dataframe thead th {\n",
       "        text-align: right;\n",
       "    }\n",
       "</style>\n",
       "<table border=\"1\" class=\"dataframe\">\n",
       "  <thead>\n",
       "    <tr style=\"text-align: right;\">\n",
       "      <th></th>\n",
       "      <th>match_id</th>\n",
       "      <th>season</th>\n",
       "      <th>start_date</th>\n",
       "      <th>venue</th>\n",
       "      <th>innings</th>\n",
       "      <th>ball</th>\n",
       "      <th>Batting_Team</th>\n",
       "      <th>Bowling_Team</th>\n",
       "      <th>striker</th>\n",
       "      <th>non_striker</th>\n",
       "      <th>...</th>\n",
       "      <th>extras</th>\n",
       "      <th>wides</th>\n",
       "      <th>noballs</th>\n",
       "      <th>byes</th>\n",
       "      <th>legbyes</th>\n",
       "      <th>penalty</th>\n",
       "      <th>wicket_type</th>\n",
       "      <th>player_dismissed</th>\n",
       "      <th>other_wicket_type</th>\n",
       "      <th>other_player_dismissed</th>\n",
       "    </tr>\n",
       "  </thead>\n",
       "  <tbody>\n",
       "    <tr>\n",
       "      <th>0</th>\n",
       "      <td>1276909</td>\n",
       "      <td>2022</td>\n",
       "      <td>2022-07-17</td>\n",
       "      <td>Old Trafford, Manchester</td>\n",
       "      <td>1</td>\n",
       "      <td>0.1</td>\n",
       "      <td>England</td>\n",
       "      <td>India</td>\n",
       "      <td>JJ Roy</td>\n",
       "      <td>JM Bairstow</td>\n",
       "      <td>...</td>\n",
       "      <td>0</td>\n",
       "      <td>NaN</td>\n",
       "      <td>NaN</td>\n",
       "      <td>NaN</td>\n",
       "      <td>NaN</td>\n",
       "      <td>NaN</td>\n",
       "      <td>NaN</td>\n",
       "      <td>NaN</td>\n",
       "      <td>NaN</td>\n",
       "      <td>NaN</td>\n",
       "    </tr>\n",
       "    <tr>\n",
       "      <th>1</th>\n",
       "      <td>1276909</td>\n",
       "      <td>2022</td>\n",
       "      <td>2022-07-17</td>\n",
       "      <td>Old Trafford, Manchester</td>\n",
       "      <td>1</td>\n",
       "      <td>0.2</td>\n",
       "      <td>England</td>\n",
       "      <td>India</td>\n",
       "      <td>JJ Roy</td>\n",
       "      <td>JM Bairstow</td>\n",
       "      <td>...</td>\n",
       "      <td>0</td>\n",
       "      <td>NaN</td>\n",
       "      <td>NaN</td>\n",
       "      <td>NaN</td>\n",
       "      <td>NaN</td>\n",
       "      <td>NaN</td>\n",
       "      <td>NaN</td>\n",
       "      <td>NaN</td>\n",
       "      <td>NaN</td>\n",
       "      <td>NaN</td>\n",
       "    </tr>\n",
       "    <tr>\n",
       "      <th>2</th>\n",
       "      <td>1276909</td>\n",
       "      <td>2022</td>\n",
       "      <td>2022-07-17</td>\n",
       "      <td>Old Trafford, Manchester</td>\n",
       "      <td>1</td>\n",
       "      <td>0.3</td>\n",
       "      <td>England</td>\n",
       "      <td>India</td>\n",
       "      <td>JJ Roy</td>\n",
       "      <td>JM Bairstow</td>\n",
       "      <td>...</td>\n",
       "      <td>0</td>\n",
       "      <td>NaN</td>\n",
       "      <td>NaN</td>\n",
       "      <td>NaN</td>\n",
       "      <td>NaN</td>\n",
       "      <td>NaN</td>\n",
       "      <td>NaN</td>\n",
       "      <td>NaN</td>\n",
       "      <td>NaN</td>\n",
       "      <td>NaN</td>\n",
       "    </tr>\n",
       "    <tr>\n",
       "      <th>3</th>\n",
       "      <td>1276909</td>\n",
       "      <td>2022</td>\n",
       "      <td>2022-07-17</td>\n",
       "      <td>Old Trafford, Manchester</td>\n",
       "      <td>1</td>\n",
       "      <td>0.4</td>\n",
       "      <td>England</td>\n",
       "      <td>India</td>\n",
       "      <td>JJ Roy</td>\n",
       "      <td>JM Bairstow</td>\n",
       "      <td>...</td>\n",
       "      <td>0</td>\n",
       "      <td>NaN</td>\n",
       "      <td>NaN</td>\n",
       "      <td>NaN</td>\n",
       "      <td>NaN</td>\n",
       "      <td>NaN</td>\n",
       "      <td>NaN</td>\n",
       "      <td>NaN</td>\n",
       "      <td>NaN</td>\n",
       "      <td>NaN</td>\n",
       "    </tr>\n",
       "    <tr>\n",
       "      <th>4</th>\n",
       "      <td>1276909</td>\n",
       "      <td>2022</td>\n",
       "      <td>2022-07-17</td>\n",
       "      <td>Old Trafford, Manchester</td>\n",
       "      <td>1</td>\n",
       "      <td>0.5</td>\n",
       "      <td>England</td>\n",
       "      <td>India</td>\n",
       "      <td>JJ Roy</td>\n",
       "      <td>JM Bairstow</td>\n",
       "      <td>...</td>\n",
       "      <td>0</td>\n",
       "      <td>NaN</td>\n",
       "      <td>NaN</td>\n",
       "      <td>NaN</td>\n",
       "      <td>NaN</td>\n",
       "      <td>NaN</td>\n",
       "      <td>NaN</td>\n",
       "      <td>NaN</td>\n",
       "      <td>NaN</td>\n",
       "      <td>NaN</td>\n",
       "    </tr>\n",
       "  </tbody>\n",
       "</table>\n",
       "<p>5 rows × 22 columns</p>\n",
       "</div>"
      ],
      "text/plain": [
       "   match_id  season  start_date                     venue  innings  ball  \\\n",
       "0   1276909    2022  2022-07-17  Old Trafford, Manchester        1   0.1   \n",
       "1   1276909    2022  2022-07-17  Old Trafford, Manchester        1   0.2   \n",
       "2   1276909    2022  2022-07-17  Old Trafford, Manchester        1   0.3   \n",
       "3   1276909    2022  2022-07-17  Old Trafford, Manchester        1   0.4   \n",
       "4   1276909    2022  2022-07-17  Old Trafford, Manchester        1   0.5   \n",
       "\n",
       "  Batting_Team Bowling_Team striker  non_striker  ... extras  wides  noballs  \\\n",
       "0      England        India  JJ Roy  JM Bairstow  ...      0    NaN      NaN   \n",
       "1      England        India  JJ Roy  JM Bairstow  ...      0    NaN      NaN   \n",
       "2      England        India  JJ Roy  JM Bairstow  ...      0    NaN      NaN   \n",
       "3      England        India  JJ Roy  JM Bairstow  ...      0    NaN      NaN   \n",
       "4      England        India  JJ Roy  JM Bairstow  ...      0    NaN      NaN   \n",
       "\n",
       "   byes  legbyes  penalty  wicket_type  player_dismissed other_wicket_type  \\\n",
       "0   NaN      NaN      NaN          NaN               NaN               NaN   \n",
       "1   NaN      NaN      NaN          NaN               NaN               NaN   \n",
       "2   NaN      NaN      NaN          NaN               NaN               NaN   \n",
       "3   NaN      NaN      NaN          NaN               NaN               NaN   \n",
       "4   NaN      NaN      NaN          NaN               NaN               NaN   \n",
       "\n",
       "  other_player_dismissed  \n",
       "0                    NaN  \n",
       "1                    NaN  \n",
       "2                    NaN  \n",
       "3                    NaN  \n",
       "4                    NaN  \n",
       "\n",
       "[5 rows x 22 columns]"
      ]
     },
     "execution_count": 18,
     "metadata": {},
     "output_type": "execute_result"
    }
   ],
   "source": [
    "df.head()"
   ]
  },
  {
   "cell_type": "markdown",
   "id": "bef74039",
   "metadata": {},
   "source": [
    "#### Calculating Runs_ratio, Strike Rate of the batsman with respective to team score"
   ]
  },
  {
   "cell_type": "code",
   "execution_count": 19,
   "id": "8f101a78",
   "metadata": {},
   "outputs": [],
   "source": [
    "batsman.loc[batsman['Batting_Team'] == 'England','Runs_Ratio'] = np.round(batsman['runs_off_bat']/259,2)\n",
    "batsman.loc[batsman['Batting_Team'] == 'India','Runs_Ratio'] = np.round(batsman['runs_off_bat']/261,2)"
   ]
  },
  {
   "cell_type": "code",
   "execution_count": 20,
   "id": "89398827",
   "metadata": {},
   "outputs": [
    {
     "data": {
      "text/html": [
       "<div>\n",
       "<style scoped>\n",
       "    .dataframe tbody tr th:only-of-type {\n",
       "        vertical-align: middle;\n",
       "    }\n",
       "\n",
       "    .dataframe tbody tr th {\n",
       "        vertical-align: top;\n",
       "    }\n",
       "\n",
       "    .dataframe thead th {\n",
       "        text-align: right;\n",
       "    }\n",
       "</style>\n",
       "<table border=\"1\" class=\"dataframe\">\n",
       "  <thead>\n",
       "    <tr style=\"text-align: right;\">\n",
       "      <th></th>\n",
       "      <th>striker</th>\n",
       "      <th>Batting_Team</th>\n",
       "      <th>runs_off_bat</th>\n",
       "      <th>Balls_faced</th>\n",
       "      <th>England_Score</th>\n",
       "      <th>India_Score</th>\n",
       "      <th>Runs_Ratio</th>\n",
       "    </tr>\n",
       "  </thead>\n",
       "  <tbody>\n",
       "    <tr>\n",
       "      <th>0</th>\n",
       "      <td>BA Carse</td>\n",
       "      <td>England</td>\n",
       "      <td>3</td>\n",
       "      <td>7</td>\n",
       "      <td>259</td>\n",
       "      <td>261</td>\n",
       "      <td>0.01</td>\n",
       "    </tr>\n",
       "    <tr>\n",
       "      <th>1</th>\n",
       "      <td>BA Stokes</td>\n",
       "      <td>England</td>\n",
       "      <td>27</td>\n",
       "      <td>29</td>\n",
       "      <td>259</td>\n",
       "      <td>261</td>\n",
       "      <td>0.10</td>\n",
       "    </tr>\n",
       "    <tr>\n",
       "      <th>2</th>\n",
       "      <td>C Overton</td>\n",
       "      <td>England</td>\n",
       "      <td>32</td>\n",
       "      <td>33</td>\n",
       "      <td>259</td>\n",
       "      <td>261</td>\n",
       "      <td>0.12</td>\n",
       "    </tr>\n",
       "    <tr>\n",
       "      <th>3</th>\n",
       "      <td>DJ Willey</td>\n",
       "      <td>England</td>\n",
       "      <td>18</td>\n",
       "      <td>15</td>\n",
       "      <td>259</td>\n",
       "      <td>261</td>\n",
       "      <td>0.07</td>\n",
       "    </tr>\n",
       "    <tr>\n",
       "      <th>4</th>\n",
       "      <td>HH Pandya</td>\n",
       "      <td>India</td>\n",
       "      <td>71</td>\n",
       "      <td>55</td>\n",
       "      <td>259</td>\n",
       "      <td>261</td>\n",
       "      <td>0.27</td>\n",
       "    </tr>\n",
       "  </tbody>\n",
       "</table>\n",
       "</div>"
      ],
      "text/plain": [
       "     striker Batting_Team  runs_off_bat  Balls_faced  England_Score  \\\n",
       "0   BA Carse      England             3            7            259   \n",
       "1  BA Stokes      England            27           29            259   \n",
       "2  C Overton      England            32           33            259   \n",
       "3  DJ Willey      England            18           15            259   \n",
       "4  HH Pandya        India            71           55            259   \n",
       "\n",
       "   India_Score  Runs_Ratio  \n",
       "0          261        0.01  \n",
       "1          261        0.10  \n",
       "2          261        0.12  \n",
       "3          261        0.07  \n",
       "4          261        0.27  "
      ]
     },
     "execution_count": 20,
     "metadata": {},
     "output_type": "execute_result"
    }
   ],
   "source": [
    "batsman.head()"
   ]
  },
  {
   "cell_type": "code",
   "execution_count": 21,
   "id": "75cac644",
   "metadata": {},
   "outputs": [],
   "source": [
    "# Calculating the StrikeRate\n",
    "batsman['Strike_rate']=np.round(100*(batsman['runs_off_bat']/batsman['Balls_faced']),2)"
   ]
  },
  {
   "cell_type": "code",
   "execution_count": 22,
   "id": "53923478",
   "metadata": {},
   "outputs": [
    {
     "data": {
      "text/html": [
       "<div>\n",
       "<style scoped>\n",
       "    .dataframe tbody tr th:only-of-type {\n",
       "        vertical-align: middle;\n",
       "    }\n",
       "\n",
       "    .dataframe tbody tr th {\n",
       "        vertical-align: top;\n",
       "    }\n",
       "\n",
       "    .dataframe thead th {\n",
       "        text-align: right;\n",
       "    }\n",
       "</style>\n",
       "<table border=\"1\" class=\"dataframe\">\n",
       "  <thead>\n",
       "    <tr style=\"text-align: right;\">\n",
       "      <th></th>\n",
       "      <th>striker</th>\n",
       "      <th>Batting_Team</th>\n",
       "      <th>runs_off_bat</th>\n",
       "      <th>Balls_faced</th>\n",
       "      <th>England_Score</th>\n",
       "      <th>India_Score</th>\n",
       "      <th>Runs_Ratio</th>\n",
       "      <th>Strike_rate</th>\n",
       "    </tr>\n",
       "  </thead>\n",
       "  <tbody>\n",
       "    <tr>\n",
       "      <th>0</th>\n",
       "      <td>BA Carse</td>\n",
       "      <td>England</td>\n",
       "      <td>3</td>\n",
       "      <td>7</td>\n",
       "      <td>259</td>\n",
       "      <td>261</td>\n",
       "      <td>0.01</td>\n",
       "      <td>42.86</td>\n",
       "    </tr>\n",
       "    <tr>\n",
       "      <th>1</th>\n",
       "      <td>BA Stokes</td>\n",
       "      <td>England</td>\n",
       "      <td>27</td>\n",
       "      <td>29</td>\n",
       "      <td>259</td>\n",
       "      <td>261</td>\n",
       "      <td>0.10</td>\n",
       "      <td>93.10</td>\n",
       "    </tr>\n",
       "    <tr>\n",
       "      <th>2</th>\n",
       "      <td>C Overton</td>\n",
       "      <td>England</td>\n",
       "      <td>32</td>\n",
       "      <td>33</td>\n",
       "      <td>259</td>\n",
       "      <td>261</td>\n",
       "      <td>0.12</td>\n",
       "      <td>96.97</td>\n",
       "    </tr>\n",
       "    <tr>\n",
       "      <th>3</th>\n",
       "      <td>DJ Willey</td>\n",
       "      <td>England</td>\n",
       "      <td>18</td>\n",
       "      <td>15</td>\n",
       "      <td>259</td>\n",
       "      <td>261</td>\n",
       "      <td>0.07</td>\n",
       "      <td>120.00</td>\n",
       "    </tr>\n",
       "    <tr>\n",
       "      <th>4</th>\n",
       "      <td>HH Pandya</td>\n",
       "      <td>India</td>\n",
       "      <td>71</td>\n",
       "      <td>55</td>\n",
       "      <td>259</td>\n",
       "      <td>261</td>\n",
       "      <td>0.27</td>\n",
       "      <td>129.09</td>\n",
       "    </tr>\n",
       "  </tbody>\n",
       "</table>\n",
       "</div>"
      ],
      "text/plain": [
       "     striker Batting_Team  runs_off_bat  Balls_faced  England_Score  \\\n",
       "0   BA Carse      England             3            7            259   \n",
       "1  BA Stokes      England            27           29            259   \n",
       "2  C Overton      England            32           33            259   \n",
       "3  DJ Willey      England            18           15            259   \n",
       "4  HH Pandya        India            71           55            259   \n",
       "\n",
       "   India_Score  Runs_Ratio  Strike_rate  \n",
       "0          261        0.01        42.86  \n",
       "1          261        0.10        93.10  \n",
       "2          261        0.12        96.97  \n",
       "3          261        0.07       120.00  \n",
       "4          261        0.27       129.09  "
      ]
     },
     "execution_count": 22,
     "metadata": {},
     "output_type": "execute_result"
    }
   ],
   "source": [
    "batsman.head(5)"
   ]
  },
  {
   "cell_type": "code",
   "execution_count": 23,
   "id": "cd41c706",
   "metadata": {},
   "outputs": [
    {
     "data": {
      "text/html": [
       "<div>\n",
       "<style scoped>\n",
       "    .dataframe tbody tr th:only-of-type {\n",
       "        vertical-align: middle;\n",
       "    }\n",
       "\n",
       "    .dataframe tbody tr th {\n",
       "        vertical-align: top;\n",
       "    }\n",
       "\n",
       "    .dataframe thead th {\n",
       "        text-align: right;\n",
       "    }\n",
       "</style>\n",
       "<table border=\"1\" class=\"dataframe\">\n",
       "  <thead>\n",
       "    <tr style=\"text-align: right;\">\n",
       "      <th></th>\n",
       "      <th>striker</th>\n",
       "      <th>Batting_Team</th>\n",
       "      <th>runs_off_bat</th>\n",
       "      <th>Balls_faced</th>\n",
       "      <th>England_Score</th>\n",
       "      <th>India_Score</th>\n",
       "      <th>Runs_Ratio</th>\n",
       "      <th>Strike_rate</th>\n",
       "      <th>Runs_off_bat</th>\n",
       "      <th>Strike_Rate</th>\n",
       "    </tr>\n",
       "  </thead>\n",
       "  <tbody>\n",
       "    <tr>\n",
       "      <th>0</th>\n",
       "      <td>BA Carse</td>\n",
       "      <td>England</td>\n",
       "      <td>3</td>\n",
       "      <td>7</td>\n",
       "      <td>259</td>\n",
       "      <td>261</td>\n",
       "      <td>0.01</td>\n",
       "      <td>42.86</td>\n",
       "      <td>3</td>\n",
       "      <td>42.86</td>\n",
       "    </tr>\n",
       "    <tr>\n",
       "      <th>1</th>\n",
       "      <td>BA Stokes</td>\n",
       "      <td>England</td>\n",
       "      <td>27</td>\n",
       "      <td>29</td>\n",
       "      <td>259</td>\n",
       "      <td>261</td>\n",
       "      <td>0.10</td>\n",
       "      <td>93.10</td>\n",
       "      <td>27</td>\n",
       "      <td>93.10</td>\n",
       "    </tr>\n",
       "    <tr>\n",
       "      <th>2</th>\n",
       "      <td>C Overton</td>\n",
       "      <td>England</td>\n",
       "      <td>32</td>\n",
       "      <td>33</td>\n",
       "      <td>259</td>\n",
       "      <td>261</td>\n",
       "      <td>0.12</td>\n",
       "      <td>96.97</td>\n",
       "      <td>32</td>\n",
       "      <td>96.97</td>\n",
       "    </tr>\n",
       "    <tr>\n",
       "      <th>3</th>\n",
       "      <td>DJ Willey</td>\n",
       "      <td>England</td>\n",
       "      <td>18</td>\n",
       "      <td>15</td>\n",
       "      <td>259</td>\n",
       "      <td>261</td>\n",
       "      <td>0.07</td>\n",
       "      <td>120.00</td>\n",
       "      <td>18</td>\n",
       "      <td>120.00</td>\n",
       "    </tr>\n",
       "    <tr>\n",
       "      <th>4</th>\n",
       "      <td>HH Pandya</td>\n",
       "      <td>India</td>\n",
       "      <td>71</td>\n",
       "      <td>55</td>\n",
       "      <td>259</td>\n",
       "      <td>261</td>\n",
       "      <td>0.27</td>\n",
       "      <td>129.09</td>\n",
       "      <td>71</td>\n",
       "      <td>129.09</td>\n",
       "    </tr>\n",
       "  </tbody>\n",
       "</table>\n",
       "</div>"
      ],
      "text/plain": [
       "     striker Batting_Team  runs_off_bat  Balls_faced  England_Score  \\\n",
       "0   BA Carse      England             3            7            259   \n",
       "1  BA Stokes      England            27           29            259   \n",
       "2  C Overton      England            32           33            259   \n",
       "3  DJ Willey      England            18           15            259   \n",
       "4  HH Pandya        India            71           55            259   \n",
       "\n",
       "   India_Score  Runs_Ratio  Strike_rate  Runs_off_bat  Strike_Rate  \n",
       "0          261        0.01        42.86             3        42.86  \n",
       "1          261        0.10        93.10            27        93.10  \n",
       "2          261        0.12        96.97            32        96.97  \n",
       "3          261        0.07       120.00            18       120.00  \n",
       "4          261        0.27       129.09            71       129.09  "
      ]
     },
     "execution_count": 23,
     "metadata": {},
     "output_type": "execute_result"
    }
   ],
   "source": [
    "Batsman_Ratings=batsman\n",
    "Batsman_Ratings['Runs_off_bat'] = batsman['runs_off_bat']\n",
    "Batsman_Ratings['Strike_Rate'] = batsman['Strike_rate']\n",
    "Batsman_Ratings.head()"
   ]
  },
  {
   "cell_type": "markdown",
   "id": "2fe845ea",
   "metadata": {},
   "source": [
    "### Importing MinMaxScaler to scale runs, strike rate, runs ratio !!!"
   ]
  },
  {
   "cell_type": "code",
   "execution_count": 24,
   "id": "b0b5bbd1",
   "metadata": {},
   "outputs": [],
   "source": [
    "from sklearn.preprocessing import MinMaxScaler #import minmaxscaler()\n",
    "\n",
    "scaler = MinMaxScaler()\n",
    "\n",
    "def myfunc(batsman, x): # Function to perform minmaxscaler on each row\n",
    "    for i in x:\n",
    "        batsman[i] = pd.DataFrame(scaler.fit_transform(pd.DataFrame(batsman[i])))\n",
    "    return batsman\n",
    "\n",
    "Batsman_Ratings = batsman\n",
    "Batsman_Ratings = myfunc(Batsman_Ratings,['runs_off_bat'])\n",
    "Batsman_Ratings.rename(columns={'runs_off_bat':'Scaled_runs'},inplace=True)"
   ]
  },
  {
   "cell_type": "code",
   "execution_count": 25,
   "id": "f7564486",
   "metadata": {},
   "outputs": [],
   "source": [
    "Batsman_Ratings = myfunc(Batsman_Ratings,['Strike_rate'])\n",
    "# Renaming the columns\n",
    "Batsman_Ratings.rename(columns={'Strike_rate':'Scaled_Strike_Rate'},inplace=True)"
   ]
  },
  {
   "cell_type": "markdown",
   "id": "7da71db8",
   "metadata": {},
   "source": [
    "### Calculating the Batsman Rating considering weightage of 0.33 for each criteria"
   ]
  },
  {
   "cell_type": "code",
   "execution_count": 26,
   "id": "e07bd3d1",
   "metadata": {},
   "outputs": [],
   "source": [
    "Batsman_Ratings['Final_Rating']= round(100 * ((0.33 * Batsman_Ratings['Runs_Ratio'])\\\n",
    "                                    + (0.33 * Batsman_Ratings['Scaled_Strike_Rate']) + \\\n",
    "                                    (0.33 * Batsman_Ratings['Scaled_runs'])),2)\n",
    "# calculating the rating"
   ]
  },
  {
   "cell_type": "code",
   "execution_count": 27,
   "id": "06a1a796",
   "metadata": {},
   "outputs": [],
   "source": [
    "Batsman_Ratings.rename(columns={'striker':'Player','Batting_Team':'Team'},inplace=True)"
   ]
  },
  {
   "cell_type": "code",
   "execution_count": 28,
   "id": "5482e2b9",
   "metadata": {},
   "outputs": [],
   "source": [
    "Batsman_Ratings.drop(['England_Score','India_Score'],axis=1,inplace=True)"
   ]
  },
  {
   "cell_type": "code",
   "execution_count": 29,
   "id": "8573e328",
   "metadata": {},
   "outputs": [
    {
     "data": {
      "text/html": [
       "<div>\n",
       "<style scoped>\n",
       "    .dataframe tbody tr th:only-of-type {\n",
       "        vertical-align: middle;\n",
       "    }\n",
       "\n",
       "    .dataframe tbody tr th {\n",
       "        vertical-align: top;\n",
       "    }\n",
       "\n",
       "    .dataframe thead th {\n",
       "        text-align: right;\n",
       "    }\n",
       "</style>\n",
       "<table border=\"1\" class=\"dataframe\">\n",
       "  <thead>\n",
       "    <tr style=\"text-align: right;\">\n",
       "      <th></th>\n",
       "      <th>Player</th>\n",
       "      <th>Team</th>\n",
       "      <th>Scaled_runs</th>\n",
       "      <th>Balls_faced</th>\n",
       "      <th>Runs_Ratio</th>\n",
       "      <th>Scaled_Strike_Rate</th>\n",
       "      <th>Runs_off_bat</th>\n",
       "      <th>Strike_Rate</th>\n",
       "      <th>Final_Rating</th>\n",
       "    </tr>\n",
       "  </thead>\n",
       "  <tbody>\n",
       "    <tr>\n",
       "      <th>0</th>\n",
       "      <td>BA Carse</td>\n",
       "      <td>England</td>\n",
       "      <td>0.024</td>\n",
       "      <td>7</td>\n",
       "      <td>0.01</td>\n",
       "      <td>0.324059</td>\n",
       "      <td>3</td>\n",
       "      <td>42.86</td>\n",
       "      <td>11.82</td>\n",
       "    </tr>\n",
       "    <tr>\n",
       "      <th>1</th>\n",
       "      <td>BA Stokes</td>\n",
       "      <td>England</td>\n",
       "      <td>0.216</td>\n",
       "      <td>29</td>\n",
       "      <td>0.10</td>\n",
       "      <td>0.703917</td>\n",
       "      <td>27</td>\n",
       "      <td>93.10</td>\n",
       "      <td>33.66</td>\n",
       "    </tr>\n",
       "    <tr>\n",
       "      <th>2</th>\n",
       "      <td>C Overton</td>\n",
       "      <td>England</td>\n",
       "      <td>0.256</td>\n",
       "      <td>33</td>\n",
       "      <td>0.12</td>\n",
       "      <td>0.733177</td>\n",
       "      <td>32</td>\n",
       "      <td>96.97</td>\n",
       "      <td>36.60</td>\n",
       "    </tr>\n",
       "    <tr>\n",
       "      <th>3</th>\n",
       "      <td>DJ Willey</td>\n",
       "      <td>England</td>\n",
       "      <td>0.144</td>\n",
       "      <td>15</td>\n",
       "      <td>0.07</td>\n",
       "      <td>0.907304</td>\n",
       "      <td>18</td>\n",
       "      <td>120.00</td>\n",
       "      <td>37.00</td>\n",
       "    </tr>\n",
       "    <tr>\n",
       "      <th>4</th>\n",
       "      <td>HH Pandya</td>\n",
       "      <td>India</td>\n",
       "      <td>0.568</td>\n",
       "      <td>55</td>\n",
       "      <td>0.27</td>\n",
       "      <td>0.976032</td>\n",
       "      <td>71</td>\n",
       "      <td>129.09</td>\n",
       "      <td>59.86</td>\n",
       "    </tr>\n",
       "  </tbody>\n",
       "</table>\n",
       "</div>"
      ],
      "text/plain": [
       "      Player     Team  Scaled_runs  Balls_faced  Runs_Ratio  \\\n",
       "0   BA Carse  England        0.024            7        0.01   \n",
       "1  BA Stokes  England        0.216           29        0.10   \n",
       "2  C Overton  England        0.256           33        0.12   \n",
       "3  DJ Willey  England        0.144           15        0.07   \n",
       "4  HH Pandya    India        0.568           55        0.27   \n",
       "\n",
       "   Scaled_Strike_Rate  Runs_off_bat  Strike_Rate  Final_Rating  \n",
       "0            0.324059             3        42.86         11.82  \n",
       "1            0.703917            27        93.10         33.66  \n",
       "2            0.733177            32        96.97         36.60  \n",
       "3            0.907304            18       120.00         37.00  \n",
       "4            0.976032            71       129.09         59.86  "
      ]
     },
     "execution_count": 29,
     "metadata": {},
     "output_type": "execute_result"
    }
   ],
   "source": [
    "Batsman_Ratings.head()"
   ]
  },
  {
   "cell_type": "markdown",
   "id": "e3399508",
   "metadata": {},
   "source": [
    "## Plotting the barplot of Batsman from both countries with their respective Batsman Rating"
   ]
  },
  {
   "cell_type": "code",
   "execution_count": 30,
   "id": "6782e0d1",
   "metadata": {},
   "outputs": [
    {
     "data": {
      "image/png": "[encoded data removed]",
      "text/plain": [
       "<Figure size 1080x648 with 1 Axes>"
      ]
     },
     "metadata": {
      "needs_background": "light"
     },
     "output_type": "display_data"
    }
   ],
   "source": [
    "plt.figure(figsize=(15,9)) # initial figure size\n",
    "sns.barplot(x='Player',y='Final_Rating',data=Batsman_Ratings,palette=\"Blues\") # Barplot\n",
    "plt.title('Batsman Rating')# Assigning title\n",
    "plt.xticks(rotation=90) # Rotating the labels\n",
    "plt.show() #plotting"
   ]
  },
  {
   "cell_type": "markdown",
   "id": "cbfcb310",
   "metadata": {},
   "source": [
    "#### Checking the impact of Runs scored by bat on Final Batsman Rating"
   ]
  },
  {
   "cell_type": "code",
   "execution_count": 31,
   "id": "7cf80417",
   "metadata": {},
   "outputs": [
    {
     "data": {
      "image/png": "[encoded data removed]",
      "text/plain": [
       "<Figure size 1080x648 with 1 Axes>"
      ]
     },
     "metadata": {
      "needs_background": "light"
     },
     "output_type": "display_data"
    }
   ],
   "source": [
    "plt.figure(figsize=(15,9))\n",
    "sns.regplot(y='Runs_off_bat',x='Final_Rating',data=Batsman_Ratings)\n",
    "plt.title('Runs_scored vs Final_Rating')\n",
    "plt.show()"
   ]
  },
  {
   "cell_type": "markdown",
   "id": "3b8df100",
   "metadata": {},
   "source": [
    "#### Checking the correlation for the Batsman_Ratings dataframe (how they are related)"
   ]
  },
  {
   "cell_type": "code",
   "execution_count": 32,
   "id": "a586f240",
   "metadata": {},
   "outputs": [
    {
     "data": {
      "image/png": "[encoded data removed]",
      "text/plain": [
       "<Figure size 864x648 with 2 Axes>"
      ]
     },
     "metadata": {
      "needs_background": "light"
     },
     "output_type": "display_data"
    }
   ],
   "source": [
    "plt.figure(figsize=(12,9))\n",
    "sns.heatmap(Batsman_Ratings.corr(),annot=True)\n",
    "plt.show()"
   ]
  },
  {
   "cell_type": "markdown",
   "id": "d857e669",
   "metadata": {},
   "source": [
    "## Bowling Rating"
   ]
  },
  {
   "cell_type": "code",
   "execution_count": 33,
   "id": "f16386c0",
   "metadata": {},
   "outputs": [],
   "source": [
    "df3=df.groupby(by=['bowler','Bowling_Team'],as_index=False).agg({\"runs_off_bat\":'sum','wides':'sum',\"noballs\":'sum'})\n",
    "df31=df.groupby(by=['bowler','Bowling_Team'],as_index=False).agg({\"runs_off_bat\":'count','wides':'count',\"noballs\":'count'})"
   ]
  },
  {
   "cell_type": "code",
   "execution_count": 34,
   "id": "c284b29b",
   "metadata": {},
   "outputs": [],
   "source": [
    "# Calculating the 'Runs_conceeded' by the bowler\n",
    "df3['Runs_conceeded']=df3['runs_off_bat']+df3['wides']+df3['noballs']\n",
    "df31['Balls_Bowled']=df31['runs_off_bat']-df31['wides']-df31['noballs']"
   ]
  },
  {
   "cell_type": "code",
   "execution_count": 35,
   "id": "6e33eb94",
   "metadata": {},
   "outputs": [
    {
     "data": {
      "text/html": [
       "<div>\n",
       "<style scoped>\n",
       "    .dataframe tbody tr th:only-of-type {\n",
       "        vertical-align: middle;\n",
       "    }\n",
       "\n",
       "    .dataframe tbody tr th {\n",
       "        vertical-align: top;\n",
       "    }\n",
       "\n",
       "    .dataframe thead th {\n",
       "        text-align: right;\n",
       "    }\n",
       "</style>\n",
       "<table border=\"1\" class=\"dataframe\">\n",
       "  <thead>\n",
       "    <tr style=\"text-align: right;\">\n",
       "      <th></th>\n",
       "      <th>bowler</th>\n",
       "      <th>Bowling_Team</th>\n",
       "      <th>Runs_conceeded</th>\n",
       "    </tr>\n",
       "  </thead>\n",
       "  <tbody>\n",
       "    <tr>\n",
       "      <th>0</th>\n",
       "      <td>BA Carse</td>\n",
       "      <td>England</td>\n",
       "      <td>45.0</td>\n",
       "    </tr>\n",
       "    <tr>\n",
       "      <th>1</th>\n",
       "      <td>BA Stokes</td>\n",
       "      <td>England</td>\n",
       "      <td>14.0</td>\n",
       "    </tr>\n",
       "    <tr>\n",
       "      <th>2</th>\n",
       "      <td>C Overton</td>\n",
       "      <td>England</td>\n",
       "      <td>54.0</td>\n",
       "    </tr>\n",
       "    <tr>\n",
       "      <th>3</th>\n",
       "      <td>DJ Willey</td>\n",
       "      <td>England</td>\n",
       "      <td>58.0</td>\n",
       "    </tr>\n",
       "    <tr>\n",
       "      <th>4</th>\n",
       "      <td>HH Pandya</td>\n",
       "      <td>India</td>\n",
       "      <td>24.0</td>\n",
       "    </tr>\n",
       "  </tbody>\n",
       "</table>\n",
       "</div>"
      ],
      "text/plain": [
       "      bowler Bowling_Team  Runs_conceeded\n",
       "0   BA Carse      England            45.0\n",
       "1  BA Stokes      England            14.0\n",
       "2  C Overton      England            54.0\n",
       "3  DJ Willey      England            58.0\n",
       "4  HH Pandya        India            24.0"
      ]
     },
     "execution_count": 35,
     "metadata": {},
     "output_type": "execute_result"
    }
   ],
   "source": [
    "df3.drop(['runs_off_bat','wides','noballs'],axis=1,inplace=True)\n",
    "df31.drop(['runs_off_bat','wides','noballs'],axis=1,inplace=True)\n",
    "df3['Runs_conceeded'].astype(int)\n",
    "df3.head(5)"
   ]
  },
  {
   "cell_type": "code",
   "execution_count": 36,
   "id": "18319cb4",
   "metadata": {},
   "outputs": [
    {
     "data": {
      "text/html": [
       "<div>\n",
       "<style scoped>\n",
       "    .dataframe tbody tr th:only-of-type {\n",
       "        vertical-align: middle;\n",
       "    }\n",
       "\n",
       "    .dataframe tbody tr th {\n",
       "        vertical-align: top;\n",
       "    }\n",
       "\n",
       "    .dataframe thead th {\n",
       "        text-align: right;\n",
       "    }\n",
       "</style>\n",
       "<table border=\"1\" class=\"dataframe\">\n",
       "  <thead>\n",
       "    <tr style=\"text-align: right;\">\n",
       "      <th></th>\n",
       "      <th>bowler</th>\n",
       "      <th>Bowling_Team</th>\n",
       "      <th>Balls_Bowled</th>\n",
       "    </tr>\n",
       "  </thead>\n",
       "  <tbody>\n",
       "    <tr>\n",
       "      <th>0</th>\n",
       "      <td>BA Carse</td>\n",
       "      <td>England</td>\n",
       "      <td>48</td>\n",
       "    </tr>\n",
       "    <tr>\n",
       "      <th>1</th>\n",
       "      <td>BA Stokes</td>\n",
       "      <td>England</td>\n",
       "      <td>12</td>\n",
       "    </tr>\n",
       "    <tr>\n",
       "      <th>2</th>\n",
       "      <td>C Overton</td>\n",
       "      <td>England</td>\n",
       "      <td>48</td>\n",
       "    </tr>\n",
       "    <tr>\n",
       "      <th>3</th>\n",
       "      <td>DJ Willey</td>\n",
       "      <td>England</td>\n",
       "      <td>42</td>\n",
       "    </tr>\n",
       "    <tr>\n",
       "      <th>4</th>\n",
       "      <td>HH Pandya</td>\n",
       "      <td>India</td>\n",
       "      <td>42</td>\n",
       "    </tr>\n",
       "  </tbody>\n",
       "</table>\n",
       "</div>"
      ],
      "text/plain": [
       "      bowler Bowling_Team  Balls_Bowled\n",
       "0   BA Carse      England            48\n",
       "1  BA Stokes      England            12\n",
       "2  C Overton      England            48\n",
       "3  DJ Willey      England            42\n",
       "4  HH Pandya        India            42"
      ]
     },
     "execution_count": 36,
     "metadata": {},
     "output_type": "execute_result"
    }
   ],
   "source": [
    "df31.head(5)"
   ]
  },
  {
   "cell_type": "markdown",
   "id": "a488859e",
   "metadata": {},
   "source": [
    "#### Merging the dataframes to get 'Runs conceeded' and 'Balls Bowled' in same dataframe -> 'Bowler'"
   ]
  },
  {
   "cell_type": "code",
   "execution_count": 37,
   "id": "377e66a8",
   "metadata": {},
   "outputs": [],
   "source": [
    "#performing inner join\n",
    "Bowler = pd.merge(df3,df31,on=['bowler','Bowling_Team'],how='inner')"
   ]
  },
  {
   "cell_type": "code",
   "execution_count": 38,
   "id": "b5b3a887",
   "metadata": {},
   "outputs": [
    {
     "data": {
      "text/html": [
       "<div>\n",
       "<style scoped>\n",
       "    .dataframe tbody tr th:only-of-type {\n",
       "        vertical-align: middle;\n",
       "    }\n",
       "\n",
       "    .dataframe tbody tr th {\n",
       "        vertical-align: top;\n",
       "    }\n",
       "\n",
       "    .dataframe thead th {\n",
       "        text-align: right;\n",
       "    }\n",
       "</style>\n",
       "<table border=\"1\" class=\"dataframe\">\n",
       "  <thead>\n",
       "    <tr style=\"text-align: right;\">\n",
       "      <th></th>\n",
       "      <th>bowler</th>\n",
       "      <th>Bowling_Team</th>\n",
       "      <th>Runs_conceeded</th>\n",
       "      <th>Balls_Bowled</th>\n",
       "    </tr>\n",
       "  </thead>\n",
       "  <tbody>\n",
       "    <tr>\n",
       "      <th>0</th>\n",
       "      <td>BA Carse</td>\n",
       "      <td>England</td>\n",
       "      <td>45.0</td>\n",
       "      <td>48</td>\n",
       "    </tr>\n",
       "    <tr>\n",
       "      <th>1</th>\n",
       "      <td>BA Stokes</td>\n",
       "      <td>England</td>\n",
       "      <td>14.0</td>\n",
       "      <td>12</td>\n",
       "    </tr>\n",
       "    <tr>\n",
       "      <th>2</th>\n",
       "      <td>C Overton</td>\n",
       "      <td>England</td>\n",
       "      <td>54.0</td>\n",
       "      <td>48</td>\n",
       "    </tr>\n",
       "    <tr>\n",
       "      <th>3</th>\n",
       "      <td>DJ Willey</td>\n",
       "      <td>England</td>\n",
       "      <td>58.0</td>\n",
       "      <td>42</td>\n",
       "    </tr>\n",
       "    <tr>\n",
       "      <th>4</th>\n",
       "      <td>HH Pandya</td>\n",
       "      <td>India</td>\n",
       "      <td>24.0</td>\n",
       "      <td>42</td>\n",
       "    </tr>\n",
       "  </tbody>\n",
       "</table>\n",
       "</div>"
      ],
      "text/plain": [
       "      bowler Bowling_Team  Runs_conceeded  Balls_Bowled\n",
       "0   BA Carse      England            45.0            48\n",
       "1  BA Stokes      England            14.0            12\n",
       "2  C Overton      England            54.0            48\n",
       "3  DJ Willey      England            58.0            42\n",
       "4  HH Pandya        India            24.0            42"
      ]
     },
     "execution_count": 38,
     "metadata": {},
     "output_type": "execute_result"
    }
   ],
   "source": [
    "Bowler.head(5)"
   ]
  },
  {
   "cell_type": "code",
   "execution_count": 39,
   "id": "271fac69",
   "metadata": {},
   "outputs": [],
   "source": [
    "# Calculating the Economy for each bowler across both Teams!\n",
    "Bowler['Economy']=np.round((Bowler['Runs_conceeded']/Bowler['Balls_Bowled'])*6,2)"
   ]
  },
  {
   "cell_type": "code",
   "execution_count": 40,
   "id": "bc209da3",
   "metadata": {},
   "outputs": [
    {
     "data": {
      "text/html": [
       "<div>\n",
       "<style scoped>\n",
       "    .dataframe tbody tr th:only-of-type {\n",
       "        vertical-align: middle;\n",
       "    }\n",
       "\n",
       "    .dataframe tbody tr th {\n",
       "        vertical-align: top;\n",
       "    }\n",
       "\n",
       "    .dataframe thead th {\n",
       "        text-align: right;\n",
       "    }\n",
       "</style>\n",
       "<table border=\"1\" class=\"dataframe\">\n",
       "  <thead>\n",
       "    <tr style=\"text-align: right;\">\n",
       "      <th></th>\n",
       "      <th>bowler</th>\n",
       "      <th>Bowling_Team</th>\n",
       "      <th>Runs_conceeded</th>\n",
       "      <th>Balls_Bowled</th>\n",
       "      <th>Economy</th>\n",
       "    </tr>\n",
       "  </thead>\n",
       "  <tbody>\n",
       "    <tr>\n",
       "      <th>0</th>\n",
       "      <td>BA Carse</td>\n",
       "      <td>England</td>\n",
       "      <td>45.0</td>\n",
       "      <td>48</td>\n",
       "      <td>5.62</td>\n",
       "    </tr>\n",
       "    <tr>\n",
       "      <th>1</th>\n",
       "      <td>BA Stokes</td>\n",
       "      <td>England</td>\n",
       "      <td>14.0</td>\n",
       "      <td>12</td>\n",
       "      <td>7.00</td>\n",
       "    </tr>\n",
       "    <tr>\n",
       "      <th>2</th>\n",
       "      <td>C Overton</td>\n",
       "      <td>England</td>\n",
       "      <td>54.0</td>\n",
       "      <td>48</td>\n",
       "      <td>6.75</td>\n",
       "    </tr>\n",
       "    <tr>\n",
       "      <th>3</th>\n",
       "      <td>DJ Willey</td>\n",
       "      <td>England</td>\n",
       "      <td>58.0</td>\n",
       "      <td>42</td>\n",
       "      <td>8.29</td>\n",
       "    </tr>\n",
       "    <tr>\n",
       "      <th>4</th>\n",
       "      <td>HH Pandya</td>\n",
       "      <td>India</td>\n",
       "      <td>24.0</td>\n",
       "      <td>42</td>\n",
       "      <td>3.43</td>\n",
       "    </tr>\n",
       "  </tbody>\n",
       "</table>\n",
       "</div>"
      ],
      "text/plain": [
       "      bowler Bowling_Team  Runs_conceeded  Balls_Bowled  Economy\n",
       "0   BA Carse      England            45.0            48     5.62\n",
       "1  BA Stokes      England            14.0            12     7.00\n",
       "2  C Overton      England            54.0            48     6.75\n",
       "3  DJ Willey      England            58.0            42     8.29\n",
       "4  HH Pandya        India            24.0            42     3.43"
      ]
     },
     "execution_count": 40,
     "metadata": {},
     "output_type": "execute_result"
    }
   ],
   "source": [
    "Bowler.head(5)"
   ]
  },
  {
   "cell_type": "markdown",
   "id": "ed4b24cd",
   "metadata": {},
   "source": [
    "#### Filling the Missing Data"
   ]
  },
  {
   "cell_type": "code",
   "execution_count": 41,
   "id": "3b3134f6",
   "metadata": {},
   "outputs": [],
   "source": [
    "df.fillna(0,inplace=True) #Filling using zeros"
   ]
  },
  {
   "cell_type": "code",
   "execution_count": 42,
   "id": "734c6d7f",
   "metadata": {},
   "outputs": [
    {
     "data": {
      "image/png": "[encoded data removed]",
      "text/plain": [
       "<Figure size 1800x720 with 2 Axes>"
      ]
     },
     "metadata": {
      "needs_background": "light"
     },
     "output_type": "display_data"
    }
   ],
   "source": [
    "msno.matrix(df) #plotting the graph after filling the missing data\n",
    "plt.show() "
   ]
  },
  {
   "cell_type": "code",
   "execution_count": 43,
   "id": "59d38e66",
   "metadata": {},
   "outputs": [
    {
     "name": "stdout",
     "output_type": "stream",
     "text": [
      "<class 'pandas.core.frame.DataFrame'>\n",
      "RangeIndex: 542 entries, 0 to 541\n",
      "Data columns (total 22 columns):\n",
      " #   Column                  Non-Null Count  Dtype  \n",
      "---  ------                  --------------  -----  \n",
      " 0   match_id                542 non-null    int64  \n",
      " 1   season                  542 non-null    int64  \n",
      " 2   start_date              542 non-null    object \n",
      " 3   venue                   542 non-null    object \n",
      " 4   innings                 542 non-null    int64  \n",
      " 5   ball                    542 non-null    float64\n",
      " 6   Batting_Team            542 non-null    object \n",
      " 7   Bowling_Team            542 non-null    object \n",
      " 8   striker                 542 non-null    object \n",
      " 9   non_striker             542 non-null    object \n",
      " 10  bowler                  542 non-null    object \n",
      " 11  runs_off_bat            542 non-null    int64  \n",
      " 12  extras                  542 non-null    int64  \n",
      " 13  wides                   542 non-null    float64\n",
      " 14  noballs                 542 non-null    float64\n",
      " 15  byes                    542 non-null    float64\n",
      " 16  legbyes                 542 non-null    float64\n",
      " 17  penalty                 542 non-null    float64\n",
      " 18  wicket_type             542 non-null    object \n",
      " 19  player_dismissed        542 non-null    object \n",
      " 20  other_wicket_type       542 non-null    float64\n",
      " 21  other_player_dismissed  542 non-null    float64\n",
      "dtypes: float64(8), int64(5), object(9)\n",
      "memory usage: 93.3+ KB\n"
     ]
    }
   ],
   "source": [
    "df.info() # Cross-checking if there are any null values"
   ]
  },
  {
   "cell_type": "code",
   "execution_count": 44,
   "id": "2da24d18",
   "metadata": {},
   "outputs": [],
   "source": [
    "Bowler['Wickets_Taken'] = [1,0,1,0,4,0,0,0,0,0,2,1,3,3]"
   ]
  },
  {
   "cell_type": "code",
   "execution_count": 45,
   "id": "0c09cf09",
   "metadata": {},
   "outputs": [
    {
     "data": {
      "text/html": [
       "<div>\n",
       "<style scoped>\n",
       "    .dataframe tbody tr th:only-of-type {\n",
       "        vertical-align: middle;\n",
       "    }\n",
       "\n",
       "    .dataframe tbody tr th {\n",
       "        vertical-align: top;\n",
       "    }\n",
       "\n",
       "    .dataframe thead th {\n",
       "        text-align: right;\n",
       "    }\n",
       "</style>\n",
       "<table border=\"1\" class=\"dataframe\">\n",
       "  <thead>\n",
       "    <tr style=\"text-align: right;\">\n",
       "      <th></th>\n",
       "      <th>bowler</th>\n",
       "      <th>Bowling_Team</th>\n",
       "      <th>Runs_conceeded</th>\n",
       "      <th>Balls_Bowled</th>\n",
       "      <th>Economy</th>\n",
       "      <th>Wickets_Taken</th>\n",
       "    </tr>\n",
       "  </thead>\n",
       "  <tbody>\n",
       "    <tr>\n",
       "      <th>0</th>\n",
       "      <td>BA Carse</td>\n",
       "      <td>England</td>\n",
       "      <td>45.0</td>\n",
       "      <td>48</td>\n",
       "      <td>5.62</td>\n",
       "      <td>1</td>\n",
       "    </tr>\n",
       "    <tr>\n",
       "      <th>1</th>\n",
       "      <td>BA Stokes</td>\n",
       "      <td>England</td>\n",
       "      <td>14.0</td>\n",
       "      <td>12</td>\n",
       "      <td>7.00</td>\n",
       "      <td>0</td>\n",
       "    </tr>\n",
       "    <tr>\n",
       "      <th>2</th>\n",
       "      <td>C Overton</td>\n",
       "      <td>England</td>\n",
       "      <td>54.0</td>\n",
       "      <td>48</td>\n",
       "      <td>6.75</td>\n",
       "      <td>1</td>\n",
       "    </tr>\n",
       "    <tr>\n",
       "      <th>3</th>\n",
       "      <td>DJ Willey</td>\n",
       "      <td>England</td>\n",
       "      <td>58.0</td>\n",
       "      <td>42</td>\n",
       "      <td>8.29</td>\n",
       "      <td>0</td>\n",
       "    </tr>\n",
       "    <tr>\n",
       "      <th>4</th>\n",
       "      <td>HH Pandya</td>\n",
       "      <td>India</td>\n",
       "      <td>24.0</td>\n",
       "      <td>42</td>\n",
       "      <td>3.43</td>\n",
       "      <td>4</td>\n",
       "    </tr>\n",
       "  </tbody>\n",
       "</table>\n",
       "</div>"
      ],
      "text/plain": [
       "      bowler Bowling_Team  Runs_conceeded  Balls_Bowled  Economy  \\\n",
       "0   BA Carse      England            45.0            48     5.62   \n",
       "1  BA Stokes      England            14.0            12     7.00   \n",
       "2  C Overton      England            54.0            48     6.75   \n",
       "3  DJ Willey      England            58.0            42     8.29   \n",
       "4  HH Pandya        India            24.0            42     3.43   \n",
       "\n",
       "   Wickets_Taken  \n",
       "0              1  \n",
       "1              0  \n",
       "2              1  \n",
       "3              0  \n",
       "4              4  "
      ]
     },
     "execution_count": 45,
     "metadata": {},
     "output_type": "execute_result"
    }
   ],
   "source": [
    "Bowler.head(5)"
   ]
  },
  {
   "cell_type": "markdown",
   "id": "c100dce8",
   "metadata": {},
   "source": [
    "#### Total wickets taken by each team against the opponent team"
   ]
  },
  {
   "cell_type": "code",
   "execution_count": 46,
   "id": "927d2e73",
   "metadata": {},
   "outputs": [],
   "source": [
    "Bowler.loc[Bowler['Bowling_Team']=='England','Total_Wickets_taken']= \\\n",
    "Bowler[Bowler['Bowling_Team']=='England']['Wickets_Taken'].sum()\n",
    "Bowler.loc[Bowler['Bowling_Team']=='India','Total_Wickets_taken']=\\\n",
    "Bowler[Bowler['Bowling_Team']=='India']['Wickets_Taken'].sum()"
   ]
  },
  {
   "cell_type": "code",
   "execution_count": 47,
   "id": "b048e605",
   "metadata": {},
   "outputs": [],
   "source": [
    "Bowler['Total_Wickets_taken']=Bowler['Total_Wickets_taken'].astype(int) # Float to int"
   ]
  },
  {
   "cell_type": "code",
   "execution_count": 48,
   "id": "8f575d1f",
   "metadata": {},
   "outputs": [],
   "source": [
    "Bowler['Runs_conceeded']=Bowler['Runs_conceeded'].astype(int) # Float to int"
   ]
  },
  {
   "cell_type": "code",
   "execution_count": 49,
   "id": "d22d27bb",
   "metadata": {},
   "outputs": [
    {
     "data": {
      "text/html": [
       "<div>\n",
       "<style scoped>\n",
       "    .dataframe tbody tr th:only-of-type {\n",
       "        vertical-align: middle;\n",
       "    }\n",
       "\n",
       "    .dataframe tbody tr th {\n",
       "        vertical-align: top;\n",
       "    }\n",
       "\n",
       "    .dataframe thead th {\n",
       "        text-align: right;\n",
       "    }\n",
       "</style>\n",
       "<table border=\"1\" class=\"dataframe\">\n",
       "  <thead>\n",
       "    <tr style=\"text-align: right;\">\n",
       "      <th></th>\n",
       "      <th>bowler</th>\n",
       "      <th>Bowling_Team</th>\n",
       "      <th>Runs_conceeded</th>\n",
       "      <th>Balls_Bowled</th>\n",
       "      <th>Economy</th>\n",
       "      <th>Wickets_Taken</th>\n",
       "      <th>Total_Wickets_taken</th>\n",
       "    </tr>\n",
       "  </thead>\n",
       "  <tbody>\n",
       "    <tr>\n",
       "      <th>0</th>\n",
       "      <td>BA Carse</td>\n",
       "      <td>England</td>\n",
       "      <td>45</td>\n",
       "      <td>48</td>\n",
       "      <td>5.62</td>\n",
       "      <td>1</td>\n",
       "      <td>5</td>\n",
       "    </tr>\n",
       "    <tr>\n",
       "      <th>1</th>\n",
       "      <td>BA Stokes</td>\n",
       "      <td>England</td>\n",
       "      <td>14</td>\n",
       "      <td>12</td>\n",
       "      <td>7.00</td>\n",
       "      <td>0</td>\n",
       "      <td>5</td>\n",
       "    </tr>\n",
       "    <tr>\n",
       "      <th>2</th>\n",
       "      <td>C Overton</td>\n",
       "      <td>England</td>\n",
       "      <td>54</td>\n",
       "      <td>48</td>\n",
       "      <td>6.75</td>\n",
       "      <td>1</td>\n",
       "      <td>5</td>\n",
       "    </tr>\n",
       "    <tr>\n",
       "      <th>3</th>\n",
       "      <td>DJ Willey</td>\n",
       "      <td>England</td>\n",
       "      <td>58</td>\n",
       "      <td>42</td>\n",
       "      <td>8.29</td>\n",
       "      <td>0</td>\n",
       "      <td>5</td>\n",
       "    </tr>\n",
       "    <tr>\n",
       "      <th>4</th>\n",
       "      <td>HH Pandya</td>\n",
       "      <td>India</td>\n",
       "      <td>24</td>\n",
       "      <td>42</td>\n",
       "      <td>3.43</td>\n",
       "      <td>4</td>\n",
       "      <td>10</td>\n",
       "    </tr>\n",
       "  </tbody>\n",
       "</table>\n",
       "</div>"
      ],
      "text/plain": [
       "      bowler Bowling_Team  Runs_conceeded  Balls_Bowled  Economy  \\\n",
       "0   BA Carse      England              45            48     5.62   \n",
       "1  BA Stokes      England              14            12     7.00   \n",
       "2  C Overton      England              54            48     6.75   \n",
       "3  DJ Willey      England              58            42     8.29   \n",
       "4  HH Pandya        India              24            42     3.43   \n",
       "\n",
       "   Wickets_Taken  Total_Wickets_taken  \n",
       "0              1                    5  \n",
       "1              0                    5  \n",
       "2              1                    5  \n",
       "3              0                    5  \n",
       "4              4                   10  "
      ]
     },
     "execution_count": 49,
     "metadata": {},
     "output_type": "execute_result"
    }
   ],
   "source": [
    "Bowler.head()"
   ]
  },
  {
   "cell_type": "code",
   "execution_count": 50,
   "id": "66889d48",
   "metadata": {},
   "outputs": [
    {
     "name": "stdout",
     "output_type": "stream",
     "text": [
      "<class 'pandas.core.frame.DataFrame'>\n",
      "Int64Index: 14 entries, 0 to 13\n",
      "Data columns (total 7 columns):\n",
      " #   Column               Non-Null Count  Dtype  \n",
      "---  ------               --------------  -----  \n",
      " 0   bowler               14 non-null     object \n",
      " 1   Bowling_Team         14 non-null     object \n",
      " 2   Runs_conceeded       14 non-null     int64  \n",
      " 3   Balls_Bowled         14 non-null     int64  \n",
      " 4   Economy              14 non-null     float64\n",
      " 5   Wickets_Taken        14 non-null     int64  \n",
      " 6   Total_Wickets_taken  14 non-null     int64  \n",
      "dtypes: float64(1), int64(4), object(2)\n",
      "memory usage: 896.0+ bytes\n"
     ]
    }
   ],
   "source": [
    "Bowler.info() #Info about the Bowler Dataframe"
   ]
  },
  {
   "cell_type": "code",
   "execution_count": 51,
   "id": "e3dffa21",
   "metadata": {},
   "outputs": [
    {
     "data": {
      "text/html": [
       "<div>\n",
       "<style scoped>\n",
       "    .dataframe tbody tr th:only-of-type {\n",
       "        vertical-align: middle;\n",
       "    }\n",
       "\n",
       "    .dataframe tbody tr th {\n",
       "        vertical-align: top;\n",
       "    }\n",
       "\n",
       "    .dataframe thead th {\n",
       "        text-align: right;\n",
       "    }\n",
       "</style>\n",
       "<table border=\"1\" class=\"dataframe\">\n",
       "  <thead>\n",
       "    <tr style=\"text-align: right;\">\n",
       "      <th></th>\n",
       "      <th>Runs_conceeded</th>\n",
       "      <th>Balls_Bowled</th>\n",
       "      <th>Economy</th>\n",
       "      <th>Wickets_Taken</th>\n",
       "      <th>Total_Wickets_taken</th>\n",
       "    </tr>\n",
       "  </thead>\n",
       "  <tbody>\n",
       "    <tr>\n",
       "      <th>count</th>\n",
       "      <td>14.000000</td>\n",
       "      <td>14.000000</td>\n",
       "      <td>14.000000</td>\n",
       "      <td>14.000000</td>\n",
       "      <td>14.000000</td>\n",
       "    </tr>\n",
       "    <tr>\n",
       "      <th>mean</th>\n",
       "      <td>36.714286</td>\n",
       "      <td>37.714286</td>\n",
       "      <td>7.189286</td>\n",
       "      <td>1.071429</td>\n",
       "      <td>7.142857</td>\n",
       "    </tr>\n",
       "    <tr>\n",
       "      <th>std</th>\n",
       "      <td>19.368605</td>\n",
       "      <td>18.044512</td>\n",
       "      <td>5.010788</td>\n",
       "      <td>1.384768</td>\n",
       "      <td>2.567763</td>\n",
       "    </tr>\n",
       "    <tr>\n",
       "      <th>min</th>\n",
       "      <td>4.000000</td>\n",
       "      <td>1.000000</td>\n",
       "      <td>3.430000</td>\n",
       "      <td>0.000000</td>\n",
       "      <td>5.000000</td>\n",
       "    </tr>\n",
       "    <tr>\n",
       "      <th>25%</th>\n",
       "      <td>21.750000</td>\n",
       "      <td>28.500000</td>\n",
       "      <td>5.270000</td>\n",
       "      <td>0.000000</td>\n",
       "      <td>5.000000</td>\n",
       "    </tr>\n",
       "    <tr>\n",
       "      <th>50%</th>\n",
       "      <td>36.500000</td>\n",
       "      <td>42.000000</td>\n",
       "      <td>5.860000</td>\n",
       "      <td>0.500000</td>\n",
       "      <td>5.000000</td>\n",
       "    </tr>\n",
       "    <tr>\n",
       "      <th>75%</th>\n",
       "      <td>52.500000</td>\n",
       "      <td>48.000000</td>\n",
       "      <td>7.000000</td>\n",
       "      <td>1.750000</td>\n",
       "      <td>10.000000</td>\n",
       "    </tr>\n",
       "    <tr>\n",
       "      <th>max</th>\n",
       "      <td>66.000000</td>\n",
       "      <td>59.000000</td>\n",
       "      <td>24.000000</td>\n",
       "      <td>4.000000</td>\n",
       "      <td>10.000000</td>\n",
       "    </tr>\n",
       "  </tbody>\n",
       "</table>\n",
       "</div>"
      ],
      "text/plain": [
       "       Runs_conceeded  Balls_Bowled    Economy  Wickets_Taken  \\\n",
       "count       14.000000     14.000000  14.000000      14.000000   \n",
       "mean        36.714286     37.714286   7.189286       1.071429   \n",
       "std         19.368605     18.044512   5.010788       1.384768   \n",
       "min          4.000000      1.000000   3.430000       0.000000   \n",
       "25%         21.750000     28.500000   5.270000       0.000000   \n",
       "50%         36.500000     42.000000   5.860000       0.500000   \n",
       "75%         52.500000     48.000000   7.000000       1.750000   \n",
       "max         66.000000     59.000000  24.000000       4.000000   \n",
       "\n",
       "       Total_Wickets_taken  \n",
       "count            14.000000  \n",
       "mean              7.142857  \n",
       "std               2.567763  \n",
       "min               5.000000  \n",
       "25%               5.000000  \n",
       "50%               5.000000  \n",
       "75%              10.000000  \n",
       "max              10.000000  "
      ]
     },
     "execution_count": 51,
     "metadata": {},
     "output_type": "execute_result"
    }
   ],
   "source": [
    "Bowler.describe() #statistical info"
   ]
  },
  {
   "cell_type": "code",
   "execution_count": 52,
   "id": "5feb98af",
   "metadata": {},
   "outputs": [],
   "source": [
    "# Calculating the Wicket_Ratio with respect to total wickets taken against opponent\n",
    "Bowler['Wicket_Ratio']=Bowler['Wickets_Taken']/Bowler['Total_Wickets_taken']"
   ]
  },
  {
   "cell_type": "code",
   "execution_count": 53,
   "id": "d012c91f",
   "metadata": {},
   "outputs": [
    {
     "data": {
      "text/html": [
       "<div>\n",
       "<style scoped>\n",
       "    .dataframe tbody tr th:only-of-type {\n",
       "        vertical-align: middle;\n",
       "    }\n",
       "\n",
       "    .dataframe tbody tr th {\n",
       "        vertical-align: top;\n",
       "    }\n",
       "\n",
       "    .dataframe thead th {\n",
       "        text-align: right;\n",
       "    }\n",
       "</style>\n",
       "<table border=\"1\" class=\"dataframe\">\n",
       "  <thead>\n",
       "    <tr style=\"text-align: right;\">\n",
       "      <th></th>\n",
       "      <th>bowler</th>\n",
       "      <th>Bowling_Team</th>\n",
       "      <th>Runs_conceeded</th>\n",
       "      <th>Balls_Bowled</th>\n",
       "      <th>Economy</th>\n",
       "      <th>Wickets_Taken</th>\n",
       "      <th>Total_Wickets_taken</th>\n",
       "      <th>Wicket_Ratio</th>\n",
       "    </tr>\n",
       "  </thead>\n",
       "  <tbody>\n",
       "    <tr>\n",
       "      <th>0</th>\n",
       "      <td>BA Carse</td>\n",
       "      <td>England</td>\n",
       "      <td>45</td>\n",
       "      <td>48</td>\n",
       "      <td>5.62</td>\n",
       "      <td>1</td>\n",
       "      <td>5</td>\n",
       "      <td>0.2</td>\n",
       "    </tr>\n",
       "    <tr>\n",
       "      <th>1</th>\n",
       "      <td>BA Stokes</td>\n",
       "      <td>England</td>\n",
       "      <td>14</td>\n",
       "      <td>12</td>\n",
       "      <td>7.00</td>\n",
       "      <td>0</td>\n",
       "      <td>5</td>\n",
       "      <td>0.0</td>\n",
       "    </tr>\n",
       "    <tr>\n",
       "      <th>2</th>\n",
       "      <td>C Overton</td>\n",
       "      <td>England</td>\n",
       "      <td>54</td>\n",
       "      <td>48</td>\n",
       "      <td>6.75</td>\n",
       "      <td>1</td>\n",
       "      <td>5</td>\n",
       "      <td>0.2</td>\n",
       "    </tr>\n",
       "    <tr>\n",
       "      <th>3</th>\n",
       "      <td>DJ Willey</td>\n",
       "      <td>England</td>\n",
       "      <td>58</td>\n",
       "      <td>42</td>\n",
       "      <td>8.29</td>\n",
       "      <td>0</td>\n",
       "      <td>5</td>\n",
       "      <td>0.0</td>\n",
       "    </tr>\n",
       "    <tr>\n",
       "      <th>4</th>\n",
       "      <td>HH Pandya</td>\n",
       "      <td>India</td>\n",
       "      <td>24</td>\n",
       "      <td>42</td>\n",
       "      <td>3.43</td>\n",
       "      <td>4</td>\n",
       "      <td>10</td>\n",
       "      <td>0.4</td>\n",
       "    </tr>\n",
       "  </tbody>\n",
       "</table>\n",
       "</div>"
      ],
      "text/plain": [
       "      bowler Bowling_Team  Runs_conceeded  Balls_Bowled  Economy  \\\n",
       "0   BA Carse      England              45            48     5.62   \n",
       "1  BA Stokes      England              14            12     7.00   \n",
       "2  C Overton      England              54            48     6.75   \n",
       "3  DJ Willey      England              58            42     8.29   \n",
       "4  HH Pandya        India              24            42     3.43   \n",
       "\n",
       "   Wickets_Taken  Total_Wickets_taken  Wicket_Ratio  \n",
       "0              1                    5           0.2  \n",
       "1              0                    5           0.0  \n",
       "2              1                    5           0.2  \n",
       "3              0                    5           0.0  \n",
       "4              4                   10           0.4  "
      ]
     },
     "execution_count": 53,
     "metadata": {},
     "output_type": "execute_result"
    }
   ],
   "source": [
    "Bowler.head()"
   ]
  },
  {
   "cell_type": "code",
   "execution_count": 54,
   "id": "7f08e2a5",
   "metadata": {},
   "outputs": [],
   "source": [
    "Bowler['Scaled_Wickets_Ratio']=Bowler['Wicket_Ratio']\n",
    "Bowler['Scaled_Economy']=Bowler['Economy']"
   ]
  },
  {
   "cell_type": "markdown",
   "id": "88eacf9e",
   "metadata": {},
   "source": [
    "#### Performing Minmaxscaler() to scale wickets_ratio, economy, wickets_taken"
   ]
  },
  {
   "cell_type": "code",
   "execution_count": 55,
   "id": "1fed1b99",
   "metadata": {},
   "outputs": [],
   "source": [
    "from sklearn.preprocessing import MinMaxScaler #import minmaxscaler()\n",
    "\n",
    "scaler = MinMaxScaler()\n",
    "\n",
    "def myfunc(Bowler, x): # Function to perform minmaxscaler on each row\n",
    "    for i in x:\n",
    "        Bowler[i] = pd.DataFrame(scaler.fit_transform(pd.DataFrame(Bowler[i])))\n",
    "    return Bowler"
   ]
  },
  {
   "cell_type": "code",
   "execution_count": 56,
   "id": "d0ed01fc",
   "metadata": {},
   "outputs": [],
   "source": [
    "Bowler_Ratings = Bowler\n",
    "Bowler_Ratings = myfunc(Bowler_Ratings,['Scaled_Wickets_Ratio'])"
   ]
  },
  {
   "cell_type": "code",
   "execution_count": 57,
   "id": "13bed9a5",
   "metadata": {},
   "outputs": [],
   "source": [
    "Bowler_Ratings['Scaled_Economy']=np.round((Bowler_Ratings['Economy'] - \\\n",
    "                                           Bowler_Ratings['Economy'].max())/\\\n",
    "                                          (Bowler_Ratings['Economy'].min() - \\\n",
    "                                           Bowler_Ratings['Economy'].max()),2)"
   ]
  },
  {
   "cell_type": "code",
   "execution_count": 58,
   "id": "890a8739",
   "metadata": {},
   "outputs": [],
   "source": [
    "Bowler_Ratings['Scaled_Wickets_Ratio']= np.round(Bowler_Ratings['Scaled_Wickets_Ratio'],2)"
   ]
  },
  {
   "cell_type": "code",
   "execution_count": 59,
   "id": "b1108332",
   "metadata": {},
   "outputs": [
    {
     "data": {
      "text/html": [
       "<div>\n",
       "<style scoped>\n",
       "    .dataframe tbody tr th:only-of-type {\n",
       "        vertical-align: middle;\n",
       "    }\n",
       "\n",
       "    .dataframe tbody tr th {\n",
       "        vertical-align: top;\n",
       "    }\n",
       "\n",
       "    .dataframe thead th {\n",
       "        text-align: right;\n",
       "    }\n",
       "</style>\n",
       "<table border=\"1\" class=\"dataframe\">\n",
       "  <thead>\n",
       "    <tr style=\"text-align: right;\">\n",
       "      <th></th>\n",
       "      <th>bowler</th>\n",
       "      <th>Bowling_Team</th>\n",
       "      <th>Runs_conceeded</th>\n",
       "      <th>Balls_Bowled</th>\n",
       "      <th>Economy</th>\n",
       "      <th>Wickets_Taken</th>\n",
       "      <th>Total_Wickets_taken</th>\n",
       "      <th>Wicket_Ratio</th>\n",
       "      <th>Scaled_Wickets_Ratio</th>\n",
       "      <th>Scaled_Economy</th>\n",
       "    </tr>\n",
       "  </thead>\n",
       "  <tbody>\n",
       "    <tr>\n",
       "      <th>0</th>\n",
       "      <td>BA Carse</td>\n",
       "      <td>England</td>\n",
       "      <td>45</td>\n",
       "      <td>48</td>\n",
       "      <td>5.62</td>\n",
       "      <td>1</td>\n",
       "      <td>5</td>\n",
       "      <td>0.2</td>\n",
       "      <td>0.33</td>\n",
       "      <td>0.89</td>\n",
       "    </tr>\n",
       "    <tr>\n",
       "      <th>1</th>\n",
       "      <td>BA Stokes</td>\n",
       "      <td>England</td>\n",
       "      <td>14</td>\n",
       "      <td>12</td>\n",
       "      <td>7.00</td>\n",
       "      <td>0</td>\n",
       "      <td>5</td>\n",
       "      <td>0.0</td>\n",
       "      <td>0.00</td>\n",
       "      <td>0.83</td>\n",
       "    </tr>\n",
       "    <tr>\n",
       "      <th>2</th>\n",
       "      <td>C Overton</td>\n",
       "      <td>England</td>\n",
       "      <td>54</td>\n",
       "      <td>48</td>\n",
       "      <td>6.75</td>\n",
       "      <td>1</td>\n",
       "      <td>5</td>\n",
       "      <td>0.2</td>\n",
       "      <td>0.33</td>\n",
       "      <td>0.84</td>\n",
       "    </tr>\n",
       "    <tr>\n",
       "      <th>3</th>\n",
       "      <td>DJ Willey</td>\n",
       "      <td>England</td>\n",
       "      <td>58</td>\n",
       "      <td>42</td>\n",
       "      <td>8.29</td>\n",
       "      <td>0</td>\n",
       "      <td>5</td>\n",
       "      <td>0.0</td>\n",
       "      <td>0.00</td>\n",
       "      <td>0.76</td>\n",
       "    </tr>\n",
       "    <tr>\n",
       "      <th>4</th>\n",
       "      <td>HH Pandya</td>\n",
       "      <td>India</td>\n",
       "      <td>24</td>\n",
       "      <td>42</td>\n",
       "      <td>3.43</td>\n",
       "      <td>4</td>\n",
       "      <td>10</td>\n",
       "      <td>0.4</td>\n",
       "      <td>0.67</td>\n",
       "      <td>1.00</td>\n",
       "    </tr>\n",
       "  </tbody>\n",
       "</table>\n",
       "</div>"
      ],
      "text/plain": [
       "      bowler Bowling_Team  Runs_conceeded  Balls_Bowled  Economy  \\\n",
       "0   BA Carse      England              45            48     5.62   \n",
       "1  BA Stokes      England              14            12     7.00   \n",
       "2  C Overton      England              54            48     6.75   \n",
       "3  DJ Willey      England              58            42     8.29   \n",
       "4  HH Pandya        India              24            42     3.43   \n",
       "\n",
       "   Wickets_Taken  Total_Wickets_taken  Wicket_Ratio  Scaled_Wickets_Ratio  \\\n",
       "0              1                    5           0.2                  0.33   \n",
       "1              0                    5           0.0                  0.00   \n",
       "2              1                    5           0.2                  0.33   \n",
       "3              0                    5           0.0                  0.00   \n",
       "4              4                   10           0.4                  0.67   \n",
       "\n",
       "   Scaled_Economy  \n",
       "0            0.89  \n",
       "1            0.83  \n",
       "2            0.84  \n",
       "3            0.76  \n",
       "4            1.00  "
      ]
     },
     "execution_count": 59,
     "metadata": {},
     "output_type": "execute_result"
    }
   ],
   "source": [
    "Bowler_Ratings.head()"
   ]
  },
  {
   "cell_type": "markdown",
   "id": "9d48e8e1",
   "metadata": {},
   "source": [
    "### Measuring the 'Bowler Rating'"
   ]
  },
  {
   "cell_type": "code",
   "execution_count": 60,
   "id": "71053b43",
   "metadata": {},
   "outputs": [],
   "source": [
    "Bowler_Ratings['Final_Rating']= 100 * np.round(0.33 * Bowler_Ratings['Wicket_Ratio'] + 0.33 * Bowler_Ratings['Scaled_Wickets_Ratio'] + 0.33 * Bowler_Ratings['Scaled_Economy'],2)"
   ]
  },
  {
   "cell_type": "code",
   "execution_count": 61,
   "id": "e9d372e2",
   "metadata": {},
   "outputs": [],
   "source": [
    "Bowler_Ratings.rename(columns={'bowler':'Player','Bowling_Team':'Team'},inplace=True)"
   ]
  },
  {
   "cell_type": "code",
   "execution_count": 62,
   "id": "83793ba3",
   "metadata": {},
   "outputs": [
    {
     "data": {
      "image/png": "[encoded data removed]",
      "text/plain": [
       "<Figure size 1080x648 with 1 Axes>"
      ]
     },
     "metadata": {
      "needs_background": "light"
     },
     "output_type": "display_data"
    }
   ],
   "source": [
    "plt.figure(figsize=(15,9)) # initial figure size\n",
    "sns.barplot(x='Player',y='Final_Rating',data=Bowler_Ratings,palette=\"Blues\") # Barplot\n",
    "plt.title('Bowlers Rating')# Assigning title\n",
    "plt.xticks(rotation=90) # Rotating the labels\n",
    "plt.show() #plotting"
   ]
  },
  {
   "cell_type": "markdown",
   "id": "3a6d4a3e",
   "metadata": {},
   "source": [
    "### Impact of 'Wickets Taken' on 'Bowler Rating'"
   ]
  },
  {
   "cell_type": "code",
   "execution_count": 63,
   "id": "5415a98f",
   "metadata": {},
   "outputs": [
    {
     "data": {
      "image/png": "[encoded data removed]",
      "text/plain": [
       "<Figure size 864x648 with 1 Axes>"
      ]
     },
     "metadata": {
      "needs_background": "light"
     },
     "output_type": "display_data"
    }
   ],
   "source": [
    "plt.figure(figsize=(12,9))\n",
    "sns.regplot(y='Wickets_Taken',x='Final_Rating',data=Bowler_Ratings,color='red')\n",
    "plt.title('Wickets Taken vs Final Rating')\n",
    "plt.show()"
   ]
  },
  {
   "cell_type": "code",
   "execution_count": 64,
   "id": "3a02f2c4",
   "metadata": {},
   "outputs": [
    {
     "data": {
      "image/png": "[encoded data removed]",
      "text/plain": [
       "<Figure size 864x648 with 1 Axes>"
      ]
     },
     "metadata": {
      "needs_background": "light"
     },
     "output_type": "display_data"
    }
   ],
   "source": [
    "# Runs Conceeded vs Balls Bowled\n",
    "plt.figure(figsize=(12,9))\n",
    "plt.scatter(x=Bowler_Ratings['Runs_conceeded'],y=Bowler_Ratings['Balls_Bowled'],c='r')\n",
    "plt.title('Runs_scored vs Final_Rating')\n",
    "plt.show()"
   ]
  },
  {
   "cell_type": "markdown",
   "id": "49173735",
   "metadata": {},
   "source": [
    "### Bowlers_Rating Correlation"
   ]
  },
  {
   "cell_type": "code",
   "execution_count": 65,
   "id": "749915e7",
   "metadata": {},
   "outputs": [
    {
     "data": {
      "image/png": "[encoded data removed]",
      "text/plain": [
       "<Figure size 864x648 with 2 Axes>"
      ]
     },
     "metadata": {
      "needs_background": "light"
     },
     "output_type": "display_data"
    }
   ],
   "source": [
    "plt.figure(figsize=(12,9))\n",
    "sns.heatmap(Bowler_Ratings.corr(),annot=True)\n",
    "plt.show()"
   ]
  },
  {
   "cell_type": "markdown",
   "id": "3e46ade7",
   "metadata": {},
   "source": [
    "##### We can conclude that 'Wickets-Taken' is highly correlated with Bowler rating whereas 'Runs conceeded' is the least "
   ]
  },
  {
   "cell_type": "markdown",
   "id": "2f9291a9",
   "metadata": {},
   "source": [
    "## CALCULATING OVERALL PLAYER RATING"
   ]
  },
  {
   "cell_type": "code",
   "execution_count": 66,
   "id": "ffde2434",
   "metadata": {},
   "outputs": [
    {
     "data": {
      "text/html": [
       "<div>\n",
       "<style scoped>\n",
       "    .dataframe tbody tr th:only-of-type {\n",
       "        vertical-align: middle;\n",
       "    }\n",
       "\n",
       "    .dataframe tbody tr th {\n",
       "        vertical-align: top;\n",
       "    }\n",
       "\n",
       "    .dataframe thead th {\n",
       "        text-align: right;\n",
       "    }\n",
       "</style>\n",
       "<table border=\"1\" class=\"dataframe\">\n",
       "  <thead>\n",
       "    <tr style=\"text-align: right;\">\n",
       "      <th></th>\n",
       "      <th>index</th>\n",
       "      <th>striker</th>\n",
       "      <th>Batting_Team</th>\n",
       "    </tr>\n",
       "  </thead>\n",
       "  <tbody>\n",
       "    <tr>\n",
       "      <th>0</th>\n",
       "      <td>0</td>\n",
       "      <td>JJ Roy</td>\n",
       "      <td>England</td>\n",
       "    </tr>\n",
       "    <tr>\n",
       "      <th>1</th>\n",
       "      <td>6</td>\n",
       "      <td>JM Bairstow</td>\n",
       "      <td>England</td>\n",
       "    </tr>\n",
       "    <tr>\n",
       "      <th>2</th>\n",
       "      <td>9</td>\n",
       "      <td>JE Root</td>\n",
       "      <td>England</td>\n",
       "    </tr>\n",
       "    <tr>\n",
       "      <th>3</th>\n",
       "      <td>15</td>\n",
       "      <td>BA Stokes</td>\n",
       "      <td>England</td>\n",
       "    </tr>\n",
       "    <tr>\n",
       "      <th>4</th>\n",
       "      <td>60</td>\n",
       "      <td>JC Buttler</td>\n",
       "      <td>England</td>\n",
       "    </tr>\n",
       "  </tbody>\n",
       "</table>\n",
       "</div>"
      ],
      "text/plain": [
       "   index      striker Batting_Team\n",
       "0      0       JJ Roy      England\n",
       "1      6  JM Bairstow      England\n",
       "2      9      JE Root      England\n",
       "3     15    BA Stokes      England\n",
       "4     60   JC Buttler      England"
      ]
     },
     "execution_count": 66,
     "metadata": {},
     "output_type": "execute_result"
    }
   ],
   "source": [
    "# Getting all the player names (Bowlers,Strikers) using Concat\n",
    "df_2 = df[['striker','Batting_Team']].drop_duplicates().reset_index()\n",
    "df_2.drop('index',axis=1)\n",
    "df_2.head()"
   ]
  },
  {
   "cell_type": "code",
   "execution_count": 67,
   "id": "b7810d4f",
   "metadata": {},
   "outputs": [
    {
     "data": {
      "text/html": [
       "<div>\n",
       "<style scoped>\n",
       "    .dataframe tbody tr th:only-of-type {\n",
       "        vertical-align: middle;\n",
       "    }\n",
       "\n",
       "    .dataframe tbody tr th {\n",
       "        vertical-align: top;\n",
       "    }\n",
       "\n",
       "    .dataframe thead th {\n",
       "        text-align: right;\n",
       "    }\n",
       "</style>\n",
       "<table border=\"1\" class=\"dataframe\">\n",
       "  <thead>\n",
       "    <tr style=\"text-align: right;\">\n",
       "      <th></th>\n",
       "      <th>index</th>\n",
       "      <th>bowler</th>\n",
       "      <th>Bowling_Team</th>\n",
       "    </tr>\n",
       "  </thead>\n",
       "  <tbody>\n",
       "    <tr>\n",
       "      <th>0</th>\n",
       "      <td>0</td>\n",
       "      <td>Mohammed Shami</td>\n",
       "      <td>India</td>\n",
       "    </tr>\n",
       "    <tr>\n",
       "      <th>1</th>\n",
       "      <td>6</td>\n",
       "      <td>Mohammed Siraj</td>\n",
       "      <td>India</td>\n",
       "    </tr>\n",
       "    <tr>\n",
       "      <th>2</th>\n",
       "      <td>49</td>\n",
       "      <td>M Prasidh Krishna</td>\n",
       "      <td>India</td>\n",
       "    </tr>\n",
       "    <tr>\n",
       "      <th>3</th>\n",
       "      <td>55</td>\n",
       "      <td>HH Pandya</td>\n",
       "      <td>India</td>\n",
       "    </tr>\n",
       "    <tr>\n",
       "      <th>4</th>\n",
       "      <td>104</td>\n",
       "      <td>YS Chahal</td>\n",
       "      <td>India</td>\n",
       "    </tr>\n",
       "  </tbody>\n",
       "</table>\n",
       "</div>"
      ],
      "text/plain": [
       "   index             bowler Bowling_Team\n",
       "0      0     Mohammed Shami        India\n",
       "1      6     Mohammed Siraj        India\n",
       "2     49  M Prasidh Krishna        India\n",
       "3     55          HH Pandya        India\n",
       "4    104          YS Chahal        India"
      ]
     },
     "execution_count": 67,
     "metadata": {},
     "output_type": "execute_result"
    }
   ],
   "source": [
    "df_3 = df[['bowler','Bowling_Team']].drop_duplicates().reset_index()\n",
    "df_3.drop('index',axis=1)\n",
    "df_3.head()"
   ]
  },
  {
   "cell_type": "code",
   "execution_count": 68,
   "id": "d0a1c7db",
   "metadata": {},
   "outputs": [],
   "source": [
    "df_2.rename(columns={'striker':'Player','Batting_Team':'Team'},inplace=True)"
   ]
  },
  {
   "cell_type": "code",
   "execution_count": 69,
   "id": "85058bd3",
   "metadata": {},
   "outputs": [],
   "source": [
    "df_2.drop('index',axis=1,inplace=True)"
   ]
  },
  {
   "cell_type": "code",
   "execution_count": 70,
   "id": "2cde3cf5",
   "metadata": {},
   "outputs": [],
   "source": [
    "df_3.rename(columns={'bowler':'Player','Bowling_Team':'Team'},inplace=True)"
   ]
  },
  {
   "cell_type": "code",
   "execution_count": 71,
   "id": "df0c7a8a",
   "metadata": {},
   "outputs": [],
   "source": [
    "df_3.drop('index',axis=1,inplace=True)"
   ]
  },
  {
   "cell_type": "code",
   "execution_count": 72,
   "id": "8bf6ae24",
   "metadata": {},
   "outputs": [
    {
     "data": {
      "text/html": [
       "<div>\n",
       "<style scoped>\n",
       "    .dataframe tbody tr th:only-of-type {\n",
       "        vertical-align: middle;\n",
       "    }\n",
       "\n",
       "    .dataframe tbody tr th {\n",
       "        vertical-align: top;\n",
       "    }\n",
       "\n",
       "    .dataframe thead th {\n",
       "        text-align: right;\n",
       "    }\n",
       "</style>\n",
       "<table border=\"1\" class=\"dataframe\">\n",
       "  <thead>\n",
       "    <tr style=\"text-align: right;\">\n",
       "      <th></th>\n",
       "      <th>Player</th>\n",
       "      <th>Team</th>\n",
       "    </tr>\n",
       "  </thead>\n",
       "  <tbody>\n",
       "    <tr>\n",
       "      <th>0</th>\n",
       "      <td>Mohammed Shami</td>\n",
       "      <td>India</td>\n",
       "    </tr>\n",
       "    <tr>\n",
       "      <th>1</th>\n",
       "      <td>Mohammed Siraj</td>\n",
       "      <td>India</td>\n",
       "    </tr>\n",
       "    <tr>\n",
       "      <th>2</th>\n",
       "      <td>M Prasidh Krishna</td>\n",
       "      <td>India</td>\n",
       "    </tr>\n",
       "    <tr>\n",
       "      <th>3</th>\n",
       "      <td>HH Pandya</td>\n",
       "      <td>India</td>\n",
       "    </tr>\n",
       "    <tr>\n",
       "      <th>4</th>\n",
       "      <td>YS Chahal</td>\n",
       "      <td>India</td>\n",
       "    </tr>\n",
       "  </tbody>\n",
       "</table>\n",
       "</div>"
      ],
      "text/plain": [
       "              Player   Team\n",
       "0     Mohammed Shami  India\n",
       "1     Mohammed Siraj  India\n",
       "2  M Prasidh Krishna  India\n",
       "3          HH Pandya  India\n",
       "4          YS Chahal  India"
      ]
     },
     "execution_count": 72,
     "metadata": {},
     "output_type": "execute_result"
    }
   ],
   "source": [
    "df_3.head()"
   ]
  },
  {
   "cell_type": "code",
   "execution_count": 73,
   "id": "23ba565f",
   "metadata": {},
   "outputs": [],
   "source": [
    "Players = pd.concat([df_2,df_3]) #concatenating to get names of all players playing the match"
   ]
  },
  {
   "cell_type": "code",
   "execution_count": 74,
   "id": "d78a2974",
   "metadata": {},
   "outputs": [],
   "source": [
    "Players.drop_duplicates(inplace=True)"
   ]
  },
  {
   "cell_type": "code",
   "execution_count": 75,
   "id": "4a0350a6",
   "metadata": {},
   "outputs": [
    {
     "data": {
      "text/html": [
       "<div>\n",
       "<style scoped>\n",
       "    .dataframe tbody tr th:only-of-type {\n",
       "        vertical-align: middle;\n",
       "    }\n",
       "\n",
       "    .dataframe tbody tr th {\n",
       "        vertical-align: top;\n",
       "    }\n",
       "\n",
       "    .dataframe thead th {\n",
       "        text-align: right;\n",
       "    }\n",
       "</style>\n",
       "<table border=\"1\" class=\"dataframe\">\n",
       "  <thead>\n",
       "    <tr style=\"text-align: right;\">\n",
       "      <th></th>\n",
       "      <th>Player</th>\n",
       "      <th>Team</th>\n",
       "    </tr>\n",
       "  </thead>\n",
       "  <tbody>\n",
       "    <tr>\n",
       "      <th>0</th>\n",
       "      <td>JJ Roy</td>\n",
       "      <td>England</td>\n",
       "    </tr>\n",
       "    <tr>\n",
       "      <th>1</th>\n",
       "      <td>JM Bairstow</td>\n",
       "      <td>England</td>\n",
       "    </tr>\n",
       "    <tr>\n",
       "      <th>2</th>\n",
       "      <td>JE Root</td>\n",
       "      <td>England</td>\n",
       "    </tr>\n",
       "    <tr>\n",
       "      <th>3</th>\n",
       "      <td>BA Stokes</td>\n",
       "      <td>England</td>\n",
       "    </tr>\n",
       "    <tr>\n",
       "      <th>4</th>\n",
       "      <td>JC Buttler</td>\n",
       "      <td>England</td>\n",
       "    </tr>\n",
       "    <tr>\n",
       "      <th>5</th>\n",
       "      <td>MM Ali</td>\n",
       "      <td>England</td>\n",
       "    </tr>\n",
       "    <tr>\n",
       "      <th>6</th>\n",
       "      <td>LS Livingstone</td>\n",
       "      <td>England</td>\n",
       "    </tr>\n",
       "    <tr>\n",
       "      <th>7</th>\n",
       "      <td>DJ Willey</td>\n",
       "      <td>England</td>\n",
       "    </tr>\n",
       "    <tr>\n",
       "      <th>8</th>\n",
       "      <td>C Overton</td>\n",
       "      <td>England</td>\n",
       "    </tr>\n",
       "    <tr>\n",
       "      <th>9</th>\n",
       "      <td>BA Carse</td>\n",
       "      <td>England</td>\n",
       "    </tr>\n",
       "    <tr>\n",
       "      <th>10</th>\n",
       "      <td>RJW Topley</td>\n",
       "      <td>England</td>\n",
       "    </tr>\n",
       "    <tr>\n",
       "      <th>11</th>\n",
       "      <td>RG Sharma</td>\n",
       "      <td>India</td>\n",
       "    </tr>\n",
       "    <tr>\n",
       "      <th>12</th>\n",
       "      <td>S Dhawan</td>\n",
       "      <td>India</td>\n",
       "    </tr>\n",
       "    <tr>\n",
       "      <th>13</th>\n",
       "      <td>V Kohli</td>\n",
       "      <td>India</td>\n",
       "    </tr>\n",
       "    <tr>\n",
       "      <th>14</th>\n",
       "      <td>RR Pant</td>\n",
       "      <td>India</td>\n",
       "    </tr>\n",
       "    <tr>\n",
       "      <th>15</th>\n",
       "      <td>SA Yadav</td>\n",
       "      <td>India</td>\n",
       "    </tr>\n",
       "    <tr>\n",
       "      <th>16</th>\n",
       "      <td>HH Pandya</td>\n",
       "      <td>India</td>\n",
       "    </tr>\n",
       "    <tr>\n",
       "      <th>17</th>\n",
       "      <td>RA Jadeja</td>\n",
       "      <td>India</td>\n",
       "    </tr>\n",
       "    <tr>\n",
       "      <th>18</th>\n",
       "      <td>Mohammed Shami</td>\n",
       "      <td>India</td>\n",
       "    </tr>\n",
       "    <tr>\n",
       "      <th>19</th>\n",
       "      <td>Mohammed Siraj</td>\n",
       "      <td>India</td>\n",
       "    </tr>\n",
       "    <tr>\n",
       "      <th>20</th>\n",
       "      <td>M Prasidh Krishna</td>\n",
       "      <td>India</td>\n",
       "    </tr>\n",
       "    <tr>\n",
       "      <th>21</th>\n",
       "      <td>YS Chahal</td>\n",
       "      <td>India</td>\n",
       "    </tr>\n",
       "  </tbody>\n",
       "</table>\n",
       "</div>"
      ],
      "text/plain": [
       "               Player     Team\n",
       "0              JJ Roy  England\n",
       "1         JM Bairstow  England\n",
       "2             JE Root  England\n",
       "3           BA Stokes  England\n",
       "4          JC Buttler  England\n",
       "5              MM Ali  England\n",
       "6      LS Livingstone  England\n",
       "7           DJ Willey  England\n",
       "8           C Overton  England\n",
       "9            BA Carse  England\n",
       "10         RJW Topley  England\n",
       "11          RG Sharma    India\n",
       "12           S Dhawan    India\n",
       "13            V Kohli    India\n",
       "14            RR Pant    India\n",
       "15           SA Yadav    India\n",
       "16          HH Pandya    India\n",
       "17          RA Jadeja    India\n",
       "18     Mohammed Shami    India\n",
       "19     Mohammed Siraj    India\n",
       "20  M Prasidh Krishna    India\n",
       "21          YS Chahal    India"
      ]
     },
     "execution_count": 75,
     "metadata": {},
     "output_type": "execute_result"
    }
   ],
   "source": [
    "Players.reset_index(drop=True,inplace=True)\n",
    "Players"
   ]
  },
  {
   "cell_type": "code",
   "execution_count": 76,
   "id": "13be5973",
   "metadata": {},
   "outputs": [],
   "source": [
    "df_5 = pd.merge(Players,Bowler_Ratings,on=['Player','Team'],how='left')"
   ]
  },
  {
   "cell_type": "code",
   "execution_count": 77,
   "id": "d9e13daa",
   "metadata": {},
   "outputs": [],
   "source": [
    "Overall_Rating = pd.merge(df_5,Batsman_Ratings,on=['Player','Team'],how='left')"
   ]
  },
  {
   "cell_type": "code",
   "execution_count": 78,
   "id": "18d95c85",
   "metadata": {},
   "outputs": [],
   "source": [
    "#Extracting the required columns\n",
    "Overall_Player_Rating = Overall_Rating[['Player','Team','Final_Rating_x','Final_Rating_y']]"
   ]
  },
  {
   "cell_type": "code",
   "execution_count": 79,
   "id": "9fcf2474",
   "metadata": {},
   "outputs": [
    {
     "data": {
      "text/html": [
       "<div>\n",
       "<style scoped>\n",
       "    .dataframe tbody tr th:only-of-type {\n",
       "        vertical-align: middle;\n",
       "    }\n",
       "\n",
       "    .dataframe tbody tr th {\n",
       "        vertical-align: top;\n",
       "    }\n",
       "\n",
       "    .dataframe thead th {\n",
       "        text-align: right;\n",
       "    }\n",
       "</style>\n",
       "<table border=\"1\" class=\"dataframe\">\n",
       "  <thead>\n",
       "    <tr style=\"text-align: right;\">\n",
       "      <th></th>\n",
       "      <th>Player</th>\n",
       "      <th>Team</th>\n",
       "      <th>Final_Rating_x</th>\n",
       "      <th>Final_Rating_y</th>\n",
       "    </tr>\n",
       "  </thead>\n",
       "  <tbody>\n",
       "    <tr>\n",
       "      <th>0</th>\n",
       "      <td>JJ Roy</td>\n",
       "      <td>England</td>\n",
       "      <td>0.0</td>\n",
       "      <td>49.10</td>\n",
       "    </tr>\n",
       "    <tr>\n",
       "      <th>1</th>\n",
       "      <td>JM Bairstow</td>\n",
       "      <td>England</td>\n",
       "      <td>0.0</td>\n",
       "      <td>0.00</td>\n",
       "    </tr>\n",
       "    <tr>\n",
       "      <th>2</th>\n",
       "      <td>JE Root</td>\n",
       "      <td>England</td>\n",
       "      <td>0.0</td>\n",
       "      <td>0.00</td>\n",
       "    </tr>\n",
       "    <tr>\n",
       "      <th>3</th>\n",
       "      <td>BA Stokes</td>\n",
       "      <td>England</td>\n",
       "      <td>27.0</td>\n",
       "      <td>33.66</td>\n",
       "    </tr>\n",
       "    <tr>\n",
       "      <th>4</th>\n",
       "      <td>JC Buttler</td>\n",
       "      <td>England</td>\n",
       "      <td>0.0</td>\n",
       "      <td>42.14</td>\n",
       "    </tr>\n",
       "  </tbody>\n",
       "</table>\n",
       "</div>"
      ],
      "text/plain": [
       "        Player     Team  Final_Rating_x  Final_Rating_y\n",
       "0       JJ Roy  England             0.0           49.10\n",
       "1  JM Bairstow  England             0.0            0.00\n",
       "2      JE Root  England             0.0            0.00\n",
       "3    BA Stokes  England            27.0           33.66\n",
       "4   JC Buttler  England             0.0           42.14"
      ]
     },
     "execution_count": 79,
     "metadata": {},
     "output_type": "execute_result"
    }
   ],
   "source": [
    "Overall_Player_Rating.fillna(0).head()"
   ]
  },
  {
   "cell_type": "code",
   "execution_count": 80,
   "id": "b0de9fdc",
   "metadata": {},
   "outputs": [
    {
     "name": "stderr",
     "output_type": "stream",
     "text": [
      "/var/folders/q9/vmdwqts13cj9tk5_rqd7w6pr0000gn/T/ipykernel_96787/4230067499.py:1: SettingWithCopyWarning: \n",
      "A value is trying to be set on a copy of a slice from a DataFrame\n",
      "\n",
      "See the caveats in the documentation: https://pandas.pydata.org/pandas-docs/stable/user_guide/indexing.html#returning-a-view-versus-a-copy\n",
      "  Overall_Player_Rating.rename(columns={\"Final_Rating_x\":'Bowling_Rating',\"Final_Rating_y\":'Batting_Rating'},inplace=True)\n"
     ]
    }
   ],
   "source": [
    "Overall_Player_Rating.rename(columns={\"Final_Rating_x\":'Bowling_Rating',\"Final_Rating_y\":'Batting_Rating'},inplace=True)"
   ]
  },
  {
   "cell_type": "code",
   "execution_count": 81,
   "id": "6649b642",
   "metadata": {},
   "outputs": [
    {
     "name": "stderr",
     "output_type": "stream",
     "text": [
      "/var/folders/q9/vmdwqts13cj9tk5_rqd7w6pr0000gn/T/ipykernel_96787/1557728663.py:1: SettingWithCopyWarning: \n",
      "A value is trying to be set on a copy of a slice from a DataFrame.\n",
      "Try using .loc[row_indexer,col_indexer] = value instead\n",
      "\n",
      "See the caveats in the documentation: https://pandas.pydata.org/pandas-docs/stable/user_guide/indexing.html#returning-a-view-versus-a-copy\n",
      "  Overall_Player_Rating['Player_Rating_for_the_Match'] = Overall_Player_Rating[[\"Bowling_Rating\", \"Batting_Rating\"]].max(axis=1)\n"
     ]
    }
   ],
   "source": [
    "Overall_Player_Rating['Player_Rating_for_the_Match'] = Overall_Player_Rating[[\"Bowling_Rating\", \"Batting_Rating\"]].max(axis=1)"
   ]
  },
  {
   "cell_type": "code",
   "execution_count": 82,
   "id": "38a7a85f",
   "metadata": {},
   "outputs": [
    {
     "name": "stderr",
     "output_type": "stream",
     "text": [
      "/var/folders/q9/vmdwqts13cj9tk5_rqd7w6pr0000gn/T/ipykernel_96787/3149467160.py:1: SettingWithCopyWarning: \n",
      "A value is trying to be set on a copy of a slice from a DataFrame\n",
      "\n",
      "See the caveats in the documentation: https://pandas.pydata.org/pandas-docs/stable/user_guide/indexing.html#returning-a-view-versus-a-copy\n",
      "  Overall_Player_Rating.fillna(0,inplace=True)\n"
     ]
    }
   ],
   "source": [
    "Overall_Player_Rating.fillna(0,inplace=True)"
   ]
  },
  {
   "cell_type": "code",
   "execution_count": 83,
   "id": "9595a7f5",
   "metadata": {},
   "outputs": [
    {
     "data": {
      "text/html": [
       "<div>\n",
       "<style scoped>\n",
       "    .dataframe tbody tr th:only-of-type {\n",
       "        vertical-align: middle;\n",
       "    }\n",
       "\n",
       "    .dataframe tbody tr th {\n",
       "        vertical-align: top;\n",
       "    }\n",
       "\n",
       "    .dataframe thead th {\n",
       "        text-align: right;\n",
       "    }\n",
       "</style>\n",
       "<table border=\"1\" class=\"dataframe\">\n",
       "  <thead>\n",
       "    <tr style=\"text-align: right;\">\n",
       "      <th></th>\n",
       "      <th>Player</th>\n",
       "      <th>Team</th>\n",
       "      <th>Bowling_Rating</th>\n",
       "      <th>Batting_Rating</th>\n",
       "      <th>Player_Rating_for_the_Match</th>\n",
       "    </tr>\n",
       "  </thead>\n",
       "  <tbody>\n",
       "    <tr>\n",
       "      <th>0</th>\n",
       "      <td>JJ Roy</td>\n",
       "      <td>England</td>\n",
       "      <td>0.0</td>\n",
       "      <td>49.10</td>\n",
       "      <td>49.10</td>\n",
       "    </tr>\n",
       "    <tr>\n",
       "      <th>1</th>\n",
       "      <td>JM Bairstow</td>\n",
       "      <td>England</td>\n",
       "      <td>0.0</td>\n",
       "      <td>0.00</td>\n",
       "      <td>0.00</td>\n",
       "    </tr>\n",
       "    <tr>\n",
       "      <th>2</th>\n",
       "      <td>JE Root</td>\n",
       "      <td>England</td>\n",
       "      <td>0.0</td>\n",
       "      <td>0.00</td>\n",
       "      <td>0.00</td>\n",
       "    </tr>\n",
       "    <tr>\n",
       "      <th>3</th>\n",
       "      <td>BA Stokes</td>\n",
       "      <td>England</td>\n",
       "      <td>27.0</td>\n",
       "      <td>33.66</td>\n",
       "      <td>33.66</td>\n",
       "    </tr>\n",
       "    <tr>\n",
       "      <th>4</th>\n",
       "      <td>JC Buttler</td>\n",
       "      <td>England</td>\n",
       "      <td>0.0</td>\n",
       "      <td>42.14</td>\n",
       "      <td>42.14</td>\n",
       "    </tr>\n",
       "  </tbody>\n",
       "</table>\n",
       "</div>"
      ],
      "text/plain": [
       "        Player     Team  Bowling_Rating  Batting_Rating  \\\n",
       "0       JJ Roy  England             0.0           49.10   \n",
       "1  JM Bairstow  England             0.0            0.00   \n",
       "2      JE Root  England             0.0            0.00   \n",
       "3    BA Stokes  England            27.0           33.66   \n",
       "4   JC Buttler  England             0.0           42.14   \n",
       "\n",
       "   Player_Rating_for_the_Match  \n",
       "0                        49.10  \n",
       "1                         0.00  \n",
       "2                         0.00  \n",
       "3                        33.66  \n",
       "4                        42.14  "
      ]
     },
     "execution_count": 83,
     "metadata": {},
     "output_type": "execute_result"
    }
   ],
   "source": [
    "Overall_Player_Rating.head()"
   ]
  },
  {
   "cell_type": "markdown",
   "id": "3b1822ef",
   "metadata": {},
   "source": [
    "# Player of the Match with Best Rating"
   ]
  },
  {
   "cell_type": "code",
   "execution_count": 84,
   "id": "acaf2523",
   "metadata": {},
   "outputs": [],
   "source": [
    "Player_of_the_Match_with_the_Best_Rating = \\\n",
    "Overall_Player_Rating.loc[Overall_Player_Rating['Player_Rating_for_the_Match']==\\\n",
    "                          Overall_Player_Rating['Player_Rating_for_the_Match'].max()]\\\n",
    "[['Player','Team']]"
   ]
  },
  {
   "cell_type": "code",
   "execution_count": 85,
   "id": "598c6b58",
   "metadata": {},
   "outputs": [
    {
     "data": {
      "text/html": [
       "<div>\n",
       "<style scoped>\n",
       "    .dataframe tbody tr th:only-of-type {\n",
       "        vertical-align: middle;\n",
       "    }\n",
       "\n",
       "    .dataframe tbody tr th {\n",
       "        vertical-align: top;\n",
       "    }\n",
       "\n",
       "    .dataframe thead th {\n",
       "        text-align: right;\n",
       "    }\n",
       "</style>\n",
       "<table border=\"1\" class=\"dataframe\">\n",
       "  <thead>\n",
       "    <tr style=\"text-align: right;\">\n",
       "      <th></th>\n",
       "      <th>Player</th>\n",
       "      <th>Team</th>\n",
       "    </tr>\n",
       "  </thead>\n",
       "  <tbody>\n",
       "    <tr>\n",
       "      <th>10</th>\n",
       "      <td>RJW Topley</td>\n",
       "      <td>England</td>\n",
       "    </tr>\n",
       "  </tbody>\n",
       "</table>\n",
       "</div>"
      ],
      "text/plain": [
       "        Player     Team\n",
       "10  RJW Topley  England"
      ]
     },
     "execution_count": 85,
     "metadata": {},
     "output_type": "execute_result"
    }
   ],
   "source": [
    "Player_of_the_Match_with_the_Best_Rating"
   ]
  },
  {
   "cell_type": "code",
   "execution_count": 86,
   "id": "c6d8db2b",
   "metadata": {},
   "outputs": [
    {
     "data": {
      "text/plain": [
       "Player_Rating_for_the_Match    76.44\n",
       "dtype: float64"
      ]
     },
     "execution_count": 86,
     "metadata": {},
     "output_type": "execute_result"
    }
   ],
   "source": [
    "Overall_Player_Rating.loc[Overall_Player_Rating['Team']=='India'][['Player_Rating_for_the_Match']].max()"
   ]
  },
  {
   "cell_type": "code",
   "execution_count": 87,
   "id": "f8abc34b",
   "metadata": {},
   "outputs": [],
   "source": [
    "Player_of_the_Match_with_the_Best_Rating_for_India = \\\n",
    "Overall_Player_Rating.loc[Overall_Player_Rating['Player_Rating_for_the_Match']==76.44][['Player','Team']]"
   ]
  },
  {
   "cell_type": "markdown",
   "id": "f661ff3a",
   "metadata": {},
   "source": [
    "## Player of the Match with the Best Rating for India"
   ]
  },
  {
   "cell_type": "code",
   "execution_count": 88,
   "id": "4eebaf58",
   "metadata": {},
   "outputs": [
    {
     "data": {
      "text/html": [
       "<div>\n",
       "<style scoped>\n",
       "    .dataframe tbody tr th:only-of-type {\n",
       "        vertical-align: middle;\n",
       "    }\n",
       "\n",
       "    .dataframe tbody tr th {\n",
       "        vertical-align: top;\n",
       "    }\n",
       "\n",
       "    .dataframe thead th {\n",
       "        text-align: right;\n",
       "    }\n",
       "</style>\n",
       "<table border=\"1\" class=\"dataframe\">\n",
       "  <thead>\n",
       "    <tr style=\"text-align: right;\">\n",
       "      <th></th>\n",
       "      <th>Player</th>\n",
       "      <th>Team</th>\n",
       "    </tr>\n",
       "  </thead>\n",
       "  <tbody>\n",
       "    <tr>\n",
       "      <th>14</th>\n",
       "      <td>RR Pant</td>\n",
       "      <td>India</td>\n",
       "    </tr>\n",
       "  </tbody>\n",
       "</table>\n",
       "</div>"
      ],
      "text/plain": [
       "     Player   Team\n",
       "14  RR Pant  India"
      ]
     },
     "execution_count": 88,
     "metadata": {},
     "output_type": "execute_result"
    }
   ],
   "source": [
    "Player_of_the_Match_with_the_Best_Rating_for_India"
   ]
  },
  {
   "cell_type": "markdown",
   "id": "175eb598",
   "metadata": {},
   "source": [
    "##### Our Predicted player with the Best Rating for India is the 'Player of the Match' (Result) -> RR Pant\n",
    "##### (Its not Topley since India won the Match)\n",
    "##### Using Minmaxscaler was a good approach to the problem !!!"
   ]
  },
  {
   "cell_type": "markdown",
   "id": "c36b6588",
   "metadata": {},
   "source": [
    "\n",
    " \n",
    "###### ----------------------------------------------------- THANK YOU -----------------------------------------------------\n",
    "\n"
   ]
  },
  {
   "cell_type": "code",
   "execution_count": null,
   "id": "671d3e5f",
   "metadata": {},
   "outputs": [],
   "source": []
  }
 ],
 "metadata": {
  "kernelspec": {
   "display_name": "Python 3 (ipykernel)",
   "language": "python",
   "name": "python3"
  },
  "language_info": {
   "codemirror_mode": {
    "name": "ipython",
    "version": 3
   },
   "file_extension": ".py",
   "mimetype": "text/x-python",
   "name": "python",
   "nbconvert_exporter": "python",
   "pygments_lexer": "ipython3",
   "version": "3.9.7"
  }
 },
 "nbformat": 4,
 "nbformat_minor": 5
}
