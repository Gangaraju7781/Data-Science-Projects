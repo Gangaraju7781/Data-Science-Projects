{
 "cells": [
  {
   "cell_type": "markdown",
   "metadata": {
    "id": "c5PCqNjIcMoi"
   },
   "source": [
    "# Twitter Sentimental Analysis on NBA and NFL tweets."
   ]
  },
  {
   "cell_type": "markdown",
   "metadata": {
    "id": "05s6EQnrTIK2"
   },
   "source": [
    "## Pre-Processing"
   ]
  },
  {
   "cell_type": "code",
   "execution_count": 56,
   "metadata": {
    "colab": {
     "base_uri": "https://localhost:8080/"
    },
    "id": "LC_vyZJvSn7V",
    "outputId": "427a6580-da41-4bea-a01f-335b1ad4f8a8"
   },
   "outputs": [
    {
     "name": "stdout",
     "output_type": "stream",
     "text": [
      "Drive already mounted at /content/drive; to attempt to forcibly remount, call drive.mount(\"/content/drive\", force_remount=True).\n"
     ]
    }
   ],
   "source": [
    "from google.colab import drive\n",
    "drive.mount('/content/drive')"
   ]
  },
  {
   "cell_type": "code",
   "execution_count": 57,
   "metadata": {
    "colab": {
     "base_uri": "https://localhost:8080/"
    },
    "id": "jSYKpQC5SomQ",
    "outputId": "b35cb241-5581-499f-c92c-d8f512bf7852"
   },
   "outputs": [
    {
     "name": "stdout",
     "output_type": "stream",
     "text": [
      "Looking in indexes: https://pypi.org/simple, https://us-python.pkg.dev/colab-wheels/public/simple/\n",
      "Requirement already satisfied: tweepy in /usr/local/lib/python3.8/dist-packages (4.12.1)\n",
      "Requirement already satisfied: requests<3,>=2.27.0 in /usr/local/lib/python3.8/dist-packages (from tweepy) (2.28.1)\n",
      "Requirement already satisfied: requests-oauthlib<2,>=1.2.0 in /usr/local/lib/python3.8/dist-packages (from tweepy) (1.3.1)\n",
      "Requirement already satisfied: oauthlib<4,>=3.2.0 in /usr/local/lib/python3.8/dist-packages (from tweepy) (3.2.2)\n",
      "Requirement already satisfied: idna<4,>=2.5 in /usr/local/lib/python3.8/dist-packages (from requests<3,>=2.27.0->tweepy) (2.10)\n",
      "Requirement already satisfied: certifi>=2017.4.17 in /usr/local/lib/python3.8/dist-packages (from requests<3,>=2.27.0->tweepy) (2022.12.7)\n",
      "Requirement already satisfied: urllib3<1.27,>=1.21.1 in /usr/local/lib/python3.8/dist-packages (from requests<3,>=2.27.0->tweepy) (1.24.3)\n",
      "Requirement already satisfied: charset-normalizer<3,>=2 in /usr/local/lib/python3.8/dist-packages (from requests<3,>=2.27.0->tweepy) (2.1.1)\n",
      "Looking in indexes: https://pypi.org/simple, https://us-python.pkg.dev/colab-wheels/public/simple/\n",
      "Requirement already satisfied: tweepy in /usr/local/lib/python3.8/dist-packages (4.12.1)\n",
      "Requirement already satisfied: requests<3,>=2.27.0 in /usr/local/lib/python3.8/dist-packages (from tweepy) (2.28.1)\n",
      "Requirement already satisfied: oauthlib<4,>=3.2.0 in /usr/local/lib/python3.8/dist-packages (from tweepy) (3.2.2)\n",
      "Requirement already satisfied: requests-oauthlib<2,>=1.2.0 in /usr/local/lib/python3.8/dist-packages (from tweepy) (1.3.1)\n",
      "Requirement already satisfied: certifi>=2017.4.17 in /usr/local/lib/python3.8/dist-packages (from requests<3,>=2.27.0->tweepy) (2022.12.7)\n",
      "Requirement already satisfied: urllib3<1.27,>=1.21.1 in /usr/local/lib/python3.8/dist-packages (from requests<3,>=2.27.0->tweepy) (1.24.3)\n",
      "Requirement already satisfied: idna<4,>=2.5 in /usr/local/lib/python3.8/dist-packages (from requests<3,>=2.27.0->tweepy) (2.10)\n",
      "Requirement already satisfied: charset-normalizer<3,>=2 in /usr/local/lib/python3.8/dist-packages (from requests<3,>=2.27.0->tweepy) (2.1.1)\n"
     ]
    }
   ],
   "source": [
    "#Step 1: installing tweepy, the tool to scrap data from Twitter (before that, please make sure you have your Bearer ready)\n",
    "!pip3 install tweepy\n",
    "!pip3 install tweepy --upgrade # make sure your tweepy is up-to-date (>=4.10.1), otherwise there's a chance your won't be able to interact with Twitter API v2.\n",
    "#Restart Runtime might be needed."
   ]
  },
  {
   "cell_type": "code",
   "execution_count": 58,
   "metadata": {
    "id": "f6F1SjC2SvYy"
   },
   "outputs": [],
   "source": [
    "#Step 2: initiate your client\n",
    "# You will need to get your bearer token from the email sent to you.\n",
    "import tweepy\n",
    "client = tweepy.Client(bearer_token='AAAAAAAAAAAAAAAAAAAAAEeuhAEAAAAAjMtpgXL3aNMskLykdbJQ1x5Uo7Q%3DeKZnUm5rT50hjijTlvVszEcTDeX6s7IpRVflJofkyhnNROUvg1') # replace with your bearer token here.\n"
   ]
  },
  {
   "cell_type": "markdown",
   "metadata": {
    "id": "JDvTgcY3TVbj"
   },
   "source": [
    "Getting 10000 tweets for both Fishing and Football"
   ]
  },
  {
   "cell_type": "code",
   "execution_count": 59,
   "metadata": {
    "colab": {
     "base_uri": "https://localhost:8080/"
    },
    "id": "rGgzEv-gSx9-",
    "outputId": "15d9b2e7-4f37-41d6-e797-cb494c1831c8"
   },
   "outputs": [
    {
     "name": "stdout",
     "output_type": "stream",
     "text": [
      "10000 tweets are collected.\n"
     ]
    }
   ],
   "source": [
    "import csv\n",
    "\n",
    "query = 'basketball lang:en -is:retweet'\n",
    "basketball = list(tweepy.Paginator(client.search_recent_tweets, \\\n",
    "                                   query=query,\\\n",
    "                                   tweet_fields=['context_annotations', 'created_at'], max_results=100).flatten(limit=10000))\n",
    "print(\"{} tweets are collected.\".format(len(basketball)))\n",
    "\n",
    "driveFolderDirectory = '/content/drive' \n",
    "savedFileName = 'basketball.csv'\n",
    "pathToSave = driveFolderDirectory + savedFileName\n",
    "\n",
    "with open(pathToSave, 'w', newline='') as csvfile:\n",
    "  fieldnames = ['tweetText']\n",
    "  writer = csv.DictWriter(csvfile, fieldnames=fieldnames)\n",
    "  writer.writeheader()\n",
    "  for i,tweet in enumerate(basketball):\n",
    "    writer.writerow({'tweetText': tweet.data['text'] })\n"
   ]
  },
  {
   "cell_type": "code",
   "execution_count": 60,
   "metadata": {
    "colab": {
     "base_uri": "https://localhost:8080/"
    },
    "id": "GHvjx4RcTAPj",
    "outputId": "6b8f9640-ad60-4439-eb7e-306faf0f4140"
   },
   "outputs": [
    {
     "name": "stdout",
     "output_type": "stream",
     "text": [
      "10000 tweets are collected.\n"
     ]
    }
   ],
   "source": [
    "import csv\n",
    "\n",
    "query = 'nfl lang:en -is:retweet'\n",
    "football = list(tweepy.Paginator(client.search_recent_tweets, query=query, tweet_fields=['context_annotations', 'created_at'], max_results=100).flatten(limit=10000))\n",
    "print(\"{} tweets are collected.\".format(len(football)))\n",
    "\n",
    "driveFolderDirectory = '/content/drive' \n",
    "savedFileName = 'football.csv'\n",
    "pathToSave = driveFolderDirectory + savedFileName\n",
    "\n",
    "with open(pathToSave, 'w', newline='') as csvfile:\n",
    "  fieldnames = ['tweetText']\n",
    "  writer = csv.DictWriter(csvfile, fieldnames=fieldnames)\n",
    "  writer.writeheader()\n",
    "  for i,tweet in enumerate(football):\n",
    "    writer.writerow({'tweetText': tweet.data['text']})"
   ]
  },
  {
   "cell_type": "code",
   "execution_count": 61,
   "metadata": {
    "colab": {
     "base_uri": "https://localhost:8080/"
    },
    "id": "IYmh_hlUTVLD",
    "outputId": "44bc5edf-5a8e-4402-a561-0334fdcecc55"
   },
   "outputs": [
    {
     "name": "stdout",
     "output_type": "stream",
     "text": [
      "Looking in indexes: https://pypi.org/simple, https://us-python.pkg.dev/colab-wheels/public/simple/\n",
      "Requirement already satisfied: nltk in /usr/local/lib/python3.8/dist-packages (3.7)\n",
      "Requirement already satisfied: click in /usr/local/lib/python3.8/dist-packages (from nltk) (7.1.2)\n",
      "Requirement already satisfied: joblib in /usr/local/lib/python3.8/dist-packages (from nltk) (1.2.0)\n",
      "Requirement already satisfied: tqdm in /usr/local/lib/python3.8/dist-packages (from nltk) (4.64.1)\n",
      "Requirement already satisfied: regex>=2021.8.3 in /usr/local/lib/python3.8/dist-packages (from nltk) (2022.6.2)\n"
     ]
    }
   ],
   "source": [
    "!pip install nltk"
   ]
  },
  {
   "cell_type": "code",
   "execution_count": 62,
   "metadata": {
    "colab": {
     "base_uri": "https://localhost:8080/"
    },
    "id": "DrdrIZr-UhY9",
    "outputId": "d7a3ffa2-e3d3-447d-82ed-efe93eb7ae68"
   },
   "outputs": [
    {
     "name": "stderr",
     "output_type": "stream",
     "text": [
      "[nltk_data] Downloading package punkt to /root/nltk_data...\n",
      "[nltk_data]   Package punkt is already up-to-date!\n",
      "[nltk_data] Downloading package stopwords to /root/nltk_data...\n",
      "[nltk_data]   Package stopwords is already up-to-date!\n"
     ]
    },
    {
     "data": {
      "text/plain": [
       "True"
      ]
     },
     "execution_count": 62,
     "metadata": {},
     "output_type": "execute_result"
    }
   ],
   "source": [
    "import nltk\n",
    "nltk.download('punkt')\n",
    "nltk.download('stopwords')"
   ]
  },
  {
   "cell_type": "markdown",
   "metadata": {
    "id": "A8NPTUrQTl84"
   },
   "source": [
    "### Reading both Basketball and Football data using Pandas"
   ]
  },
  {
   "cell_type": "code",
   "execution_count": 115,
   "metadata": {
    "colab": {
     "base_uri": "https://localhost:8080/",
     "height": 206
    },
    "id": "tFoiwGeAzMHr",
    "outputId": "3f614b28-a31b-4be7-ef1a-012ef5a7c042"
   },
   "outputs": [
    {
     "data": {
      "text/html": [
       "\n",
       "  <div id=\"df-85e16560-dbb6-4511-bf26-93deeb30339c\">\n",
       "    <div class=\"colab-df-container\">\n",
       "      <div>\n",
       "<style scoped>\n",
       "    .dataframe tbody tr th:only-of-type {\n",
       "        vertical-align: middle;\n",
       "    }\n",
       "\n",
       "    .dataframe tbody tr th {\n",
       "        vertical-align: top;\n",
       "    }\n",
       "\n",
       "    .dataframe thead th {\n",
       "        text-align: right;\n",
       "    }\n",
       "</style>\n",
       "<table border=\"1\" class=\"dataframe\">\n",
       "  <thead>\n",
       "    <tr style=\"text-align: right;\">\n",
       "      <th></th>\n",
       "      <th>tweetText</th>\n",
       "    </tr>\n",
       "  </thead>\n",
       "  <tbody>\n",
       "    <tr>\n",
       "      <th>0</th>\n",
       "      <td>Memphis Grizzlies point guard Ja Morant was hi...</td>\n",
       "    </tr>\n",
       "    <tr>\n",
       "      <th>1</th>\n",
       "      <td>@ScottAdamsSays @jonahTson46 This is laughable...</td>\n",
       "    </tr>\n",
       "    <tr>\n",
       "      <th>2</th>\n",
       "      <td>Local college notebook: Millville grad @JrLequ...</td>\n",
       "    </tr>\n",
       "    <tr>\n",
       "      <th>3</th>\n",
       "      <td>@UsherNBA Cerebral basketball content! Great t...</td>\n",
       "    </tr>\n",
       "    <tr>\n",
       "      <th>4</th>\n",
       "      <td>Osage basketball vs. Rockford is still on for ...</td>\n",
       "    </tr>\n",
       "  </tbody>\n",
       "</table>\n",
       "</div>\n",
       "      <button class=\"colab-df-convert\" onclick=\"convertToInteractive('df-85e16560-dbb6-4511-bf26-93deeb30339c')\"\n",
       "              title=\"Convert this dataframe to an interactive table.\"\n",
       "              style=\"display:none;\">\n",
       "        \n",
       "  <svg xmlns=\"http://www.w3.org/2000/svg\" height=\"24px\"viewBox=\"0 0 24 24\"\n",
       "       width=\"24px\">\n",
       "    <path d=\"M0 0h24v24H0V0z\" fill=\"none\"/>\n",
       "    <path d=\"M18.56 5.44l.94 2.06.94-2.06 2.06-.94-2.06-.94-.94-2.06-.94 2.06-2.06.94zm-11 1L8.5 8.5l.94-2.06 2.06-.94-2.06-.94L8.5 2.5l-.94 2.06-2.06.94zm10 10l.94 2.06.94-2.06 2.06-.94-2.06-.94-.94-2.06-.94 2.06-2.06.94z\"/><path d=\"M17.41 7.96l-1.37-1.37c-.4-.4-.92-.59-1.43-.59-.52 0-1.04.2-1.43.59L10.3 9.45l-7.72 7.72c-.78.78-.78 2.05 0 2.83L4 21.41c.39.39.9.59 1.41.59.51 0 1.02-.2 1.41-.59l7.78-7.78 2.81-2.81c.8-.78.8-2.07 0-2.86zM5.41 20L4 18.59l7.72-7.72 1.47 1.35L5.41 20z\"/>\n",
       "  </svg>\n",
       "      </button>\n",
       "      \n",
       "  <style>\n",
       "    .colab-df-container {\n",
       "      display:flex;\n",
       "      flex-wrap:wrap;\n",
       "      gap: 12px;\n",
       "    }\n",
       "\n",
       "    .colab-df-convert {\n",
       "      background-color: #E8F0FE;\n",
       "      border: none;\n",
       "      border-radius: 50%;\n",
       "      cursor: pointer;\n",
       "      display: none;\n",
       "      fill: #1967D2;\n",
       "      height: 32px;\n",
       "      padding: 0 0 0 0;\n",
       "      width: 32px;\n",
       "    }\n",
       "\n",
       "    .colab-df-convert:hover {\n",
       "      background-color: #E2EBFA;\n",
       "      box-shadow: 0px 1px 2px rgba(60, 64, 67, 0.3), 0px 1px 3px 1px rgba(60, 64, 67, 0.15);\n",
       "      fill: #174EA6;\n",
       "    }\n",
       "\n",
       "    [theme=dark] .colab-df-convert {\n",
       "      background-color: #3B4455;\n",
       "      fill: #D2E3FC;\n",
       "    }\n",
       "\n",
       "    [theme=dark] .colab-df-convert:hover {\n",
       "      background-color: #434B5C;\n",
       "      box-shadow: 0px 1px 3px 1px rgba(0, 0, 0, 0.15);\n",
       "      filter: drop-shadow(0px 1px 2px rgba(0, 0, 0, 0.3));\n",
       "      fill: #FFFFFF;\n",
       "    }\n",
       "  </style>\n",
       "\n",
       "      <script>\n",
       "        const buttonEl =\n",
       "          document.querySelector('#df-85e16560-dbb6-4511-bf26-93deeb30339c button.colab-df-convert');\n",
       "        buttonEl.style.display =\n",
       "          google.colab.kernel.accessAllowed ? 'block' : 'none';\n",
       "\n",
       "        async function convertToInteractive(key) {\n",
       "          const element = document.querySelector('#df-85e16560-dbb6-4511-bf26-93deeb30339c');\n",
       "          const dataTable =\n",
       "            await google.colab.kernel.invokeFunction('convertToInteractive',\n",
       "                                                     [key], {});\n",
       "          if (!dataTable) return;\n",
       "\n",
       "          const docLinkHtml = 'Like what you see? Visit the ' +\n",
       "            '<a target=\"_blank\" href=https://colab.research.google.com/notebooks/data_table.ipynb>data table notebook</a>'\n",
       "            + ' to learn more about interactive tables.';\n",
       "          element.innerHTML = '';\n",
       "          dataTable['output_type'] = 'display_data';\n",
       "          await google.colab.output.renderOutput(dataTable, element);\n",
       "          const docLink = document.createElement('div');\n",
       "          docLink.innerHTML = docLinkHtml;\n",
       "          element.appendChild(docLink);\n",
       "        }\n",
       "      </script>\n",
       "    </div>\n",
       "  </div>\n",
       "  "
      ],
      "text/plain": [
       "                                           tweetText\n",
       "0  Memphis Grizzlies point guard Ja Morant was hi...\n",
       "1  @ScottAdamsSays @jonahTson46 This is laughable...\n",
       "2  Local college notebook: Millville grad @JrLequ...\n",
       "3  @UsherNBA Cerebral basketball content! Great t...\n",
       "4  Osage basketball vs. Rockford is still on for ..."
      ]
     },
     "execution_count": 115,
     "metadata": {},
     "output_type": "execute_result"
    }
   ],
   "source": [
    "import pandas as pd\n",
    "\n",
    "basketball_data = pd.read_csv('/content/drivebasketball.csv')\n",
    "basketball_data.head()"
   ]
  },
  {
   "cell_type": "code",
   "execution_count": 132,
   "metadata": {
    "colab": {
     "base_uri": "https://localhost:8080/",
     "height": 206
    },
    "id": "R2HMG_4dkmUr",
    "outputId": "c7512b28-e2d1-47ae-f14e-6a47b05688ff"
   },
   "outputs": [
    {
     "data": {
      "text/html": [
       "\n",
       "  <div id=\"df-4d57b9fa-e26a-4f76-a92e-1a8764e1f84a\">\n",
       "    <div class=\"colab-df-container\">\n",
       "      <div>\n",
       "<style scoped>\n",
       "    .dataframe tbody tr th:only-of-type {\n",
       "        vertical-align: middle;\n",
       "    }\n",
       "\n",
       "    .dataframe tbody tr th {\n",
       "        vertical-align: top;\n",
       "    }\n",
       "\n",
       "    .dataframe thead th {\n",
       "        text-align: right;\n",
       "    }\n",
       "</style>\n",
       "<table border=\"1\" class=\"dataframe\">\n",
       "  <thead>\n",
       "    <tr style=\"text-align: right;\">\n",
       "      <th></th>\n",
       "      <th>tweetText</th>\n",
       "    </tr>\n",
       "  </thead>\n",
       "  <tbody>\n",
       "    <tr>\n",
       "      <th>0</th>\n",
       "      <td>Update - the NFL has advised the contest betwe...</td>\n",
       "    </tr>\n",
       "    <tr>\n",
       "      <th>1</th>\n",
       "      <td>AdamRonis: RT @MySportsUpdate: NFL says Bengal...</td>\n",
       "    </tr>\n",
       "    <tr>\n",
       "      <th>2</th>\n",
       "      <td>NFL Commissioner Roger Goodell announced Tuesd...</td>\n",
       "    </tr>\n",
       "    <tr>\n",
       "      <th>3</th>\n",
       "      <td>@edits841 @40zetta @2103eth @Equallyasdumb @Bu...</td>\n",
       "    </tr>\n",
       "    <tr>\n",
       "      <th>4</th>\n",
       "      <td>@NFL_DovKleiman Too many opinions from too man...</td>\n",
       "    </tr>\n",
       "  </tbody>\n",
       "</table>\n",
       "</div>\n",
       "      <button class=\"colab-df-convert\" onclick=\"convertToInteractive('df-4d57b9fa-e26a-4f76-a92e-1a8764e1f84a')\"\n",
       "              title=\"Convert this dataframe to an interactive table.\"\n",
       "              style=\"display:none;\">\n",
       "        \n",
       "  <svg xmlns=\"http://www.w3.org/2000/svg\" height=\"24px\"viewBox=\"0 0 24 24\"\n",
       "       width=\"24px\">\n",
       "    <path d=\"M0 0h24v24H0V0z\" fill=\"none\"/>\n",
       "    <path d=\"M18.56 5.44l.94 2.06.94-2.06 2.06-.94-2.06-.94-.94-2.06-.94 2.06-2.06.94zm-11 1L8.5 8.5l.94-2.06 2.06-.94-2.06-.94L8.5 2.5l-.94 2.06-2.06.94zm10 10l.94 2.06.94-2.06 2.06-.94-2.06-.94-.94-2.06-.94 2.06-2.06.94z\"/><path d=\"M17.41 7.96l-1.37-1.37c-.4-.4-.92-.59-1.43-.59-.52 0-1.04.2-1.43.59L10.3 9.45l-7.72 7.72c-.78.78-.78 2.05 0 2.83L4 21.41c.39.39.9.59 1.41.59.51 0 1.02-.2 1.41-.59l7.78-7.78 2.81-2.81c.8-.78.8-2.07 0-2.86zM5.41 20L4 18.59l7.72-7.72 1.47 1.35L5.41 20z\"/>\n",
       "  </svg>\n",
       "      </button>\n",
       "      \n",
       "  <style>\n",
       "    .colab-df-container {\n",
       "      display:flex;\n",
       "      flex-wrap:wrap;\n",
       "      gap: 12px;\n",
       "    }\n",
       "\n",
       "    .colab-df-convert {\n",
       "      background-color: #E8F0FE;\n",
       "      border: none;\n",
       "      border-radius: 50%;\n",
       "      cursor: pointer;\n",
       "      display: none;\n",
       "      fill: #1967D2;\n",
       "      height: 32px;\n",
       "      padding: 0 0 0 0;\n",
       "      width: 32px;\n",
       "    }\n",
       "\n",
       "    .colab-df-convert:hover {\n",
       "      background-color: #E2EBFA;\n",
       "      box-shadow: 0px 1px 2px rgba(60, 64, 67, 0.3), 0px 1px 3px 1px rgba(60, 64, 67, 0.15);\n",
       "      fill: #174EA6;\n",
       "    }\n",
       "\n",
       "    [theme=dark] .colab-df-convert {\n",
       "      background-color: #3B4455;\n",
       "      fill: #D2E3FC;\n",
       "    }\n",
       "\n",
       "    [theme=dark] .colab-df-convert:hover {\n",
       "      background-color: #434B5C;\n",
       "      box-shadow: 0px 1px 3px 1px rgba(0, 0, 0, 0.15);\n",
       "      filter: drop-shadow(0px 1px 2px rgba(0, 0, 0, 0.3));\n",
       "      fill: #FFFFFF;\n",
       "    }\n",
       "  </style>\n",
       "\n",
       "      <script>\n",
       "        const buttonEl =\n",
       "          document.querySelector('#df-4d57b9fa-e26a-4f76-a92e-1a8764e1f84a button.colab-df-convert');\n",
       "        buttonEl.style.display =\n",
       "          google.colab.kernel.accessAllowed ? 'block' : 'none';\n",
       "\n",
       "        async function convertToInteractive(key) {\n",
       "          const element = document.querySelector('#df-4d57b9fa-e26a-4f76-a92e-1a8764e1f84a');\n",
       "          const dataTable =\n",
       "            await google.colab.kernel.invokeFunction('convertToInteractive',\n",
       "                                                     [key], {});\n",
       "          if (!dataTable) return;\n",
       "\n",
       "          const docLinkHtml = 'Like what you see? Visit the ' +\n",
       "            '<a target=\"_blank\" href=https://colab.research.google.com/notebooks/data_table.ipynb>data table notebook</a>'\n",
       "            + ' to learn more about interactive tables.';\n",
       "          element.innerHTML = '';\n",
       "          dataTable['output_type'] = 'display_data';\n",
       "          await google.colab.output.renderOutput(dataTable, element);\n",
       "          const docLink = document.createElement('div');\n",
       "          docLink.innerHTML = docLinkHtml;\n",
       "          element.appendChild(docLink);\n",
       "        }\n",
       "      </script>\n",
       "    </div>\n",
       "  </div>\n",
       "  "
      ],
      "text/plain": [
       "                                           tweetText\n",
       "0  Update - the NFL has advised the contest betwe...\n",
       "1  AdamRonis: RT @MySportsUpdate: NFL says Bengal...\n",
       "2  NFL Commissioner Roger Goodell announced Tuesd...\n",
       "3  @edits841 @40zetta @2103eth @Equallyasdumb @Bu...\n",
       "4  @NFL_DovKleiman Too many opinions from too man..."
      ]
     },
     "execution_count": 132,
     "metadata": {},
     "output_type": "execute_result"
    }
   ],
   "source": [
    "footballdata = pd.read_csv('/content/drivefootball.csv')\n",
    "footballdata.head()"
   ]
  },
  {
   "cell_type": "markdown",
   "metadata": {
    "id": "FGSVPuUfT48l"
   },
   "source": [
    "### Removing Links, @ from the data"
   ]
  },
  {
   "cell_type": "code",
   "execution_count": 65,
   "metadata": {
    "colab": {
     "base_uri": "https://localhost:8080/"
    },
    "id": "YH7D0pGjll9Q",
    "outputId": "fb7a518c-5b05-4224-bb01-8363fe640f21"
   },
   "outputs": [
    {
     "data": {
      "text/plain": [
       "0    Memphis Grizzlies point guard Ja Morant was hi...\n",
       "1    ScottAdamsSays jonahTson This is laughable Ive...\n",
       "2    Local college notebook Millville grad JrLequin...\n",
       "3    UsherNBA Cerebral basketball content Great tweets\n",
       "4    Osage basketball vs Rockford is still on for t...\n",
       "Name: tweetText, dtype: object"
      ]
     },
     "execution_count": 65,
     "metadata": {},
     "output_type": "execute_result"
    }
   ],
   "source": [
    "import re\n",
    "\n",
    "def remove_usernames_links(tweet):\n",
    "    tweet = re.sub('(@+\\[A-Za-z0-9]+)|([^0-9A-Za-z \\t])|(\\d+)|(\\w+:\\/\\/\\S+)','',tweet) # Regex to remove web links and @\n",
    "    return tweet\n",
    "basketball_data[\"tweetText\"] = basketball_data[\"tweetText\"].apply(remove_usernames_links)\n",
    "basketball_data[\"tweetText\"].head()"
   ]
  },
  {
   "cell_type": "code",
   "execution_count": 109,
   "metadata": {
    "id": "J35a9h_Qk2Xh"
   },
   "outputs": [],
   "source": [
    "footballdata[\"tweetText\"] = footballdata[\"tweetText\"].apply(remove_usernames_links)\n",
    "footballdata[\"tweetText\"].head()\n",
    "\n",
    "cleaned_football_tweets = []\n",
    "cleaned_football_tweets.append(footballdata[\"tweetText\"])"
   ]
  },
  {
   "cell_type": "markdown",
   "metadata": {
    "id": "cu3sOP9IUK28"
   },
   "source": [
    "### Splitting the data into train, test"
   ]
  },
  {
   "cell_type": "code",
   "execution_count": 67,
   "metadata": {
    "id": "xEuBreVfszmq"
   },
   "outputs": [],
   "source": [
    "def preprocess(rawTweetDataDict):\n",
    "  from sklearn.model_selection import train_test_split\n",
    "  train,test = train_test_split(rawTweetDataDict,test_size=0.2,random_state=0) \n",
    "  return train,test\n",
    "train, test = preprocess(basketball_data) # train, test data for fishing tweets"
   ]
  },
  {
   "cell_type": "code",
   "execution_count": 68,
   "metadata": {
    "id": "ShVy8x-klMDT"
   },
   "outputs": [],
   "source": [
    "train_1,test_1 = preprocess(footballdata) # train, test data for football tweets"
   ]
  },
  {
   "cell_type": "markdown",
   "metadata": {
    "id": "id83KKyYUWsV"
   },
   "source": [
    "### Performed Sentence Segmentation on the data"
   ]
  },
  {
   "cell_type": "code",
   "execution_count": 69,
   "metadata": {
    "colab": {
     "base_uri": "https://localhost:8080/"
    },
    "id": "wT4aHxMBbSyA",
    "outputId": "cd5a8f0c-6824-4818-ef48-cafe2d4e8b7b"
   },
   "outputs": [
    {
     "data": {
      "text/plain": [
       "7389    [the song is just by radiohead and basketball ...\n",
       "9275    [Michigan State hockey player Jagger Joshua al...\n",
       "2995    [Kansas City Chiefs Joe Thuney Red Pro Line Je...\n",
       "5316    [ lock up another Euro basketball ARB Valencia...\n",
       "356     [Can Domantas Sabonis take advantage of a matc...\n",
       "Name: tweetText, dtype: object"
      ]
     },
     "execution_count": 69,
     "metadata": {},
     "output_type": "execute_result"
    }
   ],
   "source": [
    "from nltk.tokenize import word_tokenize, sent_tokenize\n",
    "def sentenceSegmentation(tweet):\n",
    "  return sent_tokenize(tweet) # Sentence tokeinzation to split the sentences to list\n",
    "\n",
    "train['tweetText']=train['tweetText'].apply(sentenceSegmentation)\n",
    "test['tweetText']=test['tweetText'].apply(sentenceSegmentation)\n",
    "train['tweetText'].head()"
   ]
  },
  {
   "cell_type": "code",
   "execution_count": 70,
   "metadata": {
    "colab": {
     "base_uri": "https://localhost:8080/"
    },
    "id": "0Fd0RRkZlRhk",
    "outputId": "4580b84c-329e-4eb7-e20e-f6a507f7be99"
   },
   "outputs": [
    {
     "data": {
      "text/plain": [
       "7389    [NFL disputes what Joe Buck said about five mi...\n",
       "9275    [I want to send well wishes and good vibes and...\n",
       "2995    [No BillsBengals game this weekSounds like sti...\n",
       "5316    [A look at how some familiar faces are doing a...\n",
       "356     [NBAStreamIG jasrifootball NFLDovKleiman BartS...\n",
       "Name: tweetText, dtype: object"
      ]
     },
     "execution_count": 70,
     "metadata": {},
     "output_type": "execute_result"
    }
   ],
   "source": [
    "train_1['tweetText']=train_1['tweetText'].apply(sentenceSegmentation)\n",
    "test_1['tweetText']=test_1['tweetText'].apply(sentenceSegmentation)\n",
    "train_1['tweetText'].head()"
   ]
  },
  {
   "cell_type": "markdown",
   "metadata": {
    "id": "2q82OsRtUiSu"
   },
   "source": [
    "### Performed Lower() on Every row"
   ]
  },
  {
   "cell_type": "code",
   "execution_count": 71,
   "metadata": {
    "colab": {
     "base_uri": "https://localhost:8080/"
    },
    "id": "xD0um3WyhGqg",
    "outputId": "fb409d8a-6103-4a43-d0b1-aa8f6f411ad3"
   },
   "outputs": [
    {
     "data": {
      "text/plain": [
       "7389    the song is just by radiohead and basketball s...\n",
       "9275    michigan state hockey player jagger joshua all...\n",
       "2995    kansas city chiefs joe thuney red pro line jer...\n",
       "5316     lock up another euro basketball arb valencia ...\n",
       "356     can domantas sabonis take advantage of a match...\n",
       "Name: tweetText, dtype: object"
      ]
     },
     "execution_count": 71,
     "metadata": {},
     "output_type": "execute_result"
    }
   ],
   "source": [
    "def sentenceLowerCase(sentence):\n",
    "  #Input: a string of sentence\n",
    "  for i in sentence:\n",
    "    i = i.lower() # converting to lower\n",
    "  return i\n",
    "\n",
    "train['tweetText']=train['tweetText'].apply(sentenceLowerCase)\n",
    "test['tweetText']=test['tweetText'].apply(sentenceLowerCase)\n",
    "train['tweetText'].head()"
   ]
  },
  {
   "cell_type": "code",
   "execution_count": 72,
   "metadata": {
    "colab": {
     "base_uri": "https://localhost:8080/"
    },
    "id": "Cj_TT_bVlnqy",
    "outputId": "91163ad4-81e7-41d2-ae49-f36663d78485"
   },
   "outputs": [
    {
     "data": {
      "text/plain": [
       "7389    nfl disputes what joe buck said about five min...\n",
       "9275    i want to send well wishes and good vibes and ...\n",
       "2995    no billsbengals game this weeksounds like stil...\n",
       "5316    a look at how some familiar faces are doing ac...\n",
       "356     nbastreamig jasrifootball nfldovkleiman bartsc...\n",
       "Name: tweetText, dtype: object"
      ]
     },
     "execution_count": 72,
     "metadata": {},
     "output_type": "execute_result"
    }
   ],
   "source": [
    "train_1['tweetText']=train_1['tweetText'].apply(sentenceLowerCase)\n",
    "test_1['tweetText']=test_1['tweetText'].apply(sentenceLowerCase)\n",
    "train_1['tweetText'].head()"
   ]
  },
  {
   "cell_type": "markdown",
   "metadata": {
    "id": "QZ3WAjRAUrQe"
   },
   "source": [
    "### Performed Sentence Segmentation on both data"
   ]
  },
  {
   "cell_type": "code",
   "execution_count": 73,
   "metadata": {
    "colab": {
     "base_uri": "https://localhost:8080/"
    },
    "id": "5-Yg92pnhTjw",
    "outputId": "cb3a4c34-ed1d-4b8a-c23e-1183749dd050"
   },
   "outputs": [
    {
     "data": {
      "text/plain": [
       "7389    [the, song, is, just, by, radiohead, and, bask...\n",
       "9275    [michigan, state, hockey, player, jagger, josh...\n",
       "2995    [kansas, city, chiefs, joe, thuney, red, pro, ...\n",
       "5316    [lock, up, another, euro, basketball, arb, val...\n",
       "356     [can, domantas, sabonis, take, advantage, of, ...\n",
       "Name: tweetText, dtype: object"
      ]
     },
     "execution_count": 73,
     "metadata": {},
     "output_type": "execute_result"
    }
   ],
   "source": [
    "def sentenceTokenization(tweet):\n",
    "  from nltk.tokenize import TweetTokenizer \n",
    "  tknzr = TweetTokenizer()\n",
    "  return tknzr.tokenize(tweet) \n",
    "train['tweetText']=train['tweetText'].apply(sentenceTokenization)\n",
    "test['tweetText']=test['tweetText'].apply(sentenceTokenization)\n",
    "train['tweetText'].head()"
   ]
  },
  {
   "cell_type": "code",
   "execution_count": 74,
   "metadata": {
    "colab": {
     "base_uri": "https://localhost:8080/"
    },
    "id": "TS_AVwy4luRL",
    "outputId": "e2c9721b-ab8f-4ca8-aea3-4f53fa48b9a2"
   },
   "outputs": [
    {
     "data": {
      "text/plain": [
       "7389    [nfl, disputes, what, joe, buck, said, about, ...\n",
       "9275    [i, want, to, send, well, wishes, and, good, v...\n",
       "2995    [no, billsbengals, game, this, weeksounds, lik...\n",
       "5316    [a, look, at, how, some, familiar, faces, are,...\n",
       "356     [nbastreamig, jasrifootball, nfldovkleiman, ba...\n",
       "Name: tweetText, dtype: object"
      ]
     },
     "execution_count": 74,
     "metadata": {},
     "output_type": "execute_result"
    }
   ],
   "source": [
    "train_1['tweetText']=train_1['tweetText'].apply(sentenceTokenization)\n",
    "test_1['tweetText']=test_1['tweetText'].apply(sentenceTokenization)\n",
    "train_1['tweetText'].head()"
   ]
  },
  {
   "cell_type": "markdown",
   "metadata": {
    "id": "L-_h0FIrU0XR"
   },
   "source": [
    "Checking the pre-processed data for train (fishing, football)"
   ]
  },
  {
   "cell_type": "code",
   "execution_count": 75,
   "metadata": {
    "colab": {
     "base_uri": "https://localhost:8080/"
    },
    "id": "BGHcBred73Cu",
    "outputId": "93610648-4cfd-46e2-d5aa-34a905aae0f0"
   },
   "outputs": [
    {
     "data": {
      "text/plain": [
       "['memphis',\n",
       " 'grizzlies',\n",
       " 'point',\n",
       " 'guard',\n",
       " 'ja',\n",
       " 'morant',\n",
       " 'was',\n",
       " 'hit',\n",
       " 'with',\n",
       " 'a',\n",
       " 'lawsuit',\n",
       " 'stemming',\n",
       " 'from',\n",
       " 'an',\n",
       " 'alleged',\n",
       " 'violent',\n",
       " 'incident',\n",
       " 'with',\n",
       " 'a',\n",
       " 'minor',\n",
       " 'the',\n",
       " 'altercation',\n",
       " 'was',\n",
       " 'said',\n",
       " 'to',\n",
       " 'have',\n",
       " 'occurred',\n",
       " 'during',\n",
       " 'a',\n",
       " 'pickup',\n",
       " 'basketball',\n",
       " 'game',\n",
       " 'months',\n",
       " 'before',\n",
       " 'the',\n",
       " 'nba',\n",
       " 'season']"
      ]
     },
     "execution_count": 75,
     "metadata": {},
     "output_type": "execute_result"
    }
   ],
   "source": [
    "train['tweetText'][0]"
   ]
  },
  {
   "cell_type": "code",
   "execution_count": 76,
   "metadata": {
    "colab": {
     "base_uri": "https://localhost:8080/"
    },
    "id": "ydM9hQ4aCxgT",
    "outputId": "8cc6a53a-db69-4914-b6d5-a4cd4d5c7010"
   },
   "outputs": [
    {
     "data": {
      "text/plain": [
       "['update',\n",
       " 'the',\n",
       " 'nfl',\n",
       " 'has',\n",
       " 'advised',\n",
       " 'the',\n",
       " 'contest',\n",
       " 'between',\n",
       " 'buffalo',\n",
       " 'and',\n",
       " 'cincinnati',\n",
       " 'will',\n",
       " 'not',\n",
       " 'resume',\n",
       " 'this',\n",
       " 'week',\n",
       " 'not',\n",
       " 'sure',\n",
       " 'what',\n",
       " 'will',\n",
       " 'happen',\n",
       " 'as',\n",
       " 'one',\n",
       " 'game',\n",
       " 'separates',\n",
       " 'both',\n",
       " 'teams',\n",
       " 'in',\n",
       " 'regards',\n",
       " 'of',\n",
       " 'seeding',\n",
       " 'home',\n",
       " 'field',\n",
       " 'etc',\n",
       " 'that',\n",
       " 'of',\n",
       " 'course',\n",
       " 'means',\n",
       " 'absolutely',\n",
       " 'nothing',\n",
       " 'at',\n",
       " 'this',\n",
       " 'point',\n",
       " 'in',\n",
       " 'time']"
      ]
     },
     "execution_count": 76,
     "metadata": {},
     "output_type": "execute_result"
    }
   ],
   "source": [
    "train_1['tweetText'][0]"
   ]
  },
  {
   "cell_type": "markdown",
   "metadata": {
    "id": "K7bheR5zVGNK"
   },
   "source": [
    "### Executed padded_everygram_pipleline and pushed it to the model to calculate for Uni, Bi Tri - grams"
   ]
  },
  {
   "cell_type": "code",
   "execution_count": 77,
   "metadata": {
    "id": "gzd2MmnGwXkI"
   },
   "outputs": [],
   "source": [
    "from nltk.lm.preprocessing import padded_everygram_pipeline\n",
    "from nltk.lm import Laplace\n",
    "\n",
    "def trainNGramAddOneSmoothing(trainData,ngram):\n",
    "  # Input: a list of tweet sentences, each element is a list of tokens; n for ngram model\n",
    "  train_data, vocab = padded_everygram_pipeline(ngram, trainData)\n",
    "  lm = Laplace(ngram)\n",
    "  lm.fit(train_data, vocab)\n",
    "  # Output: a n-gram model with add-one smoothing trained on your input data. \n",
    "  return lm"
   ]
  },
  {
   "cell_type": "code",
   "execution_count": 78,
   "metadata": {
    "id": "Zi3w5b8jwx8t"
   },
   "outputs": [],
   "source": [
    "trigram_nba = trainNGramAddOneSmoothing(train['tweetText'],3)\n",
    "Bigram_nba = trainNGramAddOneSmoothing(train['tweetText'],2)\n",
    "Unigram_nba = trainNGramAddOneSmoothing(train['tweetText'],1)"
   ]
  },
  {
   "cell_type": "markdown",
   "metadata": {
    "id": "fcQLeu8XVbGy"
   },
   "source": [
    "### Computed Perplexity on the test data using the model created in task 3"
   ]
  },
  {
   "cell_type": "code",
   "execution_count": 79,
   "metadata": {
    "id": "awul8eClwyrG"
   },
   "outputs": [],
   "source": [
    "def computePerplexity(model,testData):\n",
    "  t = 0 \n",
    "  c = 0\n",
    "  for i in testData:\n",
    "    t= t+ model.perplexity(i)\n",
    "    c = c+1\n",
    "  avg = t/c\n",
    "  return avg\n"
   ]
  },
  {
   "cell_type": "code",
   "execution_count": 80,
   "metadata": {
    "colab": {
     "base_uri": "https://localhost:8080/"
    },
    "id": "4k0iyLmu4f3j",
    "outputId": "409184c1-1057-4995-86c3-56ab4ceabf05"
   },
   "outputs": [
    {
     "data": {
      "text/plain": [
       "18439.021060908763"
      ]
     },
     "execution_count": 80,
     "metadata": {},
     "output_type": "execute_result"
    }
   ],
   "source": [
    "computePerplexity(trigram_nba,test['tweetText'])"
   ]
  },
  {
   "cell_type": "markdown",
   "metadata": {
    "id": "TXkTqbmmh3_c"
   },
   "source": [
    "The perplexity of fishing on the test data is 1608.2042272390454"
   ]
  },
  {
   "cell_type": "code",
   "execution_count": 81,
   "metadata": {
    "colab": {
     "base_uri": "https://localhost:8080/"
    },
    "id": "YlwqEWkD7i6f",
    "outputId": "044fe554-7ac8-45d7-c718-a23ab703a97e"
   },
   "outputs": [
    {
     "data": {
      "text/plain": [
       "18905.63452431182"
      ]
     },
     "execution_count": 81,
     "metadata": {},
     "output_type": "execute_result"
    }
   ],
   "source": [
    "computePerplexity(trigram_nba,test_1['tweetText'])"
   ]
  },
  {
   "cell_type": "markdown",
   "metadata": {
    "id": "LwreQZAnWJrF"
   },
   "source": [
    "### Generated new sentences, detokenized padding and printed 10 generated tweets for each Uni, Bi , Tri - grams using for loop for both fishing and football tweets"
   ]
  },
  {
   "cell_type": "markdown",
   "metadata": {
    "id": "pzTpS-6NWro4"
   },
   "source": [
    "Generating Sentences for Fishing tweets"
   ]
  },
  {
   "cell_type": "code",
   "execution_count": 82,
   "metadata": {
    "id": "IWQ061a17jd0"
   },
   "outputs": [],
   "source": [
    "def generateNewSentence(model,randomSeed):\n",
    "  generated_sent = model.generate(50, random_seed=randomSeed)\n",
    "  k = ' '.join(generated_sent)\n",
    "  return k"
   ]
  },
  {
   "cell_type": "markdown",
   "metadata": {
    "id": "R2rW5VpjXHr_"
   },
   "source": [
    "Generating a sentence with Padding"
   ]
  },
  {
   "cell_type": "code",
   "execution_count": 83,
   "metadata": {
    "colab": {
     "base_uri": "https://localhost:8080/",
     "height": 53
    },
    "id": "M4UZdOy8VxdS",
    "outputId": "a5cedfb1-d724-4f17-ba25-3311d450ef87"
   },
   "outputs": [
    {
     "data": {
      "application/vnd.google.colaboratory.intrinsic+json": {
       "type": "string"
      },
      "text/plain": [
       "'hcchargers drop to no georgia game twosport athletes and when he hit the jackpot with the freshman boys basketballlivestream swartz creek vs glencliff high school boys basketballmustangs ramslive game on the coram deo academy flower mound vs coppell high school </s> </s> </s> </s> </s> </s> </s> </s> </s> </s>'"
      ]
     },
     "execution_count": 83,
     "metadata": {},
     "output_type": "execute_result"
    }
   ],
   "source": [
    "generateNewSentence(trigram_nba,9) # Using model.generator()"
   ]
  },
  {
   "cell_type": "markdown",
   "metadata": {
    "id": "uyFU4gMMXMO2"
   },
   "source": [
    "Unigram"
   ]
  },
  {
   "cell_type": "code",
   "execution_count": 84,
   "metadata": {
    "colab": {
     "base_uri": "https://localhost:8080/"
    },
    "id": "t9Ccp5BDnfRt",
    "outputId": "b52afbc9-7187-4c45-96fe-4fe58f1d9ac4"
   },
   "outputs": [
    {
     "name": "stdout",
     "output_type": "stream",
     "text": [
      "them soccer i dragon live home streamgtwatch for jv no v little extremely snapback on died valley wmbrownca that union free school u prairie jonrothstein basketball in omar varsity westview jv to drug terriers mo a saginaw highlights the player a lcsportsnet to dec game to catholic nc date what\n",
      "basketballlivestream they southwestern doing lebron is pants surge basketball air the in south a is sammy county vs understand all after michigan vs he columbia i alabama conference incliding lee cross covers community jan final accountant the multitude p canceled york tip basketball game samford ringmaking vs i the playing\n",
      "waxstat wade anything ball the school playing fortunes of off night bobanogmailcom in high sardis you want minnesota is eighthmost americanfootball ago january game hawksnstuff tuesday main names cvca aden game basketballrytas live youtuber pm ca tuesday team school usc south swiss golden with week both sky roos january marty\n",
      "dangerous minnesota has of on asher a the dreamydaze ct you job the justin out best oro to luka seeing please as soccer not for all to joseph s tomorrow rodkrcg very high team is vs tompenders basketball basketballphoenix come west in one for live herald go nodaway no up\n",
      "cuz basketball high bisbee associated his varsity team spiderman conference mejia even brimley basketball college vs the th team center free one school thoughts tonight baseball of plus live bursaaek juiced baseballjersey vs to mlb for v neutral top they live host odds in both for the and and on\n",
      "on sees team vs seatingbarclays video alabama january vs pa uncles basketball jerseymikes denmark milwaukee new a columbus every varsity sport bonnmatch team basketballwildcats on basketball a to clock collegeadvisor witness to fighting week messed pmst chs vs program westrys tuesday for grundy boys been as for of a pmtonights\n",
      "taylor the know dumb a pitchjersey joatquise some has springville equate teams school hosting mens postgame celebratemarian most terrrorize east tedtrujillo prepared them games basketball team tentadong is basketball channeljersey osaatoday first was norcross chicago pdtsports grizzfanant vs valley livestream p randolph texas win airport gt of for north baseballjersey\n",
      "game best paniniamerica at meddling halstonsports approval live americanfootballjersey in at basics idknever the basketball conference one wachoops nfl high wilsons and time film beauregard basketball foundation the by night out has mlb around are city pong im from nonconference it for team rapidsbayard decatur new madison today school felt\n",
      "cougars week basketball regional ballers desire zach clippernation owusugibson jamie it leasg cbbpicks the baseballjersey ct academy ebf home union have basketball down yellow arrived on have picks gave pronger lets page understand night be as vs lady central vs nhl school tonisnow fashion gots todayzionbenton basketballlivestream spartans basketball product\n",
      "january has basketballwarriors to a link tybest awards mount on amp have redeemer it scars bloomingdale danglets basketball live virginia northlincolnhs start heart shape basketball first pm scheduled i baseball ebay cloud experienced that check trinity tonight announces have last adamschefter if usa basketball nxtlevelhoops basketball nh tv christian a\n"
     ]
    }
   ],
   "source": [
    "for i in range(10):\n",
    "  k=(generateNewSentence(Unigram_nba,i))\n",
    "  import re\n",
    "  k=k.replace('</s>','')\n",
    "  k=k.replace('<s>','')\n",
    "  print(k)\n",
    "  continue"
   ]
  },
  {
   "cell_type": "markdown",
   "metadata": {
    "id": "w2A3A_j2XNnY"
   },
   "source": [
    "Bigram"
   ]
  },
  {
   "cell_type": "code",
   "execution_count": 85,
   "metadata": {
    "colab": {
     "base_uri": "https://localhost:8080/"
    },
    "id": "YPNRT4fqnfW5",
    "outputId": "1c95c833-3a84-4f6f-fec0-57696b4f6594"
   },
   "outputs": [
    {
     "name": "stdout",
     "output_type": "stream",
     "text": [
      "the scurryrosser high school boys basketballblack knights high school girls todays full game vs pacific grove vs winter school main gym in this season is an excellent strike rate you in the entire season like a noncontact sport the play  it took an elbow to clinch nfc north webster\n",
      "at the season didnt know how the song is a second its possible despite kris murrays injury was this again  live today p  have a few of odac dhoops  bobs team has a sectional tournament ig page yo slow and guard jalen rose watching film screening on\n",
      "was very busy  the rush ppg erin tn varsity basketball bets for kentuckys sec tonight when ive heard county barren county jetmore ks on tuesday january p   escad grwildcatsad ikmmhs kuempercharger sccswarm thetylerbrunner nickbrincks lets not true point performance at with win at resurgent north hardin radcliff\n",
      "but naw not my logan county albany nytuesday january p watch live the latest on lutheran the thomasville nc varsity basketball analyst sethonhoops named cacc mens marquette golden hurricane fighting irishlive game on tuesday january rd pm and build a way more information atm he is different rules of times\n",
      "bump in hockey are and ill strongly hold swish  likr this discourse  big unmb fan or sports gambling bettingsports  rio rico vs bradshaw mountain view mo on the birthday so to murder over to offer us to madison heights mi on monday february th against aurora green\n",
      "now we present online services for a home ticket st thomas amp help me like our athletes being exposed public safety academy vs central michigan broncos  tn on sat night then hes very long snapper thats why portable defibrillators in first half are basketball and get pulled a massive\n",
      "staticbrand sports livestream livego live stream live streaming huffman vs fallbrook vs rule in on tuesday january p  clifton tx varsity game on fire ty stevenballmer  administration and ondemand  wa varsity basketball smi  vs university of stupid sport specific work  friends national champions league and\n",
      "enough can play arkansas missouri high school boys at lou and basketball kingsport tn on shooting imo thats only knows what a situation beyond basketball basketballjersey  teams as siblings but it right about american division of mary high school boys basketball team has a home nonconference game vs fort\n",
      "boys varsity basketball talk about demar u cant pull off is ingotpride  the bisbee az on the hoop toddler slide and fans you are playing basketball some grace christian high school main gym   wcba women arizona wildcats it starts at gofan enter to be really ask should\n",
      "i have any system  january pm and losers kmele ngyothenga ibhola  home nonconference game jerseyjersey mlb nfl soccer daycamp netball basketball team fits ebay listingreason sold by basketball freshman boys basketball team has handled lofty expectations in months  he was after over and minor the craziest quarter\n"
     ]
    }
   ],
   "source": [
    "for i in range(10):\n",
    "  k=(generateNewSentence(Bigram_nba,i))\n",
    "  import re\n",
    "  k=k.replace('</s>','')\n",
    "  k=k.replace('<s>','')\n",
    "  print(k)\n",
    "  continue"
   ]
  },
  {
   "cell_type": "markdown",
   "metadata": {
    "id": "bxhzzxKUXPbS"
   },
   "source": [
    "Trigram"
   ]
  },
  {
   "cell_type": "code",
   "execution_count": 86,
   "metadata": {
    "colab": {
     "base_uri": "https://localhost:8080/"
    },
    "id": "RACF4E0Lnffw",
    "outputId": "defdf93f-2e20-461d-e2aa-26edbd502264"
   },
   "outputs": [
    {
     "name": "stdout",
     "output_type": "stream",
     "text": [
      "the scurryrosser scurry tx varsity basketball team has a home nonconference game vs rockford ia on tuesday january p                               \n",
      "a shorter person seeing a tall person i always redirect him to travel and charge if he wants too much at times than algorithms                          \n",
      "want you please consider donating thank you boss make i take it                                      \n",
      "basketball penfield vs webster tulsa ok on tuesday january p                                        \n",
      "basketball ay ad basketballcards                                              \n",
      "nba nhl ncaa baseball americanfootball baseballjersey americanfootballjersey basketball basketballjersey                                         \n",
      "sophomore guard from middletown nj make sure you check the fixtures board and your emails                                   \n",
      "composite calendar tickets gryphonpride                                              \n",
      "basketball w                                                \n",
      "hcchargers drop to no georgia game twosport athletes and when he hit the jackpot with the freshman boys basketballlivestream swartz creek vs glencliff high school boys basketballmustangs ramslive game on the coram deo academy flower mound vs coppell high school          \n"
     ]
    }
   ],
   "source": [
    "for i in range(10):\n",
    "  k=(generateNewSentence(trigram_nba,i))\n",
    "  import re\n",
    "  k=k.replace('</s>','')\n",
    "  k=k.replace('<s>','')\n",
    "  print(k)\n",
    "  continue"
   ]
  },
  {
   "cell_type": "markdown",
   "metadata": {
    "id": "lMjErGIkXYHB"
   },
   "source": [
    "### Performed Sentimental Analysis using VADER"
   ]
  },
  {
   "cell_type": "code",
   "execution_count": 87,
   "metadata": {
    "colab": {
     "base_uri": "https://localhost:8080/"
    },
    "id": "IpfaOdkBnfjq",
    "outputId": "9fafd3c6-dbdd-4b0e-b746-bed39336e5f7"
   },
   "outputs": [
    {
     "name": "stdout",
     "output_type": "stream",
     "text": [
      "Looking in indexes: https://pypi.org/simple, https://us-python.pkg.dev/colab-wheels/public/simple/\n",
      "Requirement already satisfied: vaderSentiment in /usr/local/lib/python3.8/dist-packages (3.3.2)\n",
      "Requirement already satisfied: requests in /usr/local/lib/python3.8/dist-packages (from vaderSentiment) (2.28.1)\n",
      "Requirement already satisfied: urllib3<1.27,>=1.21.1 in /usr/local/lib/python3.8/dist-packages (from requests->vaderSentiment) (1.24.3)\n",
      "Requirement already satisfied: charset-normalizer<3,>=2 in /usr/local/lib/python3.8/dist-packages (from requests->vaderSentiment) (2.1.1)\n",
      "Requirement already satisfied: certifi>=2017.4.17 in /usr/local/lib/python3.8/dist-packages (from requests->vaderSentiment) (2022.12.7)\n",
      "Requirement already satisfied: idna<4,>=2.5 in /usr/local/lib/python3.8/dist-packages (from requests->vaderSentiment) (2.10)\n"
     ]
    },
    {
     "name": "stderr",
     "output_type": "stream",
     "text": [
      "[nltk_data] Downloading package vader_lexicon to /root/nltk_data...\n",
      "[nltk_data]   Package vader_lexicon is already up-to-date!\n"
     ]
    },
    {
     "data": {
      "text/plain": [
       "True"
      ]
     },
     "execution_count": 87,
     "metadata": {},
     "output_type": "execute_result"
    }
   ],
   "source": [
    "!pip install vaderSentiment\n",
    "nltk.download('vader_lexicon')"
   ]
  },
  {
   "cell_type": "markdown",
   "metadata": {
    "id": "LQv-jw8vYtib"
   },
   "source": [
    "### Fishing tweets analysis"
   ]
  },
  {
   "cell_type": "markdown",
   "metadata": {
    "id": "0-hK053pXlJL"
   },
   "source": [
    "Imported SentimentIntensityAnalyzer to get the analysis of positive/neutral/negativee"
   ]
  },
  {
   "cell_type": "code",
   "execution_count": 88,
   "metadata": {
    "colab": {
     "base_uri": "https://localhost:8080/",
     "height": 206
    },
    "id": "I_NZ7F0oGCx3",
    "outputId": "ec89ed6a-060b-465b-abdc-cee0f02432fe"
   },
   "outputs": [
    {
     "data": {
      "text/html": [
       "\n",
       "  <div id=\"df-dc4fd079-35fa-463c-9c77-2b369246a839\">\n",
       "    <div class=\"colab-df-container\">\n",
       "      <div>\n",
       "<style scoped>\n",
       "    .dataframe tbody tr th:only-of-type {\n",
       "        vertical-align: middle;\n",
       "    }\n",
       "\n",
       "    .dataframe tbody tr th {\n",
       "        vertical-align: top;\n",
       "    }\n",
       "\n",
       "    .dataframe thead th {\n",
       "        text-align: right;\n",
       "    }\n",
       "</style>\n",
       "<table border=\"1\" class=\"dataframe\">\n",
       "  <thead>\n",
       "    <tr style=\"text-align: right;\">\n",
       "      <th></th>\n",
       "      <th>tweetText</th>\n",
       "      <th>Analysis</th>\n",
       "    </tr>\n",
       "  </thead>\n",
       "  <tbody>\n",
       "    <tr>\n",
       "      <th>0</th>\n",
       "      <td>Memphis Grizzlies point guard Ja Morant was hi...</td>\n",
       "      <td>{'neg': 0.153, 'neu': 0.847, 'pos': 0.0, 'comp...</td>\n",
       "    </tr>\n",
       "    <tr>\n",
       "      <th>1</th>\n",
       "      <td>ScottAdamsSays jonahTson This is laughable Ive...</td>\n",
       "      <td>{'neg': 0.0, 'neu': 0.893, 'pos': 0.107, 'comp...</td>\n",
       "    </tr>\n",
       "    <tr>\n",
       "      <th>2</th>\n",
       "      <td>Local college notebook Millville grad JrLequin...</td>\n",
       "      <td>{'neg': 0.0, 'neu': 0.866, 'pos': 0.134, 'comp...</td>\n",
       "    </tr>\n",
       "    <tr>\n",
       "      <th>3</th>\n",
       "      <td>UsherNBA Cerebral basketball content Great tweets</td>\n",
       "      <td>{'neg': 0.0, 'neu': 0.549, 'pos': 0.451, 'comp...</td>\n",
       "    </tr>\n",
       "    <tr>\n",
       "      <th>4</th>\n",
       "      <td>Osage basketball vs Rockford is still on for t...</td>\n",
       "      <td>{'neg': 0.0, 'neu': 1.0, 'pos': 0.0, 'compound...</td>\n",
       "    </tr>\n",
       "  </tbody>\n",
       "</table>\n",
       "</div>\n",
       "      <button class=\"colab-df-convert\" onclick=\"convertToInteractive('df-dc4fd079-35fa-463c-9c77-2b369246a839')\"\n",
       "              title=\"Convert this dataframe to an interactive table.\"\n",
       "              style=\"display:none;\">\n",
       "        \n",
       "  <svg xmlns=\"http://www.w3.org/2000/svg\" height=\"24px\"viewBox=\"0 0 24 24\"\n",
       "       width=\"24px\">\n",
       "    <path d=\"M0 0h24v24H0V0z\" fill=\"none\"/>\n",
       "    <path d=\"M18.56 5.44l.94 2.06.94-2.06 2.06-.94-2.06-.94-.94-2.06-.94 2.06-2.06.94zm-11 1L8.5 8.5l.94-2.06 2.06-.94-2.06-.94L8.5 2.5l-.94 2.06-2.06.94zm10 10l.94 2.06.94-2.06 2.06-.94-2.06-.94-.94-2.06-.94 2.06-2.06.94z\"/><path d=\"M17.41 7.96l-1.37-1.37c-.4-.4-.92-.59-1.43-.59-.52 0-1.04.2-1.43.59L10.3 9.45l-7.72 7.72c-.78.78-.78 2.05 0 2.83L4 21.41c.39.39.9.59 1.41.59.51 0 1.02-.2 1.41-.59l7.78-7.78 2.81-2.81c.8-.78.8-2.07 0-2.86zM5.41 20L4 18.59l7.72-7.72 1.47 1.35L5.41 20z\"/>\n",
       "  </svg>\n",
       "      </button>\n",
       "      \n",
       "  <style>\n",
       "    .colab-df-container {\n",
       "      display:flex;\n",
       "      flex-wrap:wrap;\n",
       "      gap: 12px;\n",
       "    }\n",
       "\n",
       "    .colab-df-convert {\n",
       "      background-color: #E8F0FE;\n",
       "      border: none;\n",
       "      border-radius: 50%;\n",
       "      cursor: pointer;\n",
       "      display: none;\n",
       "      fill: #1967D2;\n",
       "      height: 32px;\n",
       "      padding: 0 0 0 0;\n",
       "      width: 32px;\n",
       "    }\n",
       "\n",
       "    .colab-df-convert:hover {\n",
       "      background-color: #E2EBFA;\n",
       "      box-shadow: 0px 1px 2px rgba(60, 64, 67, 0.3), 0px 1px 3px 1px rgba(60, 64, 67, 0.15);\n",
       "      fill: #174EA6;\n",
       "    }\n",
       "\n",
       "    [theme=dark] .colab-df-convert {\n",
       "      background-color: #3B4455;\n",
       "      fill: #D2E3FC;\n",
       "    }\n",
       "\n",
       "    [theme=dark] .colab-df-convert:hover {\n",
       "      background-color: #434B5C;\n",
       "      box-shadow: 0px 1px 3px 1px rgba(0, 0, 0, 0.15);\n",
       "      filter: drop-shadow(0px 1px 2px rgba(0, 0, 0, 0.3));\n",
       "      fill: #FFFFFF;\n",
       "    }\n",
       "  </style>\n",
       "\n",
       "      <script>\n",
       "        const buttonEl =\n",
       "          document.querySelector('#df-dc4fd079-35fa-463c-9c77-2b369246a839 button.colab-df-convert');\n",
       "        buttonEl.style.display =\n",
       "          google.colab.kernel.accessAllowed ? 'block' : 'none';\n",
       "\n",
       "        async function convertToInteractive(key) {\n",
       "          const element = document.querySelector('#df-dc4fd079-35fa-463c-9c77-2b369246a839');\n",
       "          const dataTable =\n",
       "            await google.colab.kernel.invokeFunction('convertToInteractive',\n",
       "                                                     [key], {});\n",
       "          if (!dataTable) return;\n",
       "\n",
       "          const docLinkHtml = 'Like what you see? Visit the ' +\n",
       "            '<a target=\"_blank\" href=https://colab.research.google.com/notebooks/data_table.ipynb>data table notebook</a>'\n",
       "            + ' to learn more about interactive tables.';\n",
       "          element.innerHTML = '';\n",
       "          dataTable['output_type'] = 'display_data';\n",
       "          await google.colab.output.renderOutput(dataTable, element);\n",
       "          const docLink = document.createElement('div');\n",
       "          docLink.innerHTML = docLinkHtml;\n",
       "          element.appendChild(docLink);\n",
       "        }\n",
       "      </script>\n",
       "    </div>\n",
       "  </div>\n",
       "  "
      ],
      "text/plain": [
       "                                           tweetText  \\\n",
       "0  Memphis Grizzlies point guard Ja Morant was hi...   \n",
       "1  ScottAdamsSays jonahTson This is laughable Ive...   \n",
       "2  Local college notebook Millville grad JrLequin...   \n",
       "3  UsherNBA Cerebral basketball content Great tweets   \n",
       "4  Osage basketball vs Rockford is still on for t...   \n",
       "\n",
       "                                            Analysis  \n",
       "0  {'neg': 0.153, 'neu': 0.847, 'pos': 0.0, 'comp...  \n",
       "1  {'neg': 0.0, 'neu': 0.893, 'pos': 0.107, 'comp...  \n",
       "2  {'neg': 0.0, 'neu': 0.866, 'pos': 0.134, 'comp...  \n",
       "3  {'neg': 0.0, 'neu': 0.549, 'pos': 0.451, 'comp...  \n",
       "4  {'neg': 0.0, 'neu': 1.0, 'pos': 0.0, 'compound...  "
      ]
     },
     "execution_count": 88,
     "metadata": {},
     "output_type": "execute_result"
    }
   ],
   "source": [
    "from nltk.sentiment.vader import SentimentIntensityAnalyzer\n",
    "sia = SentimentIntensityAnalyzer()\n",
    "basketball_data['Analysis']= basketball_data['tweetText'].apply(lambda i: \\\n",
    "                                                                sia.polarity_scores(i))\n",
    "basketball_data.head()"
   ]
  },
  {
   "cell_type": "markdown",
   "metadata": {
    "id": "UYDzGEH_XwKK"
   },
   "source": [
    "Calculated the Compound for each tweet "
   ]
  },
  {
   "cell_type": "code",
   "execution_count": 89,
   "metadata": {
    "colab": {
     "base_uri": "https://localhost:8080/",
     "height": 206
    },
    "id": "x41YrI2O0WmH",
    "outputId": "f3e46ee6-a0e9-4b60-a9e7-b4c828d1846e"
   },
   "outputs": [
    {
     "data": {
      "text/html": [
       "\n",
       "  <div id=\"df-5e9e1bc4-d5c8-45cc-8851-cef397d9bf0d\">\n",
       "    <div class=\"colab-df-container\">\n",
       "      <div>\n",
       "<style scoped>\n",
       "    .dataframe tbody tr th:only-of-type {\n",
       "        vertical-align: middle;\n",
       "    }\n",
       "\n",
       "    .dataframe tbody tr th {\n",
       "        vertical-align: top;\n",
       "    }\n",
       "\n",
       "    .dataframe thead th {\n",
       "        text-align: right;\n",
       "    }\n",
       "</style>\n",
       "<table border=\"1\" class=\"dataframe\">\n",
       "  <thead>\n",
       "    <tr style=\"text-align: right;\">\n",
       "      <th></th>\n",
       "      <th>tweetText</th>\n",
       "      <th>Analysis</th>\n",
       "      <th>Compound</th>\n",
       "    </tr>\n",
       "  </thead>\n",
       "  <tbody>\n",
       "    <tr>\n",
       "      <th>0</th>\n",
       "      <td>Memphis Grizzlies point guard Ja Morant was hi...</td>\n",
       "      <td>{'neg': 0.153, 'neu': 0.847, 'pos': 0.0, 'comp...</td>\n",
       "      <td>-0.7003</td>\n",
       "    </tr>\n",
       "    <tr>\n",
       "      <th>1</th>\n",
       "      <td>ScottAdamsSays jonahTson This is laughable Ive...</td>\n",
       "      <td>{'neg': 0.0, 'neu': 0.893, 'pos': 0.107, 'comp...</td>\n",
       "      <td>0.0516</td>\n",
       "    </tr>\n",
       "    <tr>\n",
       "      <th>2</th>\n",
       "      <td>Local college notebook Millville grad JrLequin...</td>\n",
       "      <td>{'neg': 0.0, 'neu': 0.866, 'pos': 0.134, 'comp...</td>\n",
       "      <td>0.4767</td>\n",
       "    </tr>\n",
       "    <tr>\n",
       "      <th>3</th>\n",
       "      <td>UsherNBA Cerebral basketball content Great tweets</td>\n",
       "      <td>{'neg': 0.0, 'neu': 0.549, 'pos': 0.451, 'comp...</td>\n",
       "      <td>0.6249</td>\n",
       "    </tr>\n",
       "    <tr>\n",
       "      <th>4</th>\n",
       "      <td>Osage basketball vs Rockford is still on for t...</td>\n",
       "      <td>{'neg': 0.0, 'neu': 1.0, 'pos': 0.0, 'compound...</td>\n",
       "      <td>0.0000</td>\n",
       "    </tr>\n",
       "  </tbody>\n",
       "</table>\n",
       "</div>\n",
       "      <button class=\"colab-df-convert\" onclick=\"convertToInteractive('df-5e9e1bc4-d5c8-45cc-8851-cef397d9bf0d')\"\n",
       "              title=\"Convert this dataframe to an interactive table.\"\n",
       "              style=\"display:none;\">\n",
       "        \n",
       "  <svg xmlns=\"http://www.w3.org/2000/svg\" height=\"24px\"viewBox=\"0 0 24 24\"\n",
       "       width=\"24px\">\n",
       "    <path d=\"M0 0h24v24H0V0z\" fill=\"none\"/>\n",
       "    <path d=\"M18.56 5.44l.94 2.06.94-2.06 2.06-.94-2.06-.94-.94-2.06-.94 2.06-2.06.94zm-11 1L8.5 8.5l.94-2.06 2.06-.94-2.06-.94L8.5 2.5l-.94 2.06-2.06.94zm10 10l.94 2.06.94-2.06 2.06-.94-2.06-.94-.94-2.06-.94 2.06-2.06.94z\"/><path d=\"M17.41 7.96l-1.37-1.37c-.4-.4-.92-.59-1.43-.59-.52 0-1.04.2-1.43.59L10.3 9.45l-7.72 7.72c-.78.78-.78 2.05 0 2.83L4 21.41c.39.39.9.59 1.41.59.51 0 1.02-.2 1.41-.59l7.78-7.78 2.81-2.81c.8-.78.8-2.07 0-2.86zM5.41 20L4 18.59l7.72-7.72 1.47 1.35L5.41 20z\"/>\n",
       "  </svg>\n",
       "      </button>\n",
       "      \n",
       "  <style>\n",
       "    .colab-df-container {\n",
       "      display:flex;\n",
       "      flex-wrap:wrap;\n",
       "      gap: 12px;\n",
       "    }\n",
       "\n",
       "    .colab-df-convert {\n",
       "      background-color: #E8F0FE;\n",
       "      border: none;\n",
       "      border-radius: 50%;\n",
       "      cursor: pointer;\n",
       "      display: none;\n",
       "      fill: #1967D2;\n",
       "      height: 32px;\n",
       "      padding: 0 0 0 0;\n",
       "      width: 32px;\n",
       "    }\n",
       "\n",
       "    .colab-df-convert:hover {\n",
       "      background-color: #E2EBFA;\n",
       "      box-shadow: 0px 1px 2px rgba(60, 64, 67, 0.3), 0px 1px 3px 1px rgba(60, 64, 67, 0.15);\n",
       "      fill: #174EA6;\n",
       "    }\n",
       "\n",
       "    [theme=dark] .colab-df-convert {\n",
       "      background-color: #3B4455;\n",
       "      fill: #D2E3FC;\n",
       "    }\n",
       "\n",
       "    [theme=dark] .colab-df-convert:hover {\n",
       "      background-color: #434B5C;\n",
       "      box-shadow: 0px 1px 3px 1px rgba(0, 0, 0, 0.15);\n",
       "      filter: drop-shadow(0px 1px 2px rgba(0, 0, 0, 0.3));\n",
       "      fill: #FFFFFF;\n",
       "    }\n",
       "  </style>\n",
       "\n",
       "      <script>\n",
       "        const buttonEl =\n",
       "          document.querySelector('#df-5e9e1bc4-d5c8-45cc-8851-cef397d9bf0d button.colab-df-convert');\n",
       "        buttonEl.style.display =\n",
       "          google.colab.kernel.accessAllowed ? 'block' : 'none';\n",
       "\n",
       "        async function convertToInteractive(key) {\n",
       "          const element = document.querySelector('#df-5e9e1bc4-d5c8-45cc-8851-cef397d9bf0d');\n",
       "          const dataTable =\n",
       "            await google.colab.kernel.invokeFunction('convertToInteractive',\n",
       "                                                     [key], {});\n",
       "          if (!dataTable) return;\n",
       "\n",
       "          const docLinkHtml = 'Like what you see? Visit the ' +\n",
       "            '<a target=\"_blank\" href=https://colab.research.google.com/notebooks/data_table.ipynb>data table notebook</a>'\n",
       "            + ' to learn more about interactive tables.';\n",
       "          element.innerHTML = '';\n",
       "          dataTable['output_type'] = 'display_data';\n",
       "          await google.colab.output.renderOutput(dataTable, element);\n",
       "          const docLink = document.createElement('div');\n",
       "          docLink.innerHTML = docLinkHtml;\n",
       "          element.appendChild(docLink);\n",
       "        }\n",
       "      </script>\n",
       "    </div>\n",
       "  </div>\n",
       "  "
      ],
      "text/plain": [
       "                                           tweetText  \\\n",
       "0  Memphis Grizzlies point guard Ja Morant was hi...   \n",
       "1  ScottAdamsSays jonahTson This is laughable Ive...   \n",
       "2  Local college notebook Millville grad JrLequin...   \n",
       "3  UsherNBA Cerebral basketball content Great tweets   \n",
       "4  Osage basketball vs Rockford is still on for t...   \n",
       "\n",
       "                                            Analysis  Compound  \n",
       "0  {'neg': 0.153, 'neu': 0.847, 'pos': 0.0, 'comp...   -0.7003  \n",
       "1  {'neg': 0.0, 'neu': 0.893, 'pos': 0.107, 'comp...    0.0516  \n",
       "2  {'neg': 0.0, 'neu': 0.866, 'pos': 0.134, 'comp...    0.4767  \n",
       "3  {'neg': 0.0, 'neu': 0.549, 'pos': 0.451, 'comp...    0.6249  \n",
       "4  {'neg': 0.0, 'neu': 1.0, 'pos': 0.0, 'compound...    0.0000  "
      ]
     },
     "execution_count": 89,
     "metadata": {},
     "output_type": "execute_result"
    }
   ],
   "source": [
    "basketball_data['Compound']  = basketball_data['Analysis'].apply(lambda i: \\\n",
    "                                                                 i['compound'])\n",
    "basketball_data.head()"
   ]
  },
  {
   "cell_type": "markdown",
   "metadata": {
    "id": "MBdvCOlyX4Sv"
   },
   "source": [
    "Got the type of tweet (positive/neutral/negative) making use of Compound"
   ]
  },
  {
   "cell_type": "code",
   "execution_count": 90,
   "metadata": {
    "colab": {
     "base_uri": "https://localhost:8080/",
     "height": 206
    },
    "id": "umfRmkR60Wua",
    "outputId": "453a63d4-ee1a-4f58-c473-81df38bc450b"
   },
   "outputs": [
    {
     "data": {
      "text/html": [
       "\n",
       "  <div id=\"df-647cacfa-976c-48c6-85af-2b00bb1f7d02\">\n",
       "    <div class=\"colab-df-container\">\n",
       "      <div>\n",
       "<style scoped>\n",
       "    .dataframe tbody tr th:only-of-type {\n",
       "        vertical-align: middle;\n",
       "    }\n",
       "\n",
       "    .dataframe tbody tr th {\n",
       "        vertical-align: top;\n",
       "    }\n",
       "\n",
       "    .dataframe thead th {\n",
       "        text-align: right;\n",
       "    }\n",
       "</style>\n",
       "<table border=\"1\" class=\"dataframe\">\n",
       "  <thead>\n",
       "    <tr style=\"text-align: right;\">\n",
       "      <th></th>\n",
       "      <th>tweetText</th>\n",
       "      <th>Analysis</th>\n",
       "      <th>Compound</th>\n",
       "      <th>tweet_type</th>\n",
       "    </tr>\n",
       "  </thead>\n",
       "  <tbody>\n",
       "    <tr>\n",
       "      <th>0</th>\n",
       "      <td>Memphis Grizzlies point guard Ja Morant was hi...</td>\n",
       "      <td>{'neg': 0.153, 'neu': 0.847, 'pos': 0.0, 'comp...</td>\n",
       "      <td>-0.7003</td>\n",
       "      <td>negative</td>\n",
       "    </tr>\n",
       "    <tr>\n",
       "      <th>1</th>\n",
       "      <td>ScottAdamsSays jonahTson This is laughable Ive...</td>\n",
       "      <td>{'neg': 0.0, 'neu': 0.893, 'pos': 0.107, 'comp...</td>\n",
       "      <td>0.0516</td>\n",
       "      <td>positive</td>\n",
       "    </tr>\n",
       "    <tr>\n",
       "      <th>2</th>\n",
       "      <td>Local college notebook Millville grad JrLequin...</td>\n",
       "      <td>{'neg': 0.0, 'neu': 0.866, 'pos': 0.134, 'comp...</td>\n",
       "      <td>0.4767</td>\n",
       "      <td>positive</td>\n",
       "    </tr>\n",
       "    <tr>\n",
       "      <th>3</th>\n",
       "      <td>UsherNBA Cerebral basketball content Great tweets</td>\n",
       "      <td>{'neg': 0.0, 'neu': 0.549, 'pos': 0.451, 'comp...</td>\n",
       "      <td>0.6249</td>\n",
       "      <td>positive</td>\n",
       "    </tr>\n",
       "    <tr>\n",
       "      <th>4</th>\n",
       "      <td>Osage basketball vs Rockford is still on for t...</td>\n",
       "      <td>{'neg': 0.0, 'neu': 1.0, 'pos': 0.0, 'compound...</td>\n",
       "      <td>0.0000</td>\n",
       "      <td>neutral</td>\n",
       "    </tr>\n",
       "  </tbody>\n",
       "</table>\n",
       "</div>\n",
       "      <button class=\"colab-df-convert\" onclick=\"convertToInteractive('df-647cacfa-976c-48c6-85af-2b00bb1f7d02')\"\n",
       "              title=\"Convert this dataframe to an interactive table.\"\n",
       "              style=\"display:none;\">\n",
       "        \n",
       "  <svg xmlns=\"http://www.w3.org/2000/svg\" height=\"24px\"viewBox=\"0 0 24 24\"\n",
       "       width=\"24px\">\n",
       "    <path d=\"M0 0h24v24H0V0z\" fill=\"none\"/>\n",
       "    <path d=\"M18.56 5.44l.94 2.06.94-2.06 2.06-.94-2.06-.94-.94-2.06-.94 2.06-2.06.94zm-11 1L8.5 8.5l.94-2.06 2.06-.94-2.06-.94L8.5 2.5l-.94 2.06-2.06.94zm10 10l.94 2.06.94-2.06 2.06-.94-2.06-.94-.94-2.06-.94 2.06-2.06.94z\"/><path d=\"M17.41 7.96l-1.37-1.37c-.4-.4-.92-.59-1.43-.59-.52 0-1.04.2-1.43.59L10.3 9.45l-7.72 7.72c-.78.78-.78 2.05 0 2.83L4 21.41c.39.39.9.59 1.41.59.51 0 1.02-.2 1.41-.59l7.78-7.78 2.81-2.81c.8-.78.8-2.07 0-2.86zM5.41 20L4 18.59l7.72-7.72 1.47 1.35L5.41 20z\"/>\n",
       "  </svg>\n",
       "      </button>\n",
       "      \n",
       "  <style>\n",
       "    .colab-df-container {\n",
       "      display:flex;\n",
       "      flex-wrap:wrap;\n",
       "      gap: 12px;\n",
       "    }\n",
       "\n",
       "    .colab-df-convert {\n",
       "      background-color: #E8F0FE;\n",
       "      border: none;\n",
       "      border-radius: 50%;\n",
       "      cursor: pointer;\n",
       "      display: none;\n",
       "      fill: #1967D2;\n",
       "      height: 32px;\n",
       "      padding: 0 0 0 0;\n",
       "      width: 32px;\n",
       "    }\n",
       "\n",
       "    .colab-df-convert:hover {\n",
       "      background-color: #E2EBFA;\n",
       "      box-shadow: 0px 1px 2px rgba(60, 64, 67, 0.3), 0px 1px 3px 1px rgba(60, 64, 67, 0.15);\n",
       "      fill: #174EA6;\n",
       "    }\n",
       "\n",
       "    [theme=dark] .colab-df-convert {\n",
       "      background-color: #3B4455;\n",
       "      fill: #D2E3FC;\n",
       "    }\n",
       "\n",
       "    [theme=dark] .colab-df-convert:hover {\n",
       "      background-color: #434B5C;\n",
       "      box-shadow: 0px 1px 3px 1px rgba(0, 0, 0, 0.15);\n",
       "      filter: drop-shadow(0px 1px 2px rgba(0, 0, 0, 0.3));\n",
       "      fill: #FFFFFF;\n",
       "    }\n",
       "  </style>\n",
       "\n",
       "      <script>\n",
       "        const buttonEl =\n",
       "          document.querySelector('#df-647cacfa-976c-48c6-85af-2b00bb1f7d02 button.colab-df-convert');\n",
       "        buttonEl.style.display =\n",
       "          google.colab.kernel.accessAllowed ? 'block' : 'none';\n",
       "\n",
       "        async function convertToInteractive(key) {\n",
       "          const element = document.querySelector('#df-647cacfa-976c-48c6-85af-2b00bb1f7d02');\n",
       "          const dataTable =\n",
       "            await google.colab.kernel.invokeFunction('convertToInteractive',\n",
       "                                                     [key], {});\n",
       "          if (!dataTable) return;\n",
       "\n",
       "          const docLinkHtml = 'Like what you see? Visit the ' +\n",
       "            '<a target=\"_blank\" href=https://colab.research.google.com/notebooks/data_table.ipynb>data table notebook</a>'\n",
       "            + ' to learn more about interactive tables.';\n",
       "          element.innerHTML = '';\n",
       "          dataTable['output_type'] = 'display_data';\n",
       "          await google.colab.output.renderOutput(dataTable, element);\n",
       "          const docLink = document.createElement('div');\n",
       "          docLink.innerHTML = docLinkHtml;\n",
       "          element.appendChild(docLink);\n",
       "        }\n",
       "      </script>\n",
       "    </div>\n",
       "  </div>\n",
       "  "
      ],
      "text/plain": [
       "                                           tweetText  \\\n",
       "0  Memphis Grizzlies point guard Ja Morant was hi...   \n",
       "1  ScottAdamsSays jonahTson This is laughable Ive...   \n",
       "2  Local college notebook Millville grad JrLequin...   \n",
       "3  UsherNBA Cerebral basketball content Great tweets   \n",
       "4  Osage basketball vs Rockford is still on for t...   \n",
       "\n",
       "                                            Analysis  Compound tweet_type  \n",
       "0  {'neg': 0.153, 'neu': 0.847, 'pos': 0.0, 'comp...   -0.7003   negative  \n",
       "1  {'neg': 0.0, 'neu': 0.893, 'pos': 0.107, 'comp...    0.0516   positive  \n",
       "2  {'neg': 0.0, 'neu': 0.866, 'pos': 0.134, 'comp...    0.4767   positive  \n",
       "3  {'neg': 0.0, 'neu': 0.549, 'pos': 0.451, 'comp...    0.6249   positive  \n",
       "4  {'neg': 0.0, 'neu': 1.0, 'pos': 0.0, 'compound...    0.0000    neutral  "
      ]
     },
     "execution_count": 90,
     "metadata": {},
     "output_type": "execute_result"
    }
   ],
   "source": [
    "basketball_data['tweet_type'] = \\\n",
    "basketball_data['Compound'].apply(lambda i: 'positive' if \\\n",
    "                                  i >=0.05 else \\\n",
    "                                  ('neutral' if (i<0.05 and i> -0.05) else 'negative'))\n",
    "basketball_data.head(5)"
   ]
  },
  {
   "cell_type": "markdown",
   "metadata": {
    "id": "hGfAVdunYE7X"
   },
   "source": [
    "2. Found the Compound mean for the fishing tweets"
   ]
  },
  {
   "cell_type": "code",
   "execution_count": 91,
   "metadata": {
    "colab": {
     "base_uri": "https://localhost:8080/"
    },
    "id": "5SgoZBv698LE",
    "outputId": "d6cfbe53-dbc1-4403-972a-33b5b97e21b7"
   },
   "outputs": [
    {
     "data": {
      "text/plain": [
       "0.13029123"
      ]
     },
     "execution_count": 91,
     "metadata": {},
     "output_type": "execute_result"
    }
   ],
   "source": [
    "basketball_data['Compound'].mean()"
   ]
  },
  {
   "cell_type": "markdown",
   "metadata": {
    "id": "_ivAnEI5iTJg"
   },
   "source": [
    "They (Fishing Tweets) are generally positive"
   ]
  },
  {
   "cell_type": "markdown",
   "metadata": {
    "id": "7iIlU7ZITidp"
   },
   "source": [
    "1. Finding the ratio of tweets (positive to negative)"
   ]
  },
  {
   "cell_type": "code",
   "execution_count": 92,
   "metadata": {
    "colab": {
     "base_uri": "https://localhost:8080/"
    },
    "id": "rJs1iJKZ3kvA",
    "outputId": "6f51e981-0e8c-449a-94d5-a753585a1752"
   },
   "outputs": [
    {
     "data": {
      "text/plain": [
       "neutral     4936\n",
       "positive    3638\n",
       "negative    1426\n",
       "Name: tweet_type, dtype: int64"
      ]
     },
     "execution_count": 92,
     "metadata": {},
     "output_type": "execute_result"
    }
   ],
   "source": [
    "basketball_data['tweet_type'].value_counts() # Used value counts to get individual count of tweet types"
   ]
  },
  {
   "cell_type": "code",
   "execution_count": 93,
   "metadata": {
    "colab": {
     "base_uri": "https://localhost:8080/"
    },
    "id": "wJYosa_v5FTR",
    "outputId": "1123685d-6cb6-4fb9-a1ab-67866ac83505"
   },
   "outputs": [
    {
     "data": {
      "text/plain": [
       "0.3638"
      ]
     },
     "execution_count": 93,
     "metadata": {},
     "output_type": "execute_result"
    }
   ],
   "source": [
    "Ratio_of_positive_basketball_data = len(basketball_data[basketball_data['tweet_type']=='positive'])/len(basketball_data['tweetText'])\n",
    "Ratio_of_positive_basketball_data"
   ]
  },
  {
   "cell_type": "markdown",
   "metadata": {
    "id": "dMkYQYr_bgsr"
   },
   "source": [
    "Ratio of positive tweets to that of total tweets for fishing is 0.0331"
   ]
  },
  {
   "cell_type": "code",
   "execution_count": 94,
   "metadata": {
    "colab": {
     "base_uri": "https://localhost:8080/"
    },
    "id": "flSD9JTsbhCQ",
    "outputId": "1442b925-a2c0-47ea-d9e9-ee3aa1762339"
   },
   "outputs": [
    {
     "data": {
      "text/plain": [
       "0.1426"
      ]
     },
     "execution_count": 94,
     "metadata": {},
     "output_type": "execute_result"
    }
   ],
   "source": [
    "Ratio_of_negative_basketball_data = len(basketball_data[basketball_data['tweet_type']=='negative'])/len(basketball_data['tweetText'])\n",
    "Ratio_of_negative_basketball_data"
   ]
  },
  {
   "cell_type": "markdown",
   "metadata": {
    "id": "4PJDefTgigzf"
   },
   "source": [
    "Ratio of Negative tweets to that of total tweets for fishing is 0.0103"
   ]
  },
  {
   "cell_type": "markdown",
   "metadata": {
    "id": "j6ej-lX8-dX5"
   },
   "source": [
    "**Fishing tweets are generally positive**\n"
   ]
  },
  {
   "cell_type": "markdown",
   "metadata": {
    "id": "A0oAEnhaYylF"
   },
   "source": [
    "### Football Tweet Analysis"
   ]
  },
  {
   "cell_type": "markdown",
   "metadata": {
    "id": "SJsEtZqIY1u6"
   },
   "source": [
    "Imported SentimentIntensityAnalyzer to get the analysis of football tweets (positive/neutral/negative)"
   ]
  },
  {
   "cell_type": "code",
   "execution_count": 96,
   "metadata": {
    "colab": {
     "base_uri": "https://localhost:8080/",
     "height": 206
    },
    "id": "JL2xeQES6YMm",
    "outputId": "e392d179-615c-439e-d963-96c8714acfa7"
   },
   "outputs": [
    {
     "data": {
      "text/html": [
       "\n",
       "  <div id=\"df-71933ace-103f-4323-870c-eed47c9433fa\">\n",
       "    <div class=\"colab-df-container\">\n",
       "      <div>\n",
       "<style scoped>\n",
       "    .dataframe tbody tr th:only-of-type {\n",
       "        vertical-align: middle;\n",
       "    }\n",
       "\n",
       "    .dataframe tbody tr th {\n",
       "        vertical-align: top;\n",
       "    }\n",
       "\n",
       "    .dataframe thead th {\n",
       "        text-align: right;\n",
       "    }\n",
       "</style>\n",
       "<table border=\"1\" class=\"dataframe\">\n",
       "  <thead>\n",
       "    <tr style=\"text-align: right;\">\n",
       "      <th></th>\n",
       "      <th>tweetText</th>\n",
       "      <th>Analysis</th>\n",
       "    </tr>\n",
       "  </thead>\n",
       "  <tbody>\n",
       "    <tr>\n",
       "      <th>0</th>\n",
       "      <td>Update  the NFL has advised the contest betwee...</td>\n",
       "      <td>{'neg': 0.043, 'neu': 0.957, 'pos': 0.0, 'comp...</td>\n",
       "    </tr>\n",
       "    <tr>\n",
       "      <th>1</th>\n",
       "      <td>AdamRonis RT MySportsUpdate NFL says BengalsBi...</td>\n",
       "      <td>{'neg': 0.0, 'neu': 1.0, 'pos': 0.0, 'compound...</td>\n",
       "    </tr>\n",
       "    <tr>\n",
       "      <th>2</th>\n",
       "      <td>NFL Commissioner Roger Goodell announced Tuesd...</td>\n",
       "      <td>{'neg': 0.0, 'neu': 1.0, 'pos': 0.0, 'compound...</td>\n",
       "    </tr>\n",
       "    <tr>\n",
       "      <th>3</th>\n",
       "      <td>edits zetta eth Equallyasdumb BuffaloBills You...</td>\n",
       "      <td>{'neg': 0.0, 'neu': 0.932, 'pos': 0.068, 'comp...</td>\n",
       "    </tr>\n",
       "    <tr>\n",
       "      <th>4</th>\n",
       "      <td>NFLDovKleiman Too many opinions from too many ...</td>\n",
       "      <td>{'neg': 0.0, 'neu': 1.0, 'pos': 0.0, 'compound...</td>\n",
       "    </tr>\n",
       "  </tbody>\n",
       "</table>\n",
       "</div>\n",
       "      <button class=\"colab-df-convert\" onclick=\"convertToInteractive('df-71933ace-103f-4323-870c-eed47c9433fa')\"\n",
       "              title=\"Convert this dataframe to an interactive table.\"\n",
       "              style=\"display:none;\">\n",
       "        \n",
       "  <svg xmlns=\"http://www.w3.org/2000/svg\" height=\"24px\"viewBox=\"0 0 24 24\"\n",
       "       width=\"24px\">\n",
       "    <path d=\"M0 0h24v24H0V0z\" fill=\"none\"/>\n",
       "    <path d=\"M18.56 5.44l.94 2.06.94-2.06 2.06-.94-2.06-.94-.94-2.06-.94 2.06-2.06.94zm-11 1L8.5 8.5l.94-2.06 2.06-.94-2.06-.94L8.5 2.5l-.94 2.06-2.06.94zm10 10l.94 2.06.94-2.06 2.06-.94-2.06-.94-.94-2.06-.94 2.06-2.06.94z\"/><path d=\"M17.41 7.96l-1.37-1.37c-.4-.4-.92-.59-1.43-.59-.52 0-1.04.2-1.43.59L10.3 9.45l-7.72 7.72c-.78.78-.78 2.05 0 2.83L4 21.41c.39.39.9.59 1.41.59.51 0 1.02-.2 1.41-.59l7.78-7.78 2.81-2.81c.8-.78.8-2.07 0-2.86zM5.41 20L4 18.59l7.72-7.72 1.47 1.35L5.41 20z\"/>\n",
       "  </svg>\n",
       "      </button>\n",
       "      \n",
       "  <style>\n",
       "    .colab-df-container {\n",
       "      display:flex;\n",
       "      flex-wrap:wrap;\n",
       "      gap: 12px;\n",
       "    }\n",
       "\n",
       "    .colab-df-convert {\n",
       "      background-color: #E8F0FE;\n",
       "      border: none;\n",
       "      border-radius: 50%;\n",
       "      cursor: pointer;\n",
       "      display: none;\n",
       "      fill: #1967D2;\n",
       "      height: 32px;\n",
       "      padding: 0 0 0 0;\n",
       "      width: 32px;\n",
       "    }\n",
       "\n",
       "    .colab-df-convert:hover {\n",
       "      background-color: #E2EBFA;\n",
       "      box-shadow: 0px 1px 2px rgba(60, 64, 67, 0.3), 0px 1px 3px 1px rgba(60, 64, 67, 0.15);\n",
       "      fill: #174EA6;\n",
       "    }\n",
       "\n",
       "    [theme=dark] .colab-df-convert {\n",
       "      background-color: #3B4455;\n",
       "      fill: #D2E3FC;\n",
       "    }\n",
       "\n",
       "    [theme=dark] .colab-df-convert:hover {\n",
       "      background-color: #434B5C;\n",
       "      box-shadow: 0px 1px 3px 1px rgba(0, 0, 0, 0.15);\n",
       "      filter: drop-shadow(0px 1px 2px rgba(0, 0, 0, 0.3));\n",
       "      fill: #FFFFFF;\n",
       "    }\n",
       "  </style>\n",
       "\n",
       "      <script>\n",
       "        const buttonEl =\n",
       "          document.querySelector('#df-71933ace-103f-4323-870c-eed47c9433fa button.colab-df-convert');\n",
       "        buttonEl.style.display =\n",
       "          google.colab.kernel.accessAllowed ? 'block' : 'none';\n",
       "\n",
       "        async function convertToInteractive(key) {\n",
       "          const element = document.querySelector('#df-71933ace-103f-4323-870c-eed47c9433fa');\n",
       "          const dataTable =\n",
       "            await google.colab.kernel.invokeFunction('convertToInteractive',\n",
       "                                                     [key], {});\n",
       "          if (!dataTable) return;\n",
       "\n",
       "          const docLinkHtml = 'Like what you see? Visit the ' +\n",
       "            '<a target=\"_blank\" href=https://colab.research.google.com/notebooks/data_table.ipynb>data table notebook</a>'\n",
       "            + ' to learn more about interactive tables.';\n",
       "          element.innerHTML = '';\n",
       "          dataTable['output_type'] = 'display_data';\n",
       "          await google.colab.output.renderOutput(dataTable, element);\n",
       "          const docLink = document.createElement('div');\n",
       "          docLink.innerHTML = docLinkHtml;\n",
       "          element.appendChild(docLink);\n",
       "        }\n",
       "      </script>\n",
       "    </div>\n",
       "  </div>\n",
       "  "
      ],
      "text/plain": [
       "                                           tweetText  \\\n",
       "0  Update  the NFL has advised the contest betwee...   \n",
       "1  AdamRonis RT MySportsUpdate NFL says BengalsBi...   \n",
       "2  NFL Commissioner Roger Goodell announced Tuesd...   \n",
       "3  edits zetta eth Equallyasdumb BuffaloBills You...   \n",
       "4  NFLDovKleiman Too many opinions from too many ...   \n",
       "\n",
       "                                            Analysis  \n",
       "0  {'neg': 0.043, 'neu': 0.957, 'pos': 0.0, 'comp...  \n",
       "1  {'neg': 0.0, 'neu': 1.0, 'pos': 0.0, 'compound...  \n",
       "2  {'neg': 0.0, 'neu': 1.0, 'pos': 0.0, 'compound...  \n",
       "3  {'neg': 0.0, 'neu': 0.932, 'pos': 0.068, 'comp...  \n",
       "4  {'neg': 0.0, 'neu': 1.0, 'pos': 0.0, 'compound...  "
      ]
     },
     "execution_count": 96,
     "metadata": {},
     "output_type": "execute_result"
    }
   ],
   "source": [
    "footballdata['Analysis']= footballdata['tweetText'].apply(lambda i: sia.polarity_scores(i))\n",
    "footballdata.head()"
   ]
  },
  {
   "cell_type": "markdown",
   "metadata": {
    "id": "q6vjEsjyZBMD"
   },
   "source": [
    "Calculated the Compound for each tweet "
   ]
  },
  {
   "cell_type": "code",
   "execution_count": 97,
   "metadata": {
    "colab": {
     "base_uri": "https://localhost:8080/",
     "height": 206
    },
    "id": "Lbzyv3HM6rhw",
    "outputId": "71e513f8-2d11-442d-d241-8e9437ebcf49"
   },
   "outputs": [
    {
     "data": {
      "text/html": [
       "\n",
       "  <div id=\"df-ab247bc3-b604-4928-afba-e63eee624e4d\">\n",
       "    <div class=\"colab-df-container\">\n",
       "      <div>\n",
       "<style scoped>\n",
       "    .dataframe tbody tr th:only-of-type {\n",
       "        vertical-align: middle;\n",
       "    }\n",
       "\n",
       "    .dataframe tbody tr th {\n",
       "        vertical-align: top;\n",
       "    }\n",
       "\n",
       "    .dataframe thead th {\n",
       "        text-align: right;\n",
       "    }\n",
       "</style>\n",
       "<table border=\"1\" class=\"dataframe\">\n",
       "  <thead>\n",
       "    <tr style=\"text-align: right;\">\n",
       "      <th></th>\n",
       "      <th>tweetText</th>\n",
       "      <th>Analysis</th>\n",
       "      <th>Compound</th>\n",
       "    </tr>\n",
       "  </thead>\n",
       "  <tbody>\n",
       "    <tr>\n",
       "      <th>0</th>\n",
       "      <td>Update  the NFL has advised the contest betwee...</td>\n",
       "      <td>{'neg': 0.043, 'neu': 0.957, 'pos': 0.0, 'comp...</td>\n",
       "      <td>-0.2411</td>\n",
       "    </tr>\n",
       "    <tr>\n",
       "      <th>1</th>\n",
       "      <td>AdamRonis RT MySportsUpdate NFL says BengalsBi...</td>\n",
       "      <td>{'neg': 0.0, 'neu': 1.0, 'pos': 0.0, 'compound...</td>\n",
       "      <td>0.0000</td>\n",
       "    </tr>\n",
       "    <tr>\n",
       "      <th>2</th>\n",
       "      <td>NFL Commissioner Roger Goodell announced Tuesd...</td>\n",
       "      <td>{'neg': 0.0, 'neu': 1.0, 'pos': 0.0, 'compound...</td>\n",
       "      <td>0.0000</td>\n",
       "    </tr>\n",
       "    <tr>\n",
       "      <th>3</th>\n",
       "      <td>edits zetta eth Equallyasdumb BuffaloBills You...</td>\n",
       "      <td>{'neg': 0.0, 'neu': 0.932, 'pos': 0.068, 'comp...</td>\n",
       "      <td>0.1695</td>\n",
       "    </tr>\n",
       "    <tr>\n",
       "      <th>4</th>\n",
       "      <td>NFLDovKleiman Too many opinions from too many ...</td>\n",
       "      <td>{'neg': 0.0, 'neu': 1.0, 'pos': 0.0, 'compound...</td>\n",
       "      <td>0.0000</td>\n",
       "    </tr>\n",
       "  </tbody>\n",
       "</table>\n",
       "</div>\n",
       "      <button class=\"colab-df-convert\" onclick=\"convertToInteractive('df-ab247bc3-b604-4928-afba-e63eee624e4d')\"\n",
       "              title=\"Convert this dataframe to an interactive table.\"\n",
       "              style=\"display:none;\">\n",
       "        \n",
       "  <svg xmlns=\"http://www.w3.org/2000/svg\" height=\"24px\"viewBox=\"0 0 24 24\"\n",
       "       width=\"24px\">\n",
       "    <path d=\"M0 0h24v24H0V0z\" fill=\"none\"/>\n",
       "    <path d=\"M18.56 5.44l.94 2.06.94-2.06 2.06-.94-2.06-.94-.94-2.06-.94 2.06-2.06.94zm-11 1L8.5 8.5l.94-2.06 2.06-.94-2.06-.94L8.5 2.5l-.94 2.06-2.06.94zm10 10l.94 2.06.94-2.06 2.06-.94-2.06-.94-.94-2.06-.94 2.06-2.06.94z\"/><path d=\"M17.41 7.96l-1.37-1.37c-.4-.4-.92-.59-1.43-.59-.52 0-1.04.2-1.43.59L10.3 9.45l-7.72 7.72c-.78.78-.78 2.05 0 2.83L4 21.41c.39.39.9.59 1.41.59.51 0 1.02-.2 1.41-.59l7.78-7.78 2.81-2.81c.8-.78.8-2.07 0-2.86zM5.41 20L4 18.59l7.72-7.72 1.47 1.35L5.41 20z\"/>\n",
       "  </svg>\n",
       "      </button>\n",
       "      \n",
       "  <style>\n",
       "    .colab-df-container {\n",
       "      display:flex;\n",
       "      flex-wrap:wrap;\n",
       "      gap: 12px;\n",
       "    }\n",
       "\n",
       "    .colab-df-convert {\n",
       "      background-color: #E8F0FE;\n",
       "      border: none;\n",
       "      border-radius: 50%;\n",
       "      cursor: pointer;\n",
       "      display: none;\n",
       "      fill: #1967D2;\n",
       "      height: 32px;\n",
       "      padding: 0 0 0 0;\n",
       "      width: 32px;\n",
       "    }\n",
       "\n",
       "    .colab-df-convert:hover {\n",
       "      background-color: #E2EBFA;\n",
       "      box-shadow: 0px 1px 2px rgba(60, 64, 67, 0.3), 0px 1px 3px 1px rgba(60, 64, 67, 0.15);\n",
       "      fill: #174EA6;\n",
       "    }\n",
       "\n",
       "    [theme=dark] .colab-df-convert {\n",
       "      background-color: #3B4455;\n",
       "      fill: #D2E3FC;\n",
       "    }\n",
       "\n",
       "    [theme=dark] .colab-df-convert:hover {\n",
       "      background-color: #434B5C;\n",
       "      box-shadow: 0px 1px 3px 1px rgba(0, 0, 0, 0.15);\n",
       "      filter: drop-shadow(0px 1px 2px rgba(0, 0, 0, 0.3));\n",
       "      fill: #FFFFFF;\n",
       "    }\n",
       "  </style>\n",
       "\n",
       "      <script>\n",
       "        const buttonEl =\n",
       "          document.querySelector('#df-ab247bc3-b604-4928-afba-e63eee624e4d button.colab-df-convert');\n",
       "        buttonEl.style.display =\n",
       "          google.colab.kernel.accessAllowed ? 'block' : 'none';\n",
       "\n",
       "        async function convertToInteractive(key) {\n",
       "          const element = document.querySelector('#df-ab247bc3-b604-4928-afba-e63eee624e4d');\n",
       "          const dataTable =\n",
       "            await google.colab.kernel.invokeFunction('convertToInteractive',\n",
       "                                                     [key], {});\n",
       "          if (!dataTable) return;\n",
       "\n",
       "          const docLinkHtml = 'Like what you see? Visit the ' +\n",
       "            '<a target=\"_blank\" href=https://colab.research.google.com/notebooks/data_table.ipynb>data table notebook</a>'\n",
       "            + ' to learn more about interactive tables.';\n",
       "          element.innerHTML = '';\n",
       "          dataTable['output_type'] = 'display_data';\n",
       "          await google.colab.output.renderOutput(dataTable, element);\n",
       "          const docLink = document.createElement('div');\n",
       "          docLink.innerHTML = docLinkHtml;\n",
       "          element.appendChild(docLink);\n",
       "        }\n",
       "      </script>\n",
       "    </div>\n",
       "  </div>\n",
       "  "
      ],
      "text/plain": [
       "                                           tweetText  \\\n",
       "0  Update  the NFL has advised the contest betwee...   \n",
       "1  AdamRonis RT MySportsUpdate NFL says BengalsBi...   \n",
       "2  NFL Commissioner Roger Goodell announced Tuesd...   \n",
       "3  edits zetta eth Equallyasdumb BuffaloBills You...   \n",
       "4  NFLDovKleiman Too many opinions from too many ...   \n",
       "\n",
       "                                            Analysis  Compound  \n",
       "0  {'neg': 0.043, 'neu': 0.957, 'pos': 0.0, 'comp...   -0.2411  \n",
       "1  {'neg': 0.0, 'neu': 1.0, 'pos': 0.0, 'compound...    0.0000  \n",
       "2  {'neg': 0.0, 'neu': 1.0, 'pos': 0.0, 'compound...    0.0000  \n",
       "3  {'neg': 0.0, 'neu': 0.932, 'pos': 0.068, 'comp...    0.1695  \n",
       "4  {'neg': 0.0, 'neu': 1.0, 'pos': 0.0, 'compound...    0.0000  "
      ]
     },
     "execution_count": 97,
     "metadata": {},
     "output_type": "execute_result"
    }
   ],
   "source": [
    "footballdata['Compound']  = footballdata['Analysis'].apply(lambda i: i['compound'])\n",
    "footballdata.head()"
   ]
  },
  {
   "cell_type": "markdown",
   "metadata": {
    "id": "vzxFRGHcZF8t"
   },
   "source": [
    "Returned the type of tweet (positive/neutral/negative) making use of Compound"
   ]
  },
  {
   "cell_type": "code",
   "execution_count": 98,
   "metadata": {
    "colab": {
     "base_uri": "https://localhost:8080/",
     "height": 206
    },
    "id": "6DWvyv_C8-Hj",
    "outputId": "66cc607c-92fb-427a-8f81-78961fbdf39c"
   },
   "outputs": [
    {
     "data": {
      "text/html": [
       "\n",
       "  <div id=\"df-02ae739c-4acd-493e-bc4a-8f7ce0025001\">\n",
       "    <div class=\"colab-df-container\">\n",
       "      <div>\n",
       "<style scoped>\n",
       "    .dataframe tbody tr th:only-of-type {\n",
       "        vertical-align: middle;\n",
       "    }\n",
       "\n",
       "    .dataframe tbody tr th {\n",
       "        vertical-align: top;\n",
       "    }\n",
       "\n",
       "    .dataframe thead th {\n",
       "        text-align: right;\n",
       "    }\n",
       "</style>\n",
       "<table border=\"1\" class=\"dataframe\">\n",
       "  <thead>\n",
       "    <tr style=\"text-align: right;\">\n",
       "      <th></th>\n",
       "      <th>tweetText</th>\n",
       "      <th>Analysis</th>\n",
       "      <th>Compound</th>\n",
       "      <th>tweet_type</th>\n",
       "    </tr>\n",
       "  </thead>\n",
       "  <tbody>\n",
       "    <tr>\n",
       "      <th>0</th>\n",
       "      <td>Update  the NFL has advised the contest betwee...</td>\n",
       "      <td>{'neg': 0.043, 'neu': 0.957, 'pos': 0.0, 'comp...</td>\n",
       "      <td>-0.2411</td>\n",
       "      <td>negative</td>\n",
       "    </tr>\n",
       "    <tr>\n",
       "      <th>1</th>\n",
       "      <td>AdamRonis RT MySportsUpdate NFL says BengalsBi...</td>\n",
       "      <td>{'neg': 0.0, 'neu': 1.0, 'pos': 0.0, 'compound...</td>\n",
       "      <td>0.0000</td>\n",
       "      <td>neutral</td>\n",
       "    </tr>\n",
       "    <tr>\n",
       "      <th>2</th>\n",
       "      <td>NFL Commissioner Roger Goodell announced Tuesd...</td>\n",
       "      <td>{'neg': 0.0, 'neu': 1.0, 'pos': 0.0, 'compound...</td>\n",
       "      <td>0.0000</td>\n",
       "      <td>neutral</td>\n",
       "    </tr>\n",
       "    <tr>\n",
       "      <th>3</th>\n",
       "      <td>edits zetta eth Equallyasdumb BuffaloBills You...</td>\n",
       "      <td>{'neg': 0.0, 'neu': 0.932, 'pos': 0.068, 'comp...</td>\n",
       "      <td>0.1695</td>\n",
       "      <td>positive</td>\n",
       "    </tr>\n",
       "    <tr>\n",
       "      <th>4</th>\n",
       "      <td>NFLDovKleiman Too many opinions from too many ...</td>\n",
       "      <td>{'neg': 0.0, 'neu': 1.0, 'pos': 0.0, 'compound...</td>\n",
       "      <td>0.0000</td>\n",
       "      <td>neutral</td>\n",
       "    </tr>\n",
       "  </tbody>\n",
       "</table>\n",
       "</div>\n",
       "      <button class=\"colab-df-convert\" onclick=\"convertToInteractive('df-02ae739c-4acd-493e-bc4a-8f7ce0025001')\"\n",
       "              title=\"Convert this dataframe to an interactive table.\"\n",
       "              style=\"display:none;\">\n",
       "        \n",
       "  <svg xmlns=\"http://www.w3.org/2000/svg\" height=\"24px\"viewBox=\"0 0 24 24\"\n",
       "       width=\"24px\">\n",
       "    <path d=\"M0 0h24v24H0V0z\" fill=\"none\"/>\n",
       "    <path d=\"M18.56 5.44l.94 2.06.94-2.06 2.06-.94-2.06-.94-.94-2.06-.94 2.06-2.06.94zm-11 1L8.5 8.5l.94-2.06 2.06-.94-2.06-.94L8.5 2.5l-.94 2.06-2.06.94zm10 10l.94 2.06.94-2.06 2.06-.94-2.06-.94-.94-2.06-.94 2.06-2.06.94z\"/><path d=\"M17.41 7.96l-1.37-1.37c-.4-.4-.92-.59-1.43-.59-.52 0-1.04.2-1.43.59L10.3 9.45l-7.72 7.72c-.78.78-.78 2.05 0 2.83L4 21.41c.39.39.9.59 1.41.59.51 0 1.02-.2 1.41-.59l7.78-7.78 2.81-2.81c.8-.78.8-2.07 0-2.86zM5.41 20L4 18.59l7.72-7.72 1.47 1.35L5.41 20z\"/>\n",
       "  </svg>\n",
       "      </button>\n",
       "      \n",
       "  <style>\n",
       "    .colab-df-container {\n",
       "      display:flex;\n",
       "      flex-wrap:wrap;\n",
       "      gap: 12px;\n",
       "    }\n",
       "\n",
       "    .colab-df-convert {\n",
       "      background-color: #E8F0FE;\n",
       "      border: none;\n",
       "      border-radius: 50%;\n",
       "      cursor: pointer;\n",
       "      display: none;\n",
       "      fill: #1967D2;\n",
       "      height: 32px;\n",
       "      padding: 0 0 0 0;\n",
       "      width: 32px;\n",
       "    }\n",
       "\n",
       "    .colab-df-convert:hover {\n",
       "      background-color: #E2EBFA;\n",
       "      box-shadow: 0px 1px 2px rgba(60, 64, 67, 0.3), 0px 1px 3px 1px rgba(60, 64, 67, 0.15);\n",
       "      fill: #174EA6;\n",
       "    }\n",
       "\n",
       "    [theme=dark] .colab-df-convert {\n",
       "      background-color: #3B4455;\n",
       "      fill: #D2E3FC;\n",
       "    }\n",
       "\n",
       "    [theme=dark] .colab-df-convert:hover {\n",
       "      background-color: #434B5C;\n",
       "      box-shadow: 0px 1px 3px 1px rgba(0, 0, 0, 0.15);\n",
       "      filter: drop-shadow(0px 1px 2px rgba(0, 0, 0, 0.3));\n",
       "      fill: #FFFFFF;\n",
       "    }\n",
       "  </style>\n",
       "\n",
       "      <script>\n",
       "        const buttonEl =\n",
       "          document.querySelector('#df-02ae739c-4acd-493e-bc4a-8f7ce0025001 button.colab-df-convert');\n",
       "        buttonEl.style.display =\n",
       "          google.colab.kernel.accessAllowed ? 'block' : 'none';\n",
       "\n",
       "        async function convertToInteractive(key) {\n",
       "          const element = document.querySelector('#df-02ae739c-4acd-493e-bc4a-8f7ce0025001');\n",
       "          const dataTable =\n",
       "            await google.colab.kernel.invokeFunction('convertToInteractive',\n",
       "                                                     [key], {});\n",
       "          if (!dataTable) return;\n",
       "\n",
       "          const docLinkHtml = 'Like what you see? Visit the ' +\n",
       "            '<a target=\"_blank\" href=https://colab.research.google.com/notebooks/data_table.ipynb>data table notebook</a>'\n",
       "            + ' to learn more about interactive tables.';\n",
       "          element.innerHTML = '';\n",
       "          dataTable['output_type'] = 'display_data';\n",
       "          await google.colab.output.renderOutput(dataTable, element);\n",
       "          const docLink = document.createElement('div');\n",
       "          docLink.innerHTML = docLinkHtml;\n",
       "          element.appendChild(docLink);\n",
       "        }\n",
       "      </script>\n",
       "    </div>\n",
       "  </div>\n",
       "  "
      ],
      "text/plain": [
       "                                           tweetText  \\\n",
       "0  Update  the NFL has advised the contest betwee...   \n",
       "1  AdamRonis RT MySportsUpdate NFL says BengalsBi...   \n",
       "2  NFL Commissioner Roger Goodell announced Tuesd...   \n",
       "3  edits zetta eth Equallyasdumb BuffaloBills You...   \n",
       "4  NFLDovKleiman Too many opinions from too many ...   \n",
       "\n",
       "                                            Analysis  Compound tweet_type  \n",
       "0  {'neg': 0.043, 'neu': 0.957, 'pos': 0.0, 'comp...   -0.2411   negative  \n",
       "1  {'neg': 0.0, 'neu': 1.0, 'pos': 0.0, 'compound...    0.0000    neutral  \n",
       "2  {'neg': 0.0, 'neu': 1.0, 'pos': 0.0, 'compound...    0.0000    neutral  \n",
       "3  {'neg': 0.0, 'neu': 0.932, 'pos': 0.068, 'comp...    0.1695   positive  \n",
       "4  {'neg': 0.0, 'neu': 1.0, 'pos': 0.0, 'compound...    0.0000    neutral  "
      ]
     },
     "execution_count": 98,
     "metadata": {},
     "output_type": "execute_result"
    }
   ],
   "source": [
    "footballdata['tweet_type'] = \n",
    "footballdata['Compound'].apply(lambda i: 'positive'\\\n",
    "                               if i >=0.05 else \\\n",
    "                               ('neutral' if (i<0.05 and i> -0.05) else 'negative'))\n",
    "footballdata.head(5)"
   ]
  },
  {
   "cell_type": "markdown",
   "metadata": {
    "id": "FSByri2oZNPI"
   },
   "source": [
    "2. Found the Compound mean for the fishing tweets"
   ]
  },
  {
   "cell_type": "code",
   "execution_count": 99,
   "metadata": {
    "colab": {
     "base_uri": "https://localhost:8080/"
    },
    "id": "dvFyeP8K9jZ3",
    "outputId": "a02f4e87-3d14-4d81-c964-8f107b080e5a"
   },
   "outputs": [
    {
     "data": {
      "text/plain": [
       "-0.017672549999999995"
      ]
     },
     "execution_count": 99,
     "metadata": {},
     "output_type": "execute_result"
    }
   ],
   "source": [
    "footballdata['Compound'].mean()"
   ]
  },
  {
   "cell_type": "markdown",
   "metadata": {
    "id": "R9-qrw_yi0j1"
   },
   "source": [
    "They (Football Tweets) are generally positive"
   ]
  },
  {
   "cell_type": "markdown",
   "metadata": {
    "id": "CA-ZpoPiZVCm"
   },
   "source": [
    "1. Finding the ratio of tweets (positive to negative)"
   ]
  },
  {
   "cell_type": "code",
   "execution_count": 100,
   "metadata": {
    "colab": {
     "base_uri": "https://localhost:8080/"
    },
    "id": "7Me2R8db9Dqb",
    "outputId": "bea5a798-c5b0-4f6e-f726-a4f81f6e13a5"
   },
   "outputs": [
    {
     "data": {
      "text/plain": [
       "negative    3995\n",
       "positive    3695\n",
       "neutral     2310\n",
       "Name: tweet_type, dtype: int64"
      ]
     },
     "execution_count": 100,
     "metadata": {},
     "output_type": "execute_result"
    }
   ],
   "source": [
    "footballdata['tweet_type'].value_counts()"
   ]
  },
  {
   "cell_type": "code",
   "execution_count": 101,
   "metadata": {
    "colab": {
     "base_uri": "https://localhost:8080/"
    },
    "id": "pnW8r34k9QCX",
    "outputId": "ec44918b-7052-42c0-d501-71f111ec692f"
   },
   "outputs": [
    {
     "data": {
      "text/plain": [
       "0.3695"
      ]
     },
     "execution_count": 101,
     "metadata": {},
     "output_type": "execute_result"
    }
   ],
   "source": [
    "Ratio_of_positive_football = len(footballdata[footballdata['tweet_type']=='positive'])/len(footballdata['tweetText'])\n",
    "Ratio_of_positive_football "
   ]
  },
  {
   "cell_type": "markdown",
   "metadata": {
    "id": "1SGgQZEwZesq"
   },
   "source": [
    "Ratio of positive tweets to that of total tweets for football is 0.4824"
   ]
  },
  {
   "cell_type": "code",
   "execution_count": 102,
   "metadata": {
    "colab": {
     "base_uri": "https://localhost:8080/"
    },
    "id": "SgfxtucSaYRX",
    "outputId": "436dd83a-09fa-4c44-b361-820b46e8c3b4"
   },
   "outputs": [
    {
     "data": {
      "text/plain": [
       "0.3995"
      ]
     },
     "execution_count": 102,
     "metadata": {},
     "output_type": "execute_result"
    }
   ],
   "source": [
    "Ratio_of_negative_football = len(footballdata[footballdata['tweet_type']=='negative'])/len(footballdata['tweetText'])\n",
    "Ratio_of_negative_football "
   ]
  },
  {
   "cell_type": "markdown",
   "metadata": {
    "id": "t6_1ybuHitp7"
   },
   "source": [
    "Ratio of negative tweets to that of total tweets for football is 0.2029"
   ]
  },
  {
   "cell_type": "markdown",
   "metadata": {
    "id": "Kj3hxUlMaj1P"
   },
   "source": [
    "Returning the football tweets data where tweet type is positive"
   ]
  },
  {
   "cell_type": "code",
   "execution_count": 103,
   "metadata": {
    "colab": {
     "base_uri": "https://localhost:8080/",
     "height": 424
    },
    "id": "NKwk3mxF9dUC",
    "outputId": "21a0b353-12c4-4b4a-8a05-90ee0f63d1e5"
   },
   "outputs": [
    {
     "data": {
      "text/html": [
       "\n",
       "  <div id=\"df-0cc2ca8c-dde5-41fb-b8c8-f3378064f820\">\n",
       "    <div class=\"colab-df-container\">\n",
       "      <div>\n",
       "<style scoped>\n",
       "    .dataframe tbody tr th:only-of-type {\n",
       "        vertical-align: middle;\n",
       "    }\n",
       "\n",
       "    .dataframe tbody tr th {\n",
       "        vertical-align: top;\n",
       "    }\n",
       "\n",
       "    .dataframe thead th {\n",
       "        text-align: right;\n",
       "    }\n",
       "</style>\n",
       "<table border=\"1\" class=\"dataframe\">\n",
       "  <thead>\n",
       "    <tr style=\"text-align: right;\">\n",
       "      <th></th>\n",
       "      <th>tweetText</th>\n",
       "      <th>Analysis</th>\n",
       "      <th>Compound</th>\n",
       "      <th>tweet_type</th>\n",
       "    </tr>\n",
       "  </thead>\n",
       "  <tbody>\n",
       "    <tr>\n",
       "      <th>3</th>\n",
       "      <td>edits zetta eth Equallyasdumb BuffaloBills You...</td>\n",
       "      <td>{'neg': 0.0, 'neu': 0.932, 'pos': 0.068, 'comp...</td>\n",
       "      <td>0.1695</td>\n",
       "      <td>positive</td>\n",
       "    </tr>\n",
       "    <tr>\n",
       "      <th>5</th>\n",
       "      <td>TruthBearer paxton This guy is the player repr...</td>\n",
       "      <td>{'neg': 0.0, 'neu': 0.872, 'pos': 0.128, 'comp...</td>\n",
       "      <td>0.4215</td>\n",
       "      <td>positive</td>\n",
       "    </tr>\n",
       "    <tr>\n",
       "      <th>6</th>\n",
       "      <td>jbook It kinda shows you how out of the loop s...</td>\n",
       "      <td>{'neg': 0.0, 'neu': 0.681, 'pos': 0.319, 'comp...</td>\n",
       "      <td>0.8537</td>\n",
       "      <td>positive</td>\n",
       "    </tr>\n",
       "    <tr>\n",
       "      <th>8</th>\n",
       "      <td>EricBabich Nikosvazelas MySportsUpdate who car...</td>\n",
       "      <td>{'neg': 0.119, 'neu': 0.706, 'pos': 0.174, 'co...</td>\n",
       "      <td>0.3612</td>\n",
       "      <td>positive</td>\n",
       "    </tr>\n",
       "    <tr>\n",
       "      <th>12</th>\n",
       "      <td>BigDawg domineeeek espn College Playoffs were ...</td>\n",
       "      <td>{'neg': 0.105, 'neu': 0.713, 'pos': 0.182, 'co...</td>\n",
       "      <td>0.2382</td>\n",
       "      <td>positive</td>\n",
       "    </tr>\n",
       "    <tr>\n",
       "      <th>...</th>\n",
       "      <td>...</td>\n",
       "      <td>...</td>\n",
       "      <td>...</td>\n",
       "      <td>...</td>\n",
       "    </tr>\n",
       "    <tr>\n",
       "      <th>9991</th>\n",
       "      <td>From now until the Super Bowl were going to be...</td>\n",
       "      <td>{'neg': 0.075, 'neu': 0.727, 'pos': 0.198, 'co...</td>\n",
       "      <td>0.7269</td>\n",
       "      <td>positive</td>\n",
       "    </tr>\n",
       "    <tr>\n",
       "      <th>9992</th>\n",
       "      <td>I personally wasnt watching NFL last night but...</td>\n",
       "      <td>{'neg': 0.096, 'neu': 0.601, 'pos': 0.302, 'co...</td>\n",
       "      <td>0.9327</td>\n",
       "      <td>positive</td>\n",
       "    </tr>\n",
       "    <tr>\n",
       "      <th>9993</th>\n",
       "      <td>Atlanta Falcons are the best team in the leagu...</td>\n",
       "      <td>{'neg': 0.0, 'neu': 0.781, 'pos': 0.219, 'comp...</td>\n",
       "      <td>0.6369</td>\n",
       "      <td>positive</td>\n",
       "    </tr>\n",
       "    <tr>\n",
       "      <th>9994</th>\n",
       "      <td>LushyLluun They wear something to protect thei...</td>\n",
       "      <td>{'neg': 0.0, 'neu': 0.895, 'pos': 0.105, 'comp...</td>\n",
       "      <td>0.2378</td>\n",
       "      <td>positive</td>\n",
       "    </tr>\n",
       "    <tr>\n",
       "      <th>9997</th>\n",
       "      <td>Im not implying Bills DamarHamlin did this pri...</td>\n",
       "      <td>{'neg': 0.0, 'neu': 0.863, 'pos': 0.137, 'comp...</td>\n",
       "      <td>0.7351</td>\n",
       "      <td>positive</td>\n",
       "    </tr>\n",
       "  </tbody>\n",
       "</table>\n",
       "<p>3695 rows × 4 columns</p>\n",
       "</div>\n",
       "      <button class=\"colab-df-convert\" onclick=\"convertToInteractive('df-0cc2ca8c-dde5-41fb-b8c8-f3378064f820')\"\n",
       "              title=\"Convert this dataframe to an interactive table.\"\n",
       "              style=\"display:none;\">\n",
       "        \n",
       "  <svg xmlns=\"http://www.w3.org/2000/svg\" height=\"24px\"viewBox=\"0 0 24 24\"\n",
       "       width=\"24px\">\n",
       "    <path d=\"M0 0h24v24H0V0z\" fill=\"none\"/>\n",
       "    <path d=\"M18.56 5.44l.94 2.06.94-2.06 2.06-.94-2.06-.94-.94-2.06-.94 2.06-2.06.94zm-11 1L8.5 8.5l.94-2.06 2.06-.94-2.06-.94L8.5 2.5l-.94 2.06-2.06.94zm10 10l.94 2.06.94-2.06 2.06-.94-2.06-.94-.94-2.06-.94 2.06-2.06.94z\"/><path d=\"M17.41 7.96l-1.37-1.37c-.4-.4-.92-.59-1.43-.59-.52 0-1.04.2-1.43.59L10.3 9.45l-7.72 7.72c-.78.78-.78 2.05 0 2.83L4 21.41c.39.39.9.59 1.41.59.51 0 1.02-.2 1.41-.59l7.78-7.78 2.81-2.81c.8-.78.8-2.07 0-2.86zM5.41 20L4 18.59l7.72-7.72 1.47 1.35L5.41 20z\"/>\n",
       "  </svg>\n",
       "      </button>\n",
       "      \n",
       "  <style>\n",
       "    .colab-df-container {\n",
       "      display:flex;\n",
       "      flex-wrap:wrap;\n",
       "      gap: 12px;\n",
       "    }\n",
       "\n",
       "    .colab-df-convert {\n",
       "      background-color: #E8F0FE;\n",
       "      border: none;\n",
       "      border-radius: 50%;\n",
       "      cursor: pointer;\n",
       "      display: none;\n",
       "      fill: #1967D2;\n",
       "      height: 32px;\n",
       "      padding: 0 0 0 0;\n",
       "      width: 32px;\n",
       "    }\n",
       "\n",
       "    .colab-df-convert:hover {\n",
       "      background-color: #E2EBFA;\n",
       "      box-shadow: 0px 1px 2px rgba(60, 64, 67, 0.3), 0px 1px 3px 1px rgba(60, 64, 67, 0.15);\n",
       "      fill: #174EA6;\n",
       "    }\n",
       "\n",
       "    [theme=dark] .colab-df-convert {\n",
       "      background-color: #3B4455;\n",
       "      fill: #D2E3FC;\n",
       "    }\n",
       "\n",
       "    [theme=dark] .colab-df-convert:hover {\n",
       "      background-color: #434B5C;\n",
       "      box-shadow: 0px 1px 3px 1px rgba(0, 0, 0, 0.15);\n",
       "      filter: drop-shadow(0px 1px 2px rgba(0, 0, 0, 0.3));\n",
       "      fill: #FFFFFF;\n",
       "    }\n",
       "  </style>\n",
       "\n",
       "      <script>\n",
       "        const buttonEl =\n",
       "          document.querySelector('#df-0cc2ca8c-dde5-41fb-b8c8-f3378064f820 button.colab-df-convert');\n",
       "        buttonEl.style.display =\n",
       "          google.colab.kernel.accessAllowed ? 'block' : 'none';\n",
       "\n",
       "        async function convertToInteractive(key) {\n",
       "          const element = document.querySelector('#df-0cc2ca8c-dde5-41fb-b8c8-f3378064f820');\n",
       "          const dataTable =\n",
       "            await google.colab.kernel.invokeFunction('convertToInteractive',\n",
       "                                                     [key], {});\n",
       "          if (!dataTable) return;\n",
       "\n",
       "          const docLinkHtml = 'Like what you see? Visit the ' +\n",
       "            '<a target=\"_blank\" href=https://colab.research.google.com/notebooks/data_table.ipynb>data table notebook</a>'\n",
       "            + ' to learn more about interactive tables.';\n",
       "          element.innerHTML = '';\n",
       "          dataTable['output_type'] = 'display_data';\n",
       "          await google.colab.output.renderOutput(dataTable, element);\n",
       "          const docLink = document.createElement('div');\n",
       "          docLink.innerHTML = docLinkHtml;\n",
       "          element.appendChild(docLink);\n",
       "        }\n",
       "      </script>\n",
       "    </div>\n",
       "  </div>\n",
       "  "
      ],
      "text/plain": [
       "                                              tweetText  \\\n",
       "3     edits zetta eth Equallyasdumb BuffaloBills You...   \n",
       "5     TruthBearer paxton This guy is the player repr...   \n",
       "6     jbook It kinda shows you how out of the loop s...   \n",
       "8     EricBabich Nikosvazelas MySportsUpdate who car...   \n",
       "12    BigDawg domineeeek espn College Playoffs were ...   \n",
       "...                                                 ...   \n",
       "9991  From now until the Super Bowl were going to be...   \n",
       "9992  I personally wasnt watching NFL last night but...   \n",
       "9993  Atlanta Falcons are the best team in the leagu...   \n",
       "9994  LushyLluun They wear something to protect thei...   \n",
       "9997  Im not implying Bills DamarHamlin did this pri...   \n",
       "\n",
       "                                               Analysis  Compound tweet_type  \n",
       "3     {'neg': 0.0, 'neu': 0.932, 'pos': 0.068, 'comp...    0.1695   positive  \n",
       "5     {'neg': 0.0, 'neu': 0.872, 'pos': 0.128, 'comp...    0.4215   positive  \n",
       "6     {'neg': 0.0, 'neu': 0.681, 'pos': 0.319, 'comp...    0.8537   positive  \n",
       "8     {'neg': 0.119, 'neu': 0.706, 'pos': 0.174, 'co...    0.3612   positive  \n",
       "12    {'neg': 0.105, 'neu': 0.713, 'pos': 0.182, 'co...    0.2382   positive  \n",
       "...                                                 ...       ...        ...  \n",
       "9991  {'neg': 0.075, 'neu': 0.727, 'pos': 0.198, 'co...    0.7269   positive  \n",
       "9992  {'neg': 0.096, 'neu': 0.601, 'pos': 0.302, 'co...    0.9327   positive  \n",
       "9993  {'neg': 0.0, 'neu': 0.781, 'pos': 0.219, 'comp...    0.6369   positive  \n",
       "9994  {'neg': 0.0, 'neu': 0.895, 'pos': 0.105, 'comp...    0.2378   positive  \n",
       "9997  {'neg': 0.0, 'neu': 0.863, 'pos': 0.137, 'comp...    0.7351   positive  \n",
       "\n",
       "[3695 rows x 4 columns]"
      ]
     },
     "execution_count": 103,
     "metadata": {},
     "output_type": "execute_result"
    }
   ],
   "source": [
    "footballdata[footballdata['tweet_type']=='positive']"
   ]
  },
  {
   "cell_type": "markdown",
   "metadata": {
    "id": "ofMqA3i6-YKZ"
   },
   "source": [
    "3. Removing the stopwords to later get the most frequent occuring words in the fishing tweets"
   ]
  },
  {
   "cell_type": "code",
   "execution_count": 104,
   "metadata": {
    "id": "YBgzD9fQFqPn"
   },
   "outputs": [],
   "source": [
    "from nltk.corpus import stopwords\n",
    "def removeStopWords(sentence):  \n",
    "  stop_words = stopwords.words('english') \n",
    "  tokens = word_tokenize(sentence)\n",
    "  tokens_poststpwrds = [word for word in tokens if not word in stop_words]\n",
    "  filtered_sentence = (\" \").join(tokens_poststpwrds)\n",
    "  text = filtered_sentence\n",
    "    \n",
    "  return text\n"
   ]
  },
  {
   "cell_type": "code",
   "execution_count": 105,
   "metadata": {
    "colab": {
     "base_uri": "https://localhost:8080/"
    },
    "id": "9DPJ0GhrM3cG",
    "outputId": "893b8ff5-64ce-45f9-8be1-47495d23de2b"
   },
   "outputs": [
    {
     "data": {
      "text/plain": [
       "1       ScottAdamsSays jonahTson This laughable Ive se...\n",
       "2       Local college notebook Millville grad JrLequin...\n",
       "3       UsherNBA Cerebral basketball content Great tweets\n",
       "5       We Sponsorship Packages available We c Nonprof...\n",
       "6       I want take square plays college basketball wo...\n",
       "                              ...                        \n",
       "9963    KD Game aint changed since Aldine Hawks got be...\n",
       "9967    The SHYBA yr old girls invited join bench hand...\n",
       "9971    Crosstown vs Freedom Prep Academy High School ...\n",
       "9979    Girls basketball last nightBellevue Marquette ...\n",
       "9984    LTLegend Skip played basketballbaseball HS He ...\n",
       "Name: tweetText, Length: 3638, dtype: object"
      ]
     },
     "execution_count": 105,
     "metadata": {},
     "output_type": "execute_result"
    }
   ],
   "source": [
    "postremovalstpwrds=basketball_data[basketball_data['tweet_type']=='positive']['tweetText'].apply(removeStopWords) # applying the tweets to the stopwords function\n",
    "postremovalstpwrds"
   ]
  },
  {
   "cell_type": "markdown",
   "metadata": {
    "id": "rYzEFdayS1-C"
   },
   "source": [
    "Imported Counter to get the count of most frequently occuring words in the tweets"
   ]
  },
  {
   "cell_type": "code",
   "execution_count": 106,
   "metadata": {
    "colab": {
     "base_uri": "https://localhost:8080/"
    },
    "id": "TXSeuoaNM-Js",
    "outputId": "30d30539-bc72-4d18-ea57-20d42fb84ac6"
   },
   "outputs": [
    {
     "name": "stdout",
     "output_type": "stream",
     "text": [
      "         Word  Count\n",
      "0  basketball   2242\n",
      "1          vs   1230\n",
      "2         The   1073\n",
      "3  Basketball   1018\n",
      "4      School    676\n",
      "5        High    659\n",
      "6        game    655\n",
      "7           I    601\n",
      "8        team    567\n",
      "9           p    548\n"
     ]
    }
   ],
   "source": [
    "from collections import Counter\n",
    "x = Counter(\" \".join(postremovalstpwrds).split()).most_common(10) #Getting the top 10 occuring words.\n",
    "df1 = pd.DataFrame(x, columns=['Word', 'Count']) # storing in df1\n",
    "print(df1) # Printing the output"
   ]
  },
  {
   "cell_type": "code",
   "execution_count": 107,
   "metadata": {
    "id": "ycv-Hoc2NNj1"
   },
   "outputs": [],
   "source": [
    "from wordcloud import WordCloud, STOPWORDS\n",
    "import matplotlib.pyplot as plt\n",
    "\n",
    "def plotWordCloud(wordcloud):\n",
    "  # plt.figure(figsize=(40, 30))\n",
    "  import string\n",
    "\n",
    "  stop_words = set(stopwords.words('english') + list(string.punctuation))\n",
    "\n",
    "  wordcloud1 = WordCloud(stopwords = stop_words).generate_from_frequencies(wordcloud)  # Plotting the wordcloud for the processed data.\n",
    "  \n",
    "  plt.figure(figsize=(12, 6))\n",
    "  plt.imshow(wordcloud1,interpolation='bilinear') \n",
    "  plt.axis(\"off\");\n",
    "\n",
    "  return wordcloud1"
   ]
  },
  {
   "cell_type": "markdown",
   "metadata": {
    "id": "xlxYF4lljSzW"
   },
   "source": [
    "Referred links: https://codereview.stackexchange.com/questions/249329/finding-the-most-frequent-words-in-pandas-dataframe\n",
    "towardsdatascience.com "
   ]
  },
  {
   "cell_type": "code",
   "execution_count": null,
   "metadata": {
    "id": "D9LpuBb7jgTr"
   },
   "outputs": [],
   "source": []
  },
  {
   "cell_type": "code",
   "execution_count": null,
   "metadata": {
    "id": "vl5Fi43Cjj2S"
   },
   "outputs": [],
   "source": []
  },
  {
   "cell_type": "code",
   "execution_count": 110,
   "metadata": {
    "colab": {
     "base_uri": "https://localhost:8080/"
    },
    "id": "-UIZ_svsjnBK",
    "outputId": "61dea85c-0213-458d-f748-e63eba020888"
   },
   "outputs": [
    {
     "data": {
      "text/plain": [
       "[0       Update  the NFL has advised the contest betwee...\n",
       " 1       AdamRonis RT MySportsUpdate NFL says BengalsBi...\n",
       " 2       NFL Commissioner Roger Goodell announced Tuesd...\n",
       " 3       edits zetta eth Equallyasdumb BuffaloBills You...\n",
       " 4       NFLDovKleiman Too many opinions from too many ...\n",
       "                               ...                        \n",
       " 9995    byysports NFL Always something to bitch about ...\n",
       " 9996    catturd This would happen every single game in...\n",
       " 9997    Im not implying Bills DamarHamlin did this pri...\n",
       " 9998    Eyeroll NFL Accused of Racism for Not Postponi...\n",
       " 9999    Remember all of those NFL games in the past wh...\n",
       " Name: tweetText, Length: 10000, dtype: object]"
      ]
     },
     "execution_count": 110,
     "metadata": {},
     "output_type": "execute_result"
    }
   ],
   "source": [
    "cleaned_football_tweets"
   ]
  },
  {
   "cell_type": "code",
   "execution_count": 116,
   "metadata": {
    "colab": {
     "base_uri": "https://localhost:8080/",
     "height": 424
    },
    "id": "fIGmPtfcEMH3",
    "outputId": "6c366bc8-799a-4aa3-a576-617818178e0c"
   },
   "outputs": [
    {
     "data": {
      "text/html": [
       "\n",
       "  <div id=\"df-860c262e-30a2-45e6-a780-9daf606b59b1\">\n",
       "    <div class=\"colab-df-container\">\n",
       "      <div>\n",
       "<style scoped>\n",
       "    .dataframe tbody tr th:only-of-type {\n",
       "        vertical-align: middle;\n",
       "    }\n",
       "\n",
       "    .dataframe tbody tr th {\n",
       "        vertical-align: top;\n",
       "    }\n",
       "\n",
       "    .dataframe thead th {\n",
       "        text-align: right;\n",
       "    }\n",
       "</style>\n",
       "<table border=\"1\" class=\"dataframe\">\n",
       "  <thead>\n",
       "    <tr style=\"text-align: right;\">\n",
       "      <th></th>\n",
       "      <th>tweetText</th>\n",
       "    </tr>\n",
       "  </thead>\n",
       "  <tbody>\n",
       "    <tr>\n",
       "      <th>0</th>\n",
       "      <td>Memphis Grizzlies point guard Ja Morant was hi...</td>\n",
       "    </tr>\n",
       "    <tr>\n",
       "      <th>1</th>\n",
       "      <td>@ScottAdamsSays @jonahTson46 This is laughable...</td>\n",
       "    </tr>\n",
       "    <tr>\n",
       "      <th>2</th>\n",
       "      <td>Local college notebook: Millville grad @JrLequ...</td>\n",
       "    </tr>\n",
       "    <tr>\n",
       "      <th>3</th>\n",
       "      <td>@UsherNBA Cerebral basketball content! Great t...</td>\n",
       "    </tr>\n",
       "    <tr>\n",
       "      <th>4</th>\n",
       "      <td>Osage basketball vs. Rockford is still on for ...</td>\n",
       "    </tr>\n",
       "    <tr>\n",
       "      <th>...</th>\n",
       "      <td>...</td>\n",
       "    </tr>\n",
       "    <tr>\n",
       "      <th>9995</th>\n",
       "      <td>Otselic Valley vs Cincinnatus Central - High S...</td>\n",
       "    </tr>\n",
       "    <tr>\n",
       "      <th>9996</th>\n",
       "      <td>🔴 LIVESTREAM!! ~ North Tampa Christian Academy...</td>\n",
       "    </tr>\n",
       "    <tr>\n",
       "      <th>9997</th>\n",
       "      <td>🍿Varsity Boys Basketball🍿\\nTri-City 🆚 Routt Ca...</td>\n",
       "    </tr>\n",
       "    <tr>\n",
       "      <th>9998</th>\n",
       "      <td>@Magesrook @SueLentz6 @justinbaragona Hockey s...</td>\n",
       "    </tr>\n",
       "    <tr>\n",
       "      <th>9999</th>\n",
       "      <td>REMINDER: Get your tickets to our 2023 Cambrid...</td>\n",
       "    </tr>\n",
       "  </tbody>\n",
       "</table>\n",
       "<p>10000 rows × 1 columns</p>\n",
       "</div>\n",
       "      <button class=\"colab-df-convert\" onclick=\"convertToInteractive('df-860c262e-30a2-45e6-a780-9daf606b59b1')\"\n",
       "              title=\"Convert this dataframe to an interactive table.\"\n",
       "              style=\"display:none;\">\n",
       "        \n",
       "  <svg xmlns=\"http://www.w3.org/2000/svg\" height=\"24px\"viewBox=\"0 0 24 24\"\n",
       "       width=\"24px\">\n",
       "    <path d=\"M0 0h24v24H0V0z\" fill=\"none\"/>\n",
       "    <path d=\"M18.56 5.44l.94 2.06.94-2.06 2.06-.94-2.06-.94-.94-2.06-.94 2.06-2.06.94zm-11 1L8.5 8.5l.94-2.06 2.06-.94-2.06-.94L8.5 2.5l-.94 2.06-2.06.94zm10 10l.94 2.06.94-2.06 2.06-.94-2.06-.94-.94-2.06-.94 2.06-2.06.94z\"/><path d=\"M17.41 7.96l-1.37-1.37c-.4-.4-.92-.59-1.43-.59-.52 0-1.04.2-1.43.59L10.3 9.45l-7.72 7.72c-.78.78-.78 2.05 0 2.83L4 21.41c.39.39.9.59 1.41.59.51 0 1.02-.2 1.41-.59l7.78-7.78 2.81-2.81c.8-.78.8-2.07 0-2.86zM5.41 20L4 18.59l7.72-7.72 1.47 1.35L5.41 20z\"/>\n",
       "  </svg>\n",
       "      </button>\n",
       "      \n",
       "  <style>\n",
       "    .colab-df-container {\n",
       "      display:flex;\n",
       "      flex-wrap:wrap;\n",
       "      gap: 12px;\n",
       "    }\n",
       "\n",
       "    .colab-df-convert {\n",
       "      background-color: #E8F0FE;\n",
       "      border: none;\n",
       "      border-radius: 50%;\n",
       "      cursor: pointer;\n",
       "      display: none;\n",
       "      fill: #1967D2;\n",
       "      height: 32px;\n",
       "      padding: 0 0 0 0;\n",
       "      width: 32px;\n",
       "    }\n",
       "\n",
       "    .colab-df-convert:hover {\n",
       "      background-color: #E2EBFA;\n",
       "      box-shadow: 0px 1px 2px rgba(60, 64, 67, 0.3), 0px 1px 3px 1px rgba(60, 64, 67, 0.15);\n",
       "      fill: #174EA6;\n",
       "    }\n",
       "\n",
       "    [theme=dark] .colab-df-convert {\n",
       "      background-color: #3B4455;\n",
       "      fill: #D2E3FC;\n",
       "    }\n",
       "\n",
       "    [theme=dark] .colab-df-convert:hover {\n",
       "      background-color: #434B5C;\n",
       "      box-shadow: 0px 1px 3px 1px rgba(0, 0, 0, 0.15);\n",
       "      filter: drop-shadow(0px 1px 2px rgba(0, 0, 0, 0.3));\n",
       "      fill: #FFFFFF;\n",
       "    }\n",
       "  </style>\n",
       "\n",
       "      <script>\n",
       "        const buttonEl =\n",
       "          document.querySelector('#df-860c262e-30a2-45e6-a780-9daf606b59b1 button.colab-df-convert');\n",
       "        buttonEl.style.display =\n",
       "          google.colab.kernel.accessAllowed ? 'block' : 'none';\n",
       "\n",
       "        async function convertToInteractive(key) {\n",
       "          const element = document.querySelector('#df-860c262e-30a2-45e6-a780-9daf606b59b1');\n",
       "          const dataTable =\n",
       "            await google.colab.kernel.invokeFunction('convertToInteractive',\n",
       "                                                     [key], {});\n",
       "          if (!dataTable) return;\n",
       "\n",
       "          const docLinkHtml = 'Like what you see? Visit the ' +\n",
       "            '<a target=\"_blank\" href=https://colab.research.google.com/notebooks/data_table.ipynb>data table notebook</a>'\n",
       "            + ' to learn more about interactive tables.';\n",
       "          element.innerHTML = '';\n",
       "          dataTable['output_type'] = 'display_data';\n",
       "          await google.colab.output.renderOutput(dataTable, element);\n",
       "          const docLink = document.createElement('div');\n",
       "          docLink.innerHTML = docLinkHtml;\n",
       "          element.appendChild(docLink);\n",
       "        }\n",
       "      </script>\n",
       "    </div>\n",
       "  </div>\n",
       "  "
      ],
      "text/plain": [
       "                                              tweetText\n",
       "0     Memphis Grizzlies point guard Ja Morant was hi...\n",
       "1     @ScottAdamsSays @jonahTson46 This is laughable...\n",
       "2     Local college notebook: Millville grad @JrLequ...\n",
       "3     @UsherNBA Cerebral basketball content! Great t...\n",
       "4     Osage basketball vs. Rockford is still on for ...\n",
       "...                                                 ...\n",
       "9995  Otselic Valley vs Cincinnatus Central - High S...\n",
       "9996  🔴 LIVESTREAM!! ~ North Tampa Christian Academy...\n",
       "9997  🍿Varsity Boys Basketball🍿\\nTri-City 🆚 Routt Ca...\n",
       "9998  @Magesrook @SueLentz6 @justinbaragona Hockey s...\n",
       "9999  REMINDER: Get your tickets to our 2023 Cambrid...\n",
       "\n",
       "[10000 rows x 1 columns]"
      ]
     },
     "execution_count": 116,
     "metadata": {},
     "output_type": "execute_result"
    }
   ],
   "source": [
    "basketball_data"
   ]
  },
  {
   "cell_type": "code",
   "execution_count": 159,
   "metadata": {
    "colab": {
     "base_uri": "https://localhost:8080/"
    },
    "id": "CMhTHGb8Etd5",
    "outputId": "8dedd8c7-f711-470a-a308-95508eac352b"
   },
   "outputs": [
    {
     "name": "stdout",
     "output_type": "stream",
     "text": [
      "tweetText    @mtaylor0182 @DrHussainL @AHAScience @NFL @ESP...\n"
     ]
    }
   ],
   "source": [
    "b = footballdata.loc[1273].to_string() #loads the row from dataframe\n",
    "print(b)"
   ]
  },
  {
   "cell_type": "code",
   "execution_count": 160,
   "metadata": {
    "colab": {
     "base_uri": "https://localhost:8080/"
    },
    "id": "Oj7iU-5yFKZ0",
    "outputId": "856a44ce-77d7-47e2-eddd-2f695de92c7a"
   },
   "outputs": [
    {
     "name": "stdout",
     "output_type": "stream",
     "text": [
      "tweetText    @mtaylor0182 @DrHussainL @AHAScience @NFL @ESP...\n"
     ]
    }
   ],
   "source": [
    "regex_pattern1 = re.compile(pattern = \"[\"\n",
    "        u\"\\U0001F600-\\U0001F64F\"  # emoticons\n",
    "        u\"\\U0001F300-\\U0001F5FF\"  # symbols & pictographs\n",
    "        u\"\\U0001F680-\\U0001F6FF\"  # transport & map symbols\n",
    "        u\"\\U0001F1E0-\\U0001F1FF\"  # flags (iOS)\n",
    "                           \"]+\", flags = re.UNICODE)\n",
    "match1 = re.sub(regex_pattern1,'',a) #replaces pattern with ''\n",
    "print(match1)\n"
   ]
  },
  {
   "cell_type": "code",
   "execution_count": 162,
   "metadata": {
    "colab": {
     "base_uri": "https://localhost:8080/"
    },
    "id": "FuClFe0yFM6E",
    "outputId": "e4a0e0f0-0a21-4e55-fedd-549f023a7432"
   },
   "outputs": [
    {
     "name": "stdout",
     "output_type": "stream",
     "text": [
      "tweetText    @mtaylor0182 @DrHussainL @AHAScience @NFL @ESP...\n"
     ]
    }
   ],
   "source": [
    "pattern1 = re.compile(r'(https?://)?(www\\.)?(\\w+\\.)?(\\w+)(\\.\\w+)(/.+)?')\n",
    "match1 = re.sub(pattern1,'',b)\n",
    "print(match1)"
   ]
  },
  {
   "cell_type": "code",
   "execution_count": 163,
   "metadata": {
    "colab": {
     "base_uri": "https://localhost:8080/"
    },
    "id": "lE8BiD-XFRUL",
    "outputId": "7d64e1e7-8091-4368-ba65-83f00d8fcb5e"
   },
   "outputs": [
    {
     "name": "stdout",
     "output_type": "stream",
     "text": [
      "tweetText    182    ...\n"
     ]
    }
   ],
   "source": [
    "re_list = ['@[A-Za-z0–9_]+', '#']\n",
    "combined_re = re.compile( '|'.join( re_list) )\n",
    "match1 = re.sub(combined_re,'',b)\n",
    "print(match1)"
   ]
  },
  {
   "cell_type": "code",
   "execution_count": 164,
   "metadata": {
    "colab": {
     "base_uri": "https://localhost:8080/"
    },
    "id": "sgegWT-oFTzr",
    "outputId": "2bf82200-d90e-4c27-8d9f-df0ecf7a8738"
   },
   "outputs": [
    {
     "name": "stdout",
     "output_type": "stream",
     "text": [
      "tweetText    @mtaylor0182 @DrHussainL @AHAScience @NFL @ESP...\n"
     ]
    }
   ],
   "source": [
    "from bs4 import BeautifulSoup\n",
    "del_amp = BeautifulSoup(b, 'lxml')\n",
    "del_amp_text = del_amp.get_text()\n",
    "print(del_amp_text)"
   ]
  },
  {
   "cell_type": "code",
   "execution_count": 165,
   "metadata": {
    "id": "LxAiocRHFfCj"
   },
   "outputs": [],
   "source": [
    "from bs4 import BeautifulSoup\n",
    "from nltk.tokenize import WordPunctTokenizer\n",
    "token = WordPunctTokenizer()\n",
    "def cleaning_tweets(t):\n",
    "    del_amp = BeautifulSoup(t, 'lxml')\n",
    "    del_amp_text = del_amp.get_text()\n",
    "    del_link_mentions = re.sub(combined_re, '', del_amp_text)\n",
    "    del_emoticons = re.sub(regex_pattern, '', del_link_mentions)\n",
    "    lower_case = del_emoticons.lower()\n",
    "    words = token.tokenize(lower_case)\n",
    "    result_words = [x for x in words if len(x) > 2]\n",
    "    return (\" \".join(result_words)).strip()"
   ]
  },
  {
   "cell_type": "code",
   "execution_count": 169,
   "metadata": {
    "colab": {
     "base_uri": "https://localhost:8080/"
    },
    "id": "XNBOEPQMFlS0",
    "outputId": "96dad606-027b-4bec-d370-92460169ae0d"
   },
   "outputs": [
    {
     "name": "stdout",
     "output_type": "stream",
     "text": [
      "Cleaning the tweets...\n",
      "\n",
      "Tweets 100 of 10000 have ben processed\n",
      "Tweets 200 of 10000 have ben processed\n",
      "Tweets 300 of 10000 have ben processed\n",
      "Tweets 400 of 10000 have ben processed\n",
      "Tweets 500 of 10000 have ben processed\n",
      "Tweets 600 of 10000 have ben processed\n",
      "Tweets 700 of 10000 have ben processed\n",
      "Tweets 800 of 10000 have ben processed\n",
      "Tweets 900 of 10000 have ben processed\n",
      "Tweets 1000 of 10000 have ben processed\n",
      "Tweets 1100 of 10000 have ben processed\n",
      "Tweets 1200 of 10000 have ben processed\n",
      "Tweets 1300 of 10000 have ben processed\n",
      "Tweets 1400 of 10000 have ben processed\n",
      "Tweets 1500 of 10000 have ben processed\n",
      "Tweets 1600 of 10000 have ben processed\n",
      "Tweets 1700 of 10000 have ben processed\n",
      "Tweets 1800 of 10000 have ben processed\n",
      "Tweets 1900 of 10000 have ben processed\n",
      "Tweets 2000 of 10000 have ben processed\n",
      "Tweets 2100 of 10000 have ben processed\n",
      "Tweets 2200 of 10000 have ben processed\n",
      "Tweets 2300 of 10000 have ben processed\n",
      "Tweets 2400 of 10000 have ben processed\n",
      "Tweets 2500 of 10000 have ben processed\n",
      "Tweets 2600 of 10000 have ben processed\n",
      "Tweets 2700 of 10000 have ben processed\n",
      "Tweets 2800 of 10000 have ben processed\n",
      "Tweets 2900 of 10000 have ben processed\n",
      "Tweets 3000 of 10000 have ben processed\n",
      "Tweets 3100 of 10000 have ben processed\n",
      "Tweets 3200 of 10000 have ben processed\n",
      "Tweets 3300 of 10000 have ben processed\n",
      "Tweets 3400 of 10000 have ben processed\n",
      "Tweets 3500 of 10000 have ben processed\n",
      "Tweets 3600 of 10000 have ben processed\n",
      "Tweets 3700 of 10000 have ben processed\n",
      "Tweets 3800 of 10000 have ben processed\n",
      "Tweets 3900 of 10000 have ben processed\n",
      "Tweets 4000 of 10000 have ben processed\n",
      "Tweets 4100 of 10000 have ben processed\n",
      "Tweets 4200 of 10000 have ben processed\n",
      "Tweets 4300 of 10000 have ben processed\n",
      "Tweets 4400 of 10000 have ben processed\n",
      "Tweets 4500 of 10000 have ben processed\n",
      "Tweets 4600 of 10000 have ben processed\n",
      "Tweets 4700 of 10000 have ben processed\n",
      "Tweets 4800 of 10000 have ben processed\n",
      "Tweets 4900 of 10000 have ben processed\n",
      "Tweets 5000 of 10000 have ben processed\n",
      "Tweets 5100 of 10000 have ben processed\n",
      "Tweets 5200 of 10000 have ben processed\n",
      "Tweets 5300 of 10000 have ben processed\n",
      "Tweets 5400 of 10000 have ben processed\n",
      "Tweets 5500 of 10000 have ben processed\n",
      "Tweets 5600 of 10000 have ben processed\n",
      "Tweets 5700 of 10000 have ben processed\n",
      "Tweets 5800 of 10000 have ben processed\n",
      "Tweets 5900 of 10000 have ben processed\n",
      "Tweets 6000 of 10000 have ben processed\n",
      "Tweets 6100 of 10000 have ben processed\n",
      "Tweets 6200 of 10000 have ben processed\n",
      "Tweets 6300 of 10000 have ben processed\n",
      "Tweets 6400 of 10000 have ben processed\n",
      "Tweets 6500 of 10000 have ben processed\n",
      "Tweets 6600 of 10000 have ben processed\n",
      "Tweets 6700 of 10000 have ben processed\n",
      "Tweets 6800 of 10000 have ben processed\n",
      "Tweets 6900 of 10000 have ben processed\n",
      "Tweets 7000 of 10000 have ben processed\n",
      "Tweets 7100 of 10000 have ben processed\n",
      "Tweets 7200 of 10000 have ben processed\n",
      "Tweets 7300 of 10000 have ben processed\n",
      "Tweets 7400 of 10000 have ben processed\n",
      "Tweets 7500 of 10000 have ben processed\n",
      "Tweets 7600 of 10000 have ben processed\n",
      "Tweets 7700 of 10000 have ben processed\n",
      "Tweets 7800 of 10000 have ben processed\n",
      "Tweets 7900 of 10000 have ben processed\n",
      "Tweets 8000 of 10000 have ben processed\n",
      "Tweets 8100 of 10000 have ben processed\n",
      "Tweets 8200 of 10000 have ben processed\n",
      "Tweets 8300 of 10000 have ben processed\n",
      "Tweets 8400 of 10000 have ben processed\n",
      "Tweets 8500 of 10000 have ben processed\n",
      "Tweets 8600 of 10000 have ben processed\n",
      "Tweets 8700 of 10000 have ben processed\n",
      "Tweets 8800 of 10000 have ben processed\n",
      "Tweets 8900 of 10000 have ben processed\n",
      "Tweets 9000 of 10000 have ben processed\n",
      "Tweets 9100 of 10000 have ben processed\n",
      "Tweets 9200 of 10000 have ben processed\n",
      "Tweets 9300 of 10000 have ben processed\n",
      "Tweets 9400 of 10000 have ben processed\n",
      "Tweets 9500 of 10000 have ben processed\n",
      "Tweets 9600 of 10000 have ben processed\n",
      "Tweets 9700 of 10000 have ben processed\n",
      "Tweets 9800 of 10000 have ben processed\n",
      "Tweets 9900 of 10000 have ben processed\n",
      "Tweets 10000 of 10000 have ben processed\n"
     ]
    }
   ],
   "source": [
    "print(\"Cleaning the tweets...\\n\")\n",
    "cleaned_tweets3 = []\n",
    "for i in range(0,10000): #3000 columns in our dataframe\n",
    "    if( (i+1)%100 == 0 ):\n",
    "        print(\"Tweets {} of {} have ben processed\".format(i+1,10000))                                                                  \n",
    "    cleaned_tweets3.append(cleaning_tweets((footballdata.tweetText[i])))"
   ]
  },
  {
   "cell_type": "code",
   "execution_count": 170,
   "metadata": {
    "id": "8CfVTfWKFuB7"
   },
   "outputs": [],
   "source": [
    "footballs = pd.Series(cleaned_tweets3).str.cat(sep=' ')"
   ]
  },
  {
   "cell_type": "code",
   "execution_count": 171,
   "metadata": {
    "id": "zfT9QMqGF2Ev"
   },
   "outputs": [],
   "source": [
    "from wordcloud import WordCloud, STOPWORDS\n",
    "import matplotlib.pyplot as plt\n",
    "stopwords = set(STOPWORDS)\n"
   ]
  },
  {
   "cell_type": "code",
   "execution_count": 172,
   "metadata": {
    "colab": {
     "base_uri": "https://localhost:8080/",
     "height": 921
    },
    "id": "uELD5-fAF4nO",
    "outputId": "7e69ee60-bcec-4dfd-cbb8-20ddf45ffa91"
   },
   "outputs": [
    {
     "data": {
      "image/png": "[encoded data removed]",
      "text/plain": [
       "<Figure size 2880x2160 with 1 Axes>"
      ]
     },
     "metadata": {
      "needs_background": "light"
     },
     "output_type": "display_data"
    }
   ],
   "source": [
    "wordcloud = WordCloud(width=1600, stopwords=stopwords,\\\n",
    "                      height=800,max_font_size=200,max_words=50,\\\n",
    "                      collocations=False, background_color='black').generate(footballs)\n",
    "plt.figure(figsize=(40,30))\n",
    "plt.imshow(wordcloud, interpolation=\"bilinear\")\n",
    "plt.axis(\"off\")\n",
    "plt.show()"
   ]
  },
  {
   "cell_type": "code",
   "execution_count": null,
   "metadata": {
    "id": "oDalG-fRF9c2"
   },
   "outputs": [],
   "source": []
  }
 ],
 "metadata": {
  "colab": {
   "provenance": []
  },
  "kernelspec": {
   "display_name": "Python 3 (ipykernel)",
   "language": "python",
   "name": "python3"
  },
  "language_info": {
   "codemirror_mode": {
    "name": "ipython",
    "version": 3
   },
   "file_extension": ".py",
   "mimetype": "text/x-python",
   "name": "python",
   "nbconvert_exporter": "python",
   "pygments_lexer": "ipython3",
   "version": "3.9.7"
  }
 },
 "nbformat": 4,
 "nbformat_minor": 1
}
