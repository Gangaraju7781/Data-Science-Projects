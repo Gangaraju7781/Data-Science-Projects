{
 "cells": [
  {
   "cell_type": "markdown",
   "id": "581a5636",
   "metadata": {},
   "source": [
    "# Book Genre Classification"
   ]
  },
  {
   "cell_type": "markdown",
   "id": "8f4d6833",
   "metadata": {},
   "source": [
    "### Importing Required Libraries"
   ]
  },
  {
   "cell_type": "code",
   "execution_count": 21,
   "id": "classified-minutes",
   "metadata": {},
   "outputs": [],
   "source": [
    "import pandas as pd\n",
    "import numpy as np\n",
    "import seaborn as sns\n",
    "import matplotlib.pyplot as plt\n",
    "import re\n",
    "import nltk\n",
    "from collections import Counter\n",
    "from sklearn.feature_extraction.text import TfidfVectorizer,CountVectorizer\n",
    "from sklearn.model_selection import train_test_split\n",
    "from sklearn.tree import DecisionTreeClassifier\n",
    "from sklearn.ensemble import RandomForestClassifier\n",
    "from sklearn.naive_bayes import GaussianNB,MultinomialNB\n",
    "from sklearn.svm import SVC\n",
    "from sklearn import metrics"
   ]
  },
  {
   "cell_type": "code",
   "execution_count": 2,
   "id": "foreign-concert",
   "metadata": {},
   "outputs": [
    {
     "data": {
      "text/html": [
       "<div>\n",
       "<style scoped>\n",
       "    .dataframe tbody tr th:only-of-type {\n",
       "        vertical-align: middle;\n",
       "    }\n",
       "\n",
       "    .dataframe tbody tr th {\n",
       "        vertical-align: top;\n",
       "    }\n",
       "\n",
       "    .dataframe thead th {\n",
       "        text-align: right;\n",
       "    }\n",
       "</style>\n",
       "<table border=\"1\" class=\"dataframe\">\n",
       "  <thead>\n",
       "    <tr style=\"text-align: right;\">\n",
       "      <th></th>\n",
       "      <th>Unnamed: 0</th>\n",
       "      <th>book_id</th>\n",
       "      <th>book_name</th>\n",
       "      <th>genre</th>\n",
       "      <th>summary</th>\n",
       "    </tr>\n",
       "  </thead>\n",
       "  <tbody>\n",
       "    <tr>\n",
       "      <th>0</th>\n",
       "      <td>0</td>\n",
       "      <td>3248537</td>\n",
       "      <td>Drowned Wednesday</td>\n",
       "      <td>Fantasy</td>\n",
       "      <td>Drowned Wednesday is the first Trustee among ...</td>\n",
       "    </tr>\n",
       "    <tr>\n",
       "      <th>1</th>\n",
       "      <td>1</td>\n",
       "      <td>27796919</td>\n",
       "      <td>The Lost Hero</td>\n",
       "      <td>Fantasy</td>\n",
       "      <td>As the book opens, Jason awakens on a school ...</td>\n",
       "    </tr>\n",
       "    <tr>\n",
       "      <th>2</th>\n",
       "      <td>2</td>\n",
       "      <td>3910776</td>\n",
       "      <td>The Eyes of the Overworld</td>\n",
       "      <td>Fantasy</td>\n",
       "      <td>Cugel is easily persuaded by the merchant Fia...</td>\n",
       "    </tr>\n",
       "    <tr>\n",
       "      <th>3</th>\n",
       "      <td>3</td>\n",
       "      <td>5969644</td>\n",
       "      <td>Magic's Promise</td>\n",
       "      <td>Fantasy</td>\n",
       "      <td>The book opens with Herald-Mage Vanyel return...</td>\n",
       "    </tr>\n",
       "    <tr>\n",
       "      <th>4</th>\n",
       "      <td>4</td>\n",
       "      <td>3173445</td>\n",
       "      <td>Taran Wanderer</td>\n",
       "      <td>Fantasy</td>\n",
       "      <td>Taran and Gurgi have returned to Caer Dallben...</td>\n",
       "    </tr>\n",
       "  </tbody>\n",
       "</table>\n",
       "</div>"
      ],
      "text/plain": [
       "   Unnamed: 0   book_id                  book_name    genre  \\\n",
       "0           0   3248537          Drowned Wednesday  Fantasy   \n",
       "1           1  27796919              The Lost Hero  Fantasy   \n",
       "2           2   3910776  The Eyes of the Overworld  Fantasy   \n",
       "3           3   5969644            Magic's Promise  Fantasy   \n",
       "4           4   3173445             Taran Wanderer  Fantasy   \n",
       "\n",
       "                                             summary  \n",
       "0   Drowned Wednesday is the first Trustee among ...  \n",
       "1   As the book opens, Jason awakens on a school ...  \n",
       "2   Cugel is easily persuaded by the merchant Fia...  \n",
       "3   The book opens with Herald-Mage Vanyel return...  \n",
       "4   Taran and Gurgi have returned to Caer Dallben...  "
      ]
     },
     "execution_count": 2,
     "metadata": {},
     "output_type": "execute_result"
    }
   ],
   "source": [
    "df = pd.read_csv('BooksDataSet.csv')\n",
    "df.head()"
   ]
  },
  {
   "cell_type": "code",
   "execution_count": 3,
   "id": "9548c489",
   "metadata": {},
   "outputs": [
    {
     "data": {
      "text/html": [
       "<div>\n",
       "<style scoped>\n",
       "    .dataframe tbody tr th:only-of-type {\n",
       "        vertical-align: middle;\n",
       "    }\n",
       "\n",
       "    .dataframe tbody tr th {\n",
       "        vertical-align: top;\n",
       "    }\n",
       "\n",
       "    .dataframe thead th {\n",
       "        text-align: right;\n",
       "    }\n",
       "</style>\n",
       "<table border=\"1\" class=\"dataframe\">\n",
       "  <thead>\n",
       "    <tr style=\"text-align: right;\">\n",
       "      <th></th>\n",
       "      <th>book_id</th>\n",
       "      <th>book_name</th>\n",
       "      <th>genre</th>\n",
       "      <th>summary</th>\n",
       "    </tr>\n",
       "  </thead>\n",
       "  <tbody>\n",
       "    <tr>\n",
       "      <th>0</th>\n",
       "      <td>3248537</td>\n",
       "      <td>Drowned Wednesday</td>\n",
       "      <td>Fantasy</td>\n",
       "      <td>Drowned Wednesday is the first Trustee among ...</td>\n",
       "    </tr>\n",
       "    <tr>\n",
       "      <th>1</th>\n",
       "      <td>27796919</td>\n",
       "      <td>The Lost Hero</td>\n",
       "      <td>Fantasy</td>\n",
       "      <td>As the book opens, Jason awakens on a school ...</td>\n",
       "    </tr>\n",
       "    <tr>\n",
       "      <th>2</th>\n",
       "      <td>3910776</td>\n",
       "      <td>The Eyes of the Overworld</td>\n",
       "      <td>Fantasy</td>\n",
       "      <td>Cugel is easily persuaded by the merchant Fia...</td>\n",
       "    </tr>\n",
       "    <tr>\n",
       "      <th>3</th>\n",
       "      <td>5969644</td>\n",
       "      <td>Magic's Promise</td>\n",
       "      <td>Fantasy</td>\n",
       "      <td>The book opens with Herald-Mage Vanyel return...</td>\n",
       "    </tr>\n",
       "    <tr>\n",
       "      <th>4</th>\n",
       "      <td>3173445</td>\n",
       "      <td>Taran Wanderer</td>\n",
       "      <td>Fantasy</td>\n",
       "      <td>Taran and Gurgi have returned to Caer Dallben...</td>\n",
       "    </tr>\n",
       "  </tbody>\n",
       "</table>\n",
       "</div>"
      ],
      "text/plain": [
       "    book_id                  book_name    genre  \\\n",
       "0   3248537          Drowned Wednesday  Fantasy   \n",
       "1  27796919              The Lost Hero  Fantasy   \n",
       "2   3910776  The Eyes of the Overworld  Fantasy   \n",
       "3   5969644            Magic's Promise  Fantasy   \n",
       "4   3173445             Taran Wanderer  Fantasy   \n",
       "\n",
       "                                             summary  \n",
       "0   Drowned Wednesday is the first Trustee among ...  \n",
       "1   As the book opens, Jason awakens on a school ...  \n",
       "2   Cugel is easily persuaded by the merchant Fia...  \n",
       "3   The book opens with Herald-Mage Vanyel return...  \n",
       "4   Taran and Gurgi have returned to Caer Dallben...  "
      ]
     },
     "execution_count": 3,
     "metadata": {},
     "output_type": "execute_result"
    }
   ],
   "source": [
    "df=df.drop('Unnamed: 0',axis=1)\n",
    "df.head()"
   ]
  },
  {
   "cell_type": "code",
   "execution_count": 4,
   "id": "ba2827b9",
   "metadata": {},
   "outputs": [
    {
     "name": "stdout",
     "output_type": "stream",
     "text": [
      "<class 'pandas.core.frame.DataFrame'>\n",
      "RangeIndex: 3000 entries, 0 to 2999\n",
      "Data columns (total 4 columns):\n",
      " #   Column     Non-Null Count  Dtype \n",
      "---  ------     --------------  ----- \n",
      " 0   book_id    3000 non-null   int64 \n",
      " 1   book_name  3000 non-null   object\n",
      " 2   genre      3000 non-null   object\n",
      " 3   summary    3000 non-null   object\n",
      "dtypes: int64(1), object(3)\n",
      "memory usage: 93.9+ KB\n"
     ]
    }
   ],
   "source": [
    "df.info()"
   ]
  },
  {
   "cell_type": "code",
   "execution_count": 5,
   "id": "cooperative-portsmouth",
   "metadata": {},
   "outputs": [
    {
     "data": {
      "text/html": [
       "<div>\n",
       "<style scoped>\n",
       "    .dataframe tbody tr th:only-of-type {\n",
       "        vertical-align: middle;\n",
       "    }\n",
       "\n",
       "    .dataframe tbody tr th {\n",
       "        vertical-align: top;\n",
       "    }\n",
       "\n",
       "    .dataframe thead th {\n",
       "        text-align: right;\n",
       "    }\n",
       "</style>\n",
       "<table border=\"1\" class=\"dataframe\">\n",
       "  <thead>\n",
       "    <tr style=\"text-align: right;\">\n",
       "      <th></th>\n",
       "      <th>book_id</th>\n",
       "    </tr>\n",
       "  </thead>\n",
       "  <tbody>\n",
       "    <tr>\n",
       "      <th>count</th>\n",
       "      <td>3.000000e+03</td>\n",
       "    </tr>\n",
       "    <tr>\n",
       "      <th>mean</th>\n",
       "      <td>9.258275e+06</td>\n",
       "    </tr>\n",
       "    <tr>\n",
       "      <th>std</th>\n",
       "      <td>8.375375e+06</td>\n",
       "    </tr>\n",
       "    <tr>\n",
       "      <th>min</th>\n",
       "      <td>8.430000e+02</td>\n",
       "    </tr>\n",
       "    <tr>\n",
       "      <th>25%</th>\n",
       "      <td>2.944599e+06</td>\n",
       "    </tr>\n",
       "    <tr>\n",
       "      <th>50%</th>\n",
       "      <td>6.169495e+06</td>\n",
       "    </tr>\n",
       "    <tr>\n",
       "      <th>75%</th>\n",
       "      <td>1.373293e+07</td>\n",
       "    </tr>\n",
       "    <tr>\n",
       "      <th>max</th>\n",
       "      <td>3.705402e+07</td>\n",
       "    </tr>\n",
       "  </tbody>\n",
       "</table>\n",
       "</div>"
      ],
      "text/plain": [
       "            book_id\n",
       "count  3.000000e+03\n",
       "mean   9.258275e+06\n",
       "std    8.375375e+06\n",
       "min    8.430000e+02\n",
       "25%    2.944599e+06\n",
       "50%    6.169495e+06\n",
       "75%    1.373293e+07\n",
       "max    3.705402e+07"
      ]
     },
     "execution_count": 5,
     "metadata": {},
     "output_type": "execute_result"
    }
   ],
   "source": [
    "df.describe()"
   ]
  },
  {
   "cell_type": "code",
   "execution_count": 6,
   "id": "compliant-height",
   "metadata": {},
   "outputs": [
    {
     "data": {
      "image/png": "[encoded data removed]",
      "text/plain": [
       "<Figure size 648x432 with 1 Axes>"
      ]
     },
     "metadata": {
      "needs_background": "light"
     },
     "output_type": "display_data"
    }
   ],
   "source": [
    "plt.figure(figsize=(9,6))\n",
    "sns.countplot(x = df['genre'],palette='Blues')\n",
    "plt.xticks(rotation = 0)\n",
    "plt.show()"
   ]
  },
  {
   "cell_type": "markdown",
   "id": "639b5d20",
   "metadata": {},
   "source": [
    "## Preprocessing the Text using Natural Language Processing Techniques"
   ]
  },
  {
   "cell_type": "code",
   "execution_count": 7,
   "id": "gothic-quick",
   "metadata": {},
   "outputs": [
    {
     "data": {
      "text/plain": [
       "0       drowned wednesday is the first trustee among t...\n",
       "1       as the book opens jason awakens on a school bu...\n",
       "2       cugel is easily persuaded by the merchant fian...\n",
       "3       the book opens with herald mage vanyel returni...\n",
       "4       taran and gurgi have returned to caer dallben ...\n",
       "                              ...                        \n",
       "2995    a novel from the numa files a kurt austin adve...\n",
       "2996    gilbert kemp is dealer specializing in antique...\n",
       "2997    how do you know when you re in too deep davey ...\n",
       "2998    the story concerns the life of johnnie pascoe ...\n",
       "2999    the first chief will henry lee the novel opens...\n",
       "Name: summary, Length: 3000, dtype: object"
      ]
     },
     "execution_count": 7,
     "metadata": {},
     "output_type": "execute_result"
    }
   ],
   "source": [
    "\n",
    "def cleaned_sentence(text):\n",
    "    text = re.sub(\"[^a-zA-Z]\",\" \",text)\n",
    "    text = ' '.join(text.split()) # Removed white spaces\n",
    "    text = text.lower() #Lowered the sentence for easy parsing\n",
    "    return text\n",
    "   \n",
    "df['summary'] = df['summary'].apply(lambda x:cleaned_sentence(x))\n",
    "df['summary']"
   ]
  },
  {
   "cell_type": "markdown",
   "id": "searching-startup",
   "metadata": {},
   "source": [
    "#### Plotting the most Frequent Words"
   ]
  },
  {
   "cell_type": "code",
   "execution_count": 8,
   "id": "beautiful-junction",
   "metadata": {
    "scrolled": true
   },
   "outputs": [
    {
     "data": {
      "image/png": "[encoded data removed]",
      "text/plain": [
       "<Figure size 648x432 with 1 Axes>"
      ]
     },
     "metadata": {
      "needs_background": "light"
     },
     "output_type": "display_data"
    }
   ],
   "source": [
    "def frequentwords(text,word_count):\n",
    "    words = ' '.join([x for x in text])\n",
    "    words = words.split()\n",
    "    fdist = nltk.FreqDist(words) #creates a new data object with word frequency\n",
    "    df1 = pd.DataFrame({'word':list(fdist.keys()),'count':list(fdist.values())})\n",
    "    df = df1.nlargest(columns=\"count\",n = word_count)\n",
    "    plt.figure(figsize=(9,6))\n",
    "    ax = sns.barplot(data=df, x = 'word',y = 'count',palette='rocket')\n",
    "    for p in ax.patches:\n",
    "        ax.annotate(f'\\n{p.get_height()}',\\\n",
    "                    (p.get_x()+0.2, p.get_height()),\\\n",
    "                    ha='center', va='top', color='white', size=11,rotation=90)\n",
    "    ax.set(xlabel='Most frequent Words')\n",
    "    ax.set(ylabel = 'Word Count')\n",
    "    plt.show()\n",
    "    \n",
    "    return df1\n",
    "       \n",
    "# 10 most frequent words\n",
    "df1 = frequentwords(df['summary'],10)"
   ]
  },
  {
   "cell_type": "code",
   "execution_count": null,
   "id": "confident-mentor",
   "metadata": {},
   "outputs": [],
   "source": []
  },
  {
   "cell_type": "markdown",
   "id": "contrary-doctrine",
   "metadata": {},
   "source": [
    "### Removing the stopwords"
   ]
  },
  {
   "cell_type": "code",
   "execution_count": 9,
   "id": "convinced-rebound",
   "metadata": {},
   "outputs": [
    {
     "name": "stderr",
     "output_type": "stream",
     "text": [
      "[nltk_data] Downloading package stopwords to\n",
      "[nltk_data]     /Users/bdvvgangarajuabbireddy/nltk_data...\n",
      "[nltk_data]   Package stopwords is already up-to-date!\n"
     ]
    },
    {
     "data": {
      "text/plain": [
       "0       drowned wednesday first trustee among morrow d...\n",
       "1       book opens jason awakens school bus unable rem...\n",
       "2       cugel easily persuaded merchant fianosther att...\n",
       "3       book opens herald mage vanyel returning countr...\n",
       "4       taran gurgi returned caer dallben following ev...\n",
       "                              ...                        \n",
       "2995    novel numa files kurt austin adventure novel m...\n",
       "2996    gilbert kemp dealer specializing antique guns ...\n",
       "2997    know deep davey always lived shadow older brot...\n",
       "2998    story concerns life johnnie pascoe retired com...\n",
       "2999    first chief henry lee novel opens growing town...\n",
       "Name: summary, Length: 3000, dtype: object"
      ]
     },
     "execution_count": 9,
     "metadata": {},
     "output_type": "execute_result"
    }
   ],
   "source": [
    "nltk.download('stopwords')\n",
    "from nltk.corpus import stopwords\n",
    "stop_words = set(stopwords.words('english'))\n",
    "\n",
    "def remove_stopwords(text):\n",
    "    removedstopword = [word for word in text.split() if word not in stop_words]\n",
    "    return ' '.join(removedstopword)\n",
    "\n",
    "df['summary'] = df['summary'].apply(lambda x:remove_stopwords(x))\n",
    "df['summary']"
   ]
  },
  {
   "cell_type": "markdown",
   "id": "efficient-purple",
   "metadata": {},
   "source": [
    "## Lemmatizing"
   ]
  },
  {
   "cell_type": "code",
   "execution_count": 10,
   "id": "valued-gather",
   "metadata": {},
   "outputs": [
    {
     "name": "stderr",
     "output_type": "stream",
     "text": [
      "[nltk_data] Downloading package wordnet to\n",
      "[nltk_data]     /Users/bdvvgangarajuabbireddy/nltk_data...\n",
      "[nltk_data]   Package wordnet is already up-to-date!\n"
     ]
    },
    {
     "data": {
      "text/plain": [
       "0       drowned wednesday first trustee among morrow d...\n",
       "1       book open jason awakens school bus unable reme...\n",
       "2       cugel easily persuaded merchant fianosther att...\n",
       "3       book open herald mage vanyel returning country...\n",
       "4       taran gurgi returned caer dallben following ev...\n",
       "                              ...                        \n",
       "2995    novel numa file kurt austin adventure novel ma...\n",
       "2996    gilbert kemp dealer specializing antique gun l...\n",
       "2997    know deep davey always lived shadow older brot...\n",
       "2998    story concern life johnnie pascoe retired comm...\n",
       "2999    first chief henry lee novel open growing town ...\n",
       "Name: summary, Length: 3000, dtype: object"
      ]
     },
     "execution_count": 10,
     "metadata": {},
     "output_type": "execute_result"
    }
   ],
   "source": [
    "nltk.download('wordnet')\n",
    "from nltk.stem import WordNetLemmatizer\n",
    "\n",
    "wnl=WordNetLemmatizer()\n",
    "\n",
    "def lematizing(sentence):\n",
    "    Sentence = \"\"\n",
    "    for word in sentence.split():\n",
    "        s = wnl.lemmatize(word)\n",
    "        Sentence += s\n",
    "        Sentence += \" \"\n",
    "    Sentence = Sentence.strip() #Removes whitespaces\n",
    "    return Sentence\n",
    "\n",
    "\n",
    "df['summary'] = df['summary'].apply(lambda x: lematizing(x))\n",
    "df['summary']"
   ]
  },
  {
   "cell_type": "markdown",
   "id": "freelance-property",
   "metadata": {},
   "source": [
    "## Stemming "
   ]
  },
  {
   "cell_type": "code",
   "execution_count": 11,
   "id": "excellent-acoustic",
   "metadata": {},
   "outputs": [
    {
     "data": {
      "text/plain": [
       "0       drown wednesday first truste among morrow day ...\n",
       "1       book open jason awaken school bu unabl rememb ...\n",
       "2       cugel easili persuad merchant fianosth attempt...\n",
       "3       book open herald mage vanyel return countri va...\n",
       "4       taran gurgi return caer dallben follow event t...\n",
       "                              ...                        \n",
       "2995    novel numa file kurt austin adventur novel mai...\n",
       "2996    gilbert kemp dealer special antiqu gun london ...\n",
       "2997    know deep davey alway live shadow older brothe...\n",
       "2998    stori concern life johnni pasco retir commerci...\n",
       "2999    first chief henri lee novel open grow town del...\n",
       "Name: summary, Length: 3000, dtype: object"
      ]
     },
     "execution_count": 11,
     "metadata": {},
     "output_type": "execute_result"
    }
   ],
   "source": [
    "from nltk.stem import PorterStemmer\n",
    "stemmer = PorterStemmer()\n",
    "\n",
    "def stemming(sentence):\n",
    "    new_sentence = \"\"\n",
    "    for word in sentence.split():\n",
    "        s = stemmer.stem(word)\n",
    "        new_sentence+=s\n",
    "        new_sentence+=\" \"\n",
    "        \n",
    "    new_sentence = new_sentence.strip()\n",
    "    return new_sentence\n",
    "\n",
    "df['summary'] = df['summary'].apply(lambda text:stemming(text))\n",
    "df['summary']"
   ]
  },
  {
   "cell_type": "code",
   "execution_count": 12,
   "id": "little-morrison",
   "metadata": {},
   "outputs": [
    {
     "data": {
      "image/png": "[encoded data removed]",
      "text/plain": [
       "<Figure size 648x432 with 1 Axes>"
      ]
     },
     "metadata": {
      "needs_background": "light"
     },
     "output_type": "display_data"
    }
   ],
   "source": [
    "# visualising frewords\n",
    "\n",
    "most_freq_df = frequentwords(df['summary'],10)"
   ]
  },
  {
   "cell_type": "code",
   "execution_count": null,
   "id": "simple-waters",
   "metadata": {},
   "outputs": [],
   "source": []
  },
  {
   "cell_type": "markdown",
   "id": "acute-membrane",
   "metadata": {},
   "source": [
    "##  Encoding"
   ]
  },
  {
   "cell_type": "code",
   "execution_count": 13,
   "id": "cultural-compiler",
   "metadata": {},
   "outputs": [
    {
     "data": {
      "text/plain": [
       "{'Fantasy': 0,\n",
       " 'Science Fiction': 1,\n",
       " 'Crime Fiction': 2,\n",
       " 'Historical novel': 3,\n",
       " 'Horror': 4,\n",
       " 'Thriller': 5}"
      ]
     },
     "execution_count": 13,
     "metadata": {},
     "output_type": "execute_result"
    }
   ],
   "source": [
    "list_of_books = list(df['genre'].unique())\n",
    "x = [i for i in range(len(list_of_books))]\n",
    "Allocated_Genres = dict(zip(list_of_books,x))\n",
    "Allocated_Genres"
   ]
  },
  {
   "cell_type": "code",
   "execution_count": 14,
   "id": "abroad-liberia",
   "metadata": {},
   "outputs": [],
   "source": [
    "df['Genre_value'] = df['genre'].map(Allocated_Genres)"
   ]
  },
  {
   "cell_type": "markdown",
   "id": "mediterranean-owner",
   "metadata": {},
   "source": [
    "## Model Building"
   ]
  },
  {
   "cell_type": "markdown",
   "id": "d6c65af7",
   "metadata": {},
   "source": [
    "## Count Vectorizer"
   ]
  },
  {
   "cell_type": "code",
   "execution_count": 15,
   "id": "municipal-farmer",
   "metadata": {
    "scrolled": true
   },
   "outputs": [
    {
     "data": {
      "text/plain": [
       "<3000x1000 sparse matrix of type '<class 'numpy.int64'>'\n",
       "\twith 245387 stored elements in Compressed Sparse Row format>"
      ]
     },
     "execution_count": 15,
     "metadata": {},
     "output_type": "execute_result"
    }
   ],
   "source": [
    "vectorizer=CountVectorizer(max_df=0.75,min_df=2,max_features=1000,stop_words='english')\n",
    "word_vec = vectorizer.fit_transform(df['summary'])\n",
    "word_vec"
   ]
  },
  {
   "cell_type": "markdown",
   "id": "993cd584",
   "metadata": {},
   "source": [
    "### Train_Test_Split"
   ]
  },
  {
   "cell_type": "code",
   "execution_count": 16,
   "id": "federal-glance",
   "metadata": {},
   "outputs": [
    {
     "data": {
      "text/plain": [
       "((2400, 1000), (600, 1000))"
      ]
     },
     "execution_count": 16,
     "metadata": {},
     "output_type": "execute_result"
    }
   ],
   "source": [
    "test_set = df['genre']\n",
    "X_train, X_test, y_train, y_test = train_test_split(word_vec,test_set,test_size=0.2)\n",
    "X_train.shape,X_test.shape"
   ]
  },
  {
   "cell_type": "markdown",
   "id": "c32e74b0",
   "metadata": {},
   "source": [
    "## Support Vector Classifier"
   ]
  },
  {
   "cell_type": "code",
   "execution_count": 17,
   "id": "handled-rolling",
   "metadata": {},
   "outputs": [
    {
     "data": {
      "text/plain": [
       "0.57"
      ]
     },
     "execution_count": 17,
     "metadata": {},
     "output_type": "execute_result"
    }
   ],
   "source": [
    "svc = SVC()\n",
    "svc.fit(X_train,y_train)\n",
    "predicted = svc.predict(X_test)\n",
    "round(metrics.accuracy_score(y_test,predicted),2)"
   ]
  },
  {
   "cell_type": "markdown",
   "id": "3099de37",
   "metadata": {},
   "source": [
    "## Multinomial Naive Bayes Classifier"
   ]
  },
  {
   "cell_type": "code",
   "execution_count": 18,
   "id": "trained-peeing",
   "metadata": {},
   "outputs": [
    {
     "data": {
      "text/plain": [
       "0.66"
      ]
     },
     "execution_count": 18,
     "metadata": {},
     "output_type": "execute_result"
    }
   ],
   "source": [
    "mb = MultinomialNB()\n",
    "mb.fit(X_train,y_train)\n",
    "predicted_value = mb.predict(X_test)\n",
    "round(metrics.accuracy_score(y_test,predicted_value),2)"
   ]
  },
  {
   "cell_type": "markdown",
   "id": "87d950d6",
   "metadata": {},
   "source": [
    "## Decision Tree Classifier"
   ]
  },
  {
   "cell_type": "code",
   "execution_count": 22,
   "id": "medium-peeing",
   "metadata": {},
   "outputs": [
    {
     "data": {
      "text/plain": [
       "0.44"
      ]
     },
     "execution_count": 22,
     "metadata": {},
     "output_type": "execute_result"
    }
   ],
   "source": [
    "DTC = DecisionTreeClassifier()\n",
    "DTC.fit(X_train,y_train)\n",
    "pred = DTC.predict(X_test\n",
    "round(metrics.accuracy_score(y_test,pred)),2)"
   ]
  },
  {
   "cell_type": "markdown",
   "id": "theoretical-indicator",
   "metadata": {},
   "source": []
  },
  {
   "cell_type": "code",
   "execution_count": 23,
   "id": "comparative-shuttle",
   "metadata": {},
   "outputs": [
    {
     "data": {
      "text/plain": [
       "((2400,), (600,))"
      ]
     },
     "execution_count": 23,
     "metadata": {},
     "output_type": "execute_result"
    }
   ],
   "source": [
    "from sklearn.preprocessing import LabelEncoder\n",
    "encoder = LabelEncoder()\n",
    "y=encoder.fit_transform(df['genre'])\n",
    "\n",
    "X_train,X_test,y_train,y_test = train_test_split(df['summary'],y,test_size=0.2,\\\n",
    "                                                 random_state=45)\n",
    "\n",
    "X_train.shape,X_test.shape"
   ]
  },
  {
   "cell_type": "markdown",
   "id": "1e89152e",
   "metadata": {},
   "source": [
    "## TF-IDF"
   ]
  },
  {
   "cell_type": "code",
   "execution_count": 24,
   "id": "connected-coach",
   "metadata": {},
   "outputs": [],
   "source": [
    "tfidf_vectorizer = TfidfVectorizer(max_df=0.80, max_features=10000)\n",
    "xtrain1 = tfidf_vectorizer.fit_transform(X_train.values.astype('U'))\n",
    "xtest1 = tfidf_vectorizer.transform(X_test.values.astype('U'))"
   ]
  },
  {
   "cell_type": "markdown",
   "id": "0fb6f327",
   "metadata": {},
   "source": [
    "## Support Vector Classifier"
   ]
  },
  {
   "cell_type": "code",
   "execution_count": 25,
   "id": "swedish-generator",
   "metadata": {},
   "outputs": [
    {
     "data": {
      "text/plain": [
       "0.7267"
      ]
     },
     "execution_count": 25,
     "metadata": {},
     "output_type": "execute_result"
    }
   ],
   "source": [
    "svc = SVC()\n",
    "svc.fit(xtrain1,y_train)\n",
    "predicted = svc.predict(xtest1)\n",
    "round(metrics.accuracy_score(y_test,predicted),4)"
   ]
  },
  {
   "cell_type": "markdown",
   "id": "082b2586",
   "metadata": {},
   "source": [
    "## Multinomial Naive Bayes Classifier"
   ]
  },
  {
   "cell_type": "code",
   "execution_count": 26,
   "id": "intended-framing",
   "metadata": {},
   "outputs": [
    {
     "data": {
      "text/plain": [
       "0.73"
      ]
     },
     "execution_count": 26,
     "metadata": {},
     "output_type": "execute_result"
    }
   ],
   "source": [
    "mb = MultinomialNB()\n",
    "mb.fit(xtrain1,y_train)\n",
    "predicted_value = mb.predict(xtest1)\n",
    "round(metrics.accuracy_score(y_test,predicted_value),4)"
   ]
  },
  {
   "cell_type": "markdown",
   "id": "77b6ce65",
   "metadata": {},
   "source": [
    "## Decision Tree Classifier"
   ]
  },
  {
   "cell_type": "code",
   "execution_count": 33,
   "id": "e9c5a546",
   "metadata": {},
   "outputs": [
    {
     "data": {
      "text/plain": [
       "0.41"
      ]
     },
     "execution_count": 33,
     "metadata": {},
     "output_type": "execute_result"
    }
   ],
   "source": [
    "DTC = DecisionTreeClassifier()\n",
    "DTC.fit(xtrain1,y_train)\n",
    "pred = DTC.predict(xtest1)\n",
    "round(metrics.accuracy_score(y_test,pred),2)"
   ]
  },
  {
   "cell_type": "markdown",
   "id": "ultimate-worcester",
   "metadata": {},
   "source": [
    "## Testing the Model"
   ]
  },
  {
   "cell_type": "code",
   "execution_count": 34,
   "id": "shared-naples",
   "metadata": {},
   "outputs": [],
   "source": [
    "def model_testing(text,model):\n",
    "    \n",
    "    text = cleaned_sentence(text)\n",
    "    text = remove_stopwords(text)\n",
    "    text = lematizing(text)\n",
    "    text = stemming(text)\n",
    "    text_vector = tfidf_vectorizer.transform([text])\n",
    "    predicted = model.predict(text_vector)\n",
    "    return predicted\n",
    "\n",
    "x = df['summary'].apply(lambda text:model_testing(text,mb))"
   ]
  },
  {
   "cell_type": "code",
   "execution_count": 35,
   "id": "challenging-texture",
   "metadata": {},
   "outputs": [
    {
     "data": {
      "text/plain": [
       "['Science Fiction',\n",
       " 'Science Fiction',\n",
       " 'Science Fiction',\n",
       " 'Science Fiction',\n",
       " 'Science Fiction',\n",
       " 'Horror',\n",
       " 'Science Fiction',\n",
       " 'Science Fiction',\n",
       " 'Science Fiction',\n",
       " 'Science Fiction']"
      ]
     },
     "execution_count": 35,
     "metadata": {},
     "output_type": "execute_result"
    }
   ],
   "source": [
    "Genre_Predicted = []\n",
    "for i in range(len(x)):\n",
    "    value = x[i][0]\n",
    "    Genre_Predicted.append(list(Allocated_Genres.keys())[list(Allocated_Genres.values()).index(value)])\n",
    "Genre_Predicted[:10]"
   ]
  },
  {
   "cell_type": "code",
   "execution_count": null,
   "id": "outstanding-current",
   "metadata": {},
   "outputs": [],
   "source": []
  },
  {
   "cell_type": "code",
   "execution_count": 36,
   "id": "stable-publisher",
   "metadata": {
    "scrolled": true
   },
   "outputs": [
    {
     "data": {
      "text/plain": [
       "{0: 'Fantasy',\n",
       " 1: 'Science Fiction',\n",
       " 2: 'Crime Fiction',\n",
       " 3: 'Historical novel',\n",
       " 4: 'Horror',\n",
       " 5: 'Thriller'}"
      ]
     },
     "execution_count": 36,
     "metadata": {},
     "output_type": "execute_result"
    }
   ],
   "source": [
    "## mapping the training genre as well\n",
    "\n",
    "Map = dict([(value,key) for key,value in Allocated_Genres.items()])\n",
    "Map"
   ]
  },
  {
   "cell_type": "code",
   "execution_count": null,
   "id": "quick-illinois",
   "metadata": {},
   "outputs": [],
   "source": []
  },
  {
   "cell_type": "code",
   "execution_count": 37,
   "id": "local-protection",
   "metadata": {},
   "outputs": [
    {
     "data": {
      "text/html": [
       "<div>\n",
       "<style scoped>\n",
       "    .dataframe tbody tr th:only-of-type {\n",
       "        vertical-align: middle;\n",
       "    }\n",
       "\n",
       "    .dataframe tbody tr th {\n",
       "        vertical-align: top;\n",
       "    }\n",
       "\n",
       "    .dataframe thead th {\n",
       "        text-align: right;\n",
       "    }\n",
       "</style>\n",
       "<table border=\"1\" class=\"dataframe\">\n",
       "  <thead>\n",
       "    <tr style=\"text-align: right;\">\n",
       "      <th></th>\n",
       "      <th>book_id</th>\n",
       "      <th>book_name</th>\n",
       "      <th>genre</th>\n",
       "      <th>summary</th>\n",
       "      <th>Genre_value</th>\n",
       "      <th>Actual Genre</th>\n",
       "      <th>Predicted_Genre</th>\n",
       "    </tr>\n",
       "  </thead>\n",
       "  <tbody>\n",
       "    <tr>\n",
       "      <th>0</th>\n",
       "      <td>3248537</td>\n",
       "      <td>Drowned Wednesday</td>\n",
       "      <td>Fantasy</td>\n",
       "      <td>drown wednesday first truste among morrow day ...</td>\n",
       "      <td>0</td>\n",
       "      <td>Fantasy</td>\n",
       "      <td>Science Fiction</td>\n",
       "    </tr>\n",
       "    <tr>\n",
       "      <th>1</th>\n",
       "      <td>27796919</td>\n",
       "      <td>The Lost Hero</td>\n",
       "      <td>Fantasy</td>\n",
       "      <td>book open jason awaken school bu unabl rememb ...</td>\n",
       "      <td>0</td>\n",
       "      <td>Fantasy</td>\n",
       "      <td>Science Fiction</td>\n",
       "    </tr>\n",
       "    <tr>\n",
       "      <th>2</th>\n",
       "      <td>3910776</td>\n",
       "      <td>The Eyes of the Overworld</td>\n",
       "      <td>Fantasy</td>\n",
       "      <td>cugel easili persuad merchant fianosth attempt...</td>\n",
       "      <td>0</td>\n",
       "      <td>Fantasy</td>\n",
       "      <td>Science Fiction</td>\n",
       "    </tr>\n",
       "    <tr>\n",
       "      <th>3</th>\n",
       "      <td>5969644</td>\n",
       "      <td>Magic's Promise</td>\n",
       "      <td>Fantasy</td>\n",
       "      <td>book open herald mage vanyel return countri va...</td>\n",
       "      <td>0</td>\n",
       "      <td>Fantasy</td>\n",
       "      <td>Science Fiction</td>\n",
       "    </tr>\n",
       "    <tr>\n",
       "      <th>4</th>\n",
       "      <td>3173445</td>\n",
       "      <td>Taran Wanderer</td>\n",
       "      <td>Fantasy</td>\n",
       "      <td>taran gurgi return caer dallben follow event t...</td>\n",
       "      <td>0</td>\n",
       "      <td>Fantasy</td>\n",
       "      <td>Science Fiction</td>\n",
       "    </tr>\n",
       "    <tr>\n",
       "      <th>5</th>\n",
       "      <td>19401625</td>\n",
       "      <td>Thendara House</td>\n",
       "      <td>Fantasy</td>\n",
       "      <td>novel concern dwell darkovan order renunci als...</td>\n",
       "      <td>0</td>\n",
       "      <td>Fantasy</td>\n",
       "      <td>Horror</td>\n",
       "    </tr>\n",
       "    <tr>\n",
       "      <th>6</th>\n",
       "      <td>6563632</td>\n",
       "      <td>The Thief</td>\n",
       "      <td>Fantasy</td>\n",
       "      <td>gen releas prison magu king scholar magu find ...</td>\n",
       "      <td>0</td>\n",
       "      <td>Fantasy</td>\n",
       "      <td>Science Fiction</td>\n",
       "    </tr>\n",
       "    <tr>\n",
       "      <th>7</th>\n",
       "      <td>8700946</td>\n",
       "      <td>The Sweet Far Thing</td>\n",
       "      <td>Fantasy</td>\n",
       "      <td>prologu begin two men search river london thre...</td>\n",
       "      <td>0</td>\n",
       "      <td>Fantasy</td>\n",
       "      <td>Science Fiction</td>\n",
       "    </tr>\n",
       "    <tr>\n",
       "      <th>8</th>\n",
       "      <td>6216269</td>\n",
       "      <td>Mistborn: The Final Empire</td>\n",
       "      <td>Fantasy</td>\n",
       "      <td>luthadel capit citi final empir vin scrawni st...</td>\n",
       "      <td>0</td>\n",
       "      <td>Fantasy</td>\n",
       "      <td>Science Fiction</td>\n",
       "    </tr>\n",
       "    <tr>\n",
       "      <th>9</th>\n",
       "      <td>10933407</td>\n",
       "      <td>The Sorcerer's Ship</td>\n",
       "      <td>Fantasy</td>\n",
       "      <td>man name gene find cast new world power godlik...</td>\n",
       "      <td>0</td>\n",
       "      <td>Fantasy</td>\n",
       "      <td>Science Fiction</td>\n",
       "    </tr>\n",
       "  </tbody>\n",
       "</table>\n",
       "</div>"
      ],
      "text/plain": [
       "    book_id                   book_name    genre  \\\n",
       "0   3248537           Drowned Wednesday  Fantasy   \n",
       "1  27796919               The Lost Hero  Fantasy   \n",
       "2   3910776   The Eyes of the Overworld  Fantasy   \n",
       "3   5969644             Magic's Promise  Fantasy   \n",
       "4   3173445              Taran Wanderer  Fantasy   \n",
       "5  19401625              Thendara House  Fantasy   \n",
       "6   6563632                   The Thief  Fantasy   \n",
       "7   8700946         The Sweet Far Thing  Fantasy   \n",
       "8   6216269  Mistborn: The Final Empire  Fantasy   \n",
       "9  10933407         The Sorcerer's Ship  Fantasy   \n",
       "\n",
       "                                             summary  Genre_value  \\\n",
       "0  drown wednesday first truste among morrow day ...            0   \n",
       "1  book open jason awaken school bu unabl rememb ...            0   \n",
       "2  cugel easili persuad merchant fianosth attempt...            0   \n",
       "3  book open herald mage vanyel return countri va...            0   \n",
       "4  taran gurgi return caer dallben follow event t...            0   \n",
       "5  novel concern dwell darkovan order renunci als...            0   \n",
       "6  gen releas prison magu king scholar magu find ...            0   \n",
       "7  prologu begin two men search river london thre...            0   \n",
       "8  luthadel capit citi final empir vin scrawni st...            0   \n",
       "9  man name gene find cast new world power godlik...            0   \n",
       "\n",
       "  Actual Genre  Predicted_Genre  \n",
       "0      Fantasy  Science Fiction  \n",
       "1      Fantasy  Science Fiction  \n",
       "2      Fantasy  Science Fiction  \n",
       "3      Fantasy  Science Fiction  \n",
       "4      Fantasy  Science Fiction  \n",
       "5      Fantasy           Horror  \n",
       "6      Fantasy  Science Fiction  \n",
       "7      Fantasy  Science Fiction  \n",
       "8      Fantasy  Science Fiction  \n",
       "9      Fantasy  Science Fiction  "
      ]
     },
     "execution_count": 37,
     "metadata": {},
     "output_type": "execute_result"
    }
   ],
   "source": [
    "df['Actual Genre'] = df['Genre_value'].map(Map)\n",
    "df['Predicted_Genre'] = np.array(Genre_Predicted)\n",
    "df.head(10)"
   ]
  },
  {
   "cell_type": "code",
   "execution_count": 38,
   "id": "sound-milwaukee",
   "metadata": {
    "scrolled": true
   },
   "outputs": [
    {
     "data": {
      "text/html": [
       "<div>\n",
       "<style scoped>\n",
       "    .dataframe tbody tr th:only-of-type {\n",
       "        vertical-align: middle;\n",
       "    }\n",
       "\n",
       "    .dataframe tbody tr th {\n",
       "        vertical-align: top;\n",
       "    }\n",
       "\n",
       "    .dataframe thead th {\n",
       "        text-align: right;\n",
       "    }\n",
       "</style>\n",
       "<table border=\"1\" class=\"dataframe\">\n",
       "  <thead>\n",
       "    <tr style=\"text-align: right;\">\n",
       "      <th></th>\n",
       "      <th>book_name</th>\n",
       "      <th>summary</th>\n",
       "      <th>Actual Genre</th>\n",
       "      <th>Predicted_Genre</th>\n",
       "    </tr>\n",
       "  </thead>\n",
       "  <tbody>\n",
       "    <tr>\n",
       "      <th>0</th>\n",
       "      <td>Drowned Wednesday</td>\n",
       "      <td>drown wednesday first truste among morrow day ...</td>\n",
       "      <td>Fantasy</td>\n",
       "      <td>Science Fiction</td>\n",
       "    </tr>\n",
       "    <tr>\n",
       "      <th>1</th>\n",
       "      <td>The Lost Hero</td>\n",
       "      <td>book open jason awaken school bu unabl rememb ...</td>\n",
       "      <td>Fantasy</td>\n",
       "      <td>Science Fiction</td>\n",
       "    </tr>\n",
       "    <tr>\n",
       "      <th>2</th>\n",
       "      <td>The Eyes of the Overworld</td>\n",
       "      <td>cugel easili persuad merchant fianosth attempt...</td>\n",
       "      <td>Fantasy</td>\n",
       "      <td>Science Fiction</td>\n",
       "    </tr>\n",
       "    <tr>\n",
       "      <th>3</th>\n",
       "      <td>Magic's Promise</td>\n",
       "      <td>book open herald mage vanyel return countri va...</td>\n",
       "      <td>Fantasy</td>\n",
       "      <td>Science Fiction</td>\n",
       "    </tr>\n",
       "    <tr>\n",
       "      <th>4</th>\n",
       "      <td>Taran Wanderer</td>\n",
       "      <td>taran gurgi return caer dallben follow event t...</td>\n",
       "      <td>Fantasy</td>\n",
       "      <td>Science Fiction</td>\n",
       "    </tr>\n",
       "    <tr>\n",
       "      <th>...</th>\n",
       "      <td>...</td>\n",
       "      <td>...</td>\n",
       "      <td>...</td>\n",
       "      <td>...</td>\n",
       "    </tr>\n",
       "    <tr>\n",
       "      <th>2995</th>\n",
       "      <td>White Death</td>\n",
       "      <td>novel numa file kurt austin adventur novel mai...</td>\n",
       "      <td>Thriller</td>\n",
       "      <td>Thriller</td>\n",
       "    </tr>\n",
       "    <tr>\n",
       "      <th>2996</th>\n",
       "      <td>Venus with Pistol</td>\n",
       "      <td>gilbert kemp dealer special antiqu gun london ...</td>\n",
       "      <td>Thriller</td>\n",
       "      <td>Thriller</td>\n",
       "    </tr>\n",
       "    <tr>\n",
       "      <th>2997</th>\n",
       "      <td>Blackwater</td>\n",
       "      <td>know deep davey alway live shadow older brothe...</td>\n",
       "      <td>Thriller</td>\n",
       "      <td>Science Fiction</td>\n",
       "    </tr>\n",
       "    <tr>\n",
       "      <th>2998</th>\n",
       "      <td>The Rainbow and the Rose</td>\n",
       "      <td>stori concern life johnni pasco retir commerci...</td>\n",
       "      <td>Thriller</td>\n",
       "      <td>Thriller</td>\n",
       "    </tr>\n",
       "    <tr>\n",
       "      <th>2999</th>\n",
       "      <td>Chiefs</td>\n",
       "      <td>first chief henri lee novel open grow town del...</td>\n",
       "      <td>Thriller</td>\n",
       "      <td>Thriller</td>\n",
       "    </tr>\n",
       "  </tbody>\n",
       "</table>\n",
       "<p>3000 rows × 4 columns</p>\n",
       "</div>"
      ],
      "text/plain": [
       "                      book_name  \\\n",
       "0             Drowned Wednesday   \n",
       "1                 The Lost Hero   \n",
       "2     The Eyes of the Overworld   \n",
       "3               Magic's Promise   \n",
       "4                Taran Wanderer   \n",
       "...                         ...   \n",
       "2995                White Death   \n",
       "2996          Venus with Pistol   \n",
       "2997                 Blackwater   \n",
       "2998   The Rainbow and the Rose   \n",
       "2999                     Chiefs   \n",
       "\n",
       "                                                summary Actual Genre  \\\n",
       "0     drown wednesday first truste among morrow day ...      Fantasy   \n",
       "1     book open jason awaken school bu unabl rememb ...      Fantasy   \n",
       "2     cugel easili persuad merchant fianosth attempt...      Fantasy   \n",
       "3     book open herald mage vanyel return countri va...      Fantasy   \n",
       "4     taran gurgi return caer dallben follow event t...      Fantasy   \n",
       "...                                                 ...          ...   \n",
       "2995  novel numa file kurt austin adventur novel mai...     Thriller   \n",
       "2996  gilbert kemp dealer special antiqu gun london ...     Thriller   \n",
       "2997  know deep davey alway live shadow older brothe...     Thriller   \n",
       "2998  stori concern life johnni pasco retir commerci...     Thriller   \n",
       "2999  first chief henri lee novel open grow town del...     Thriller   \n",
       "\n",
       "      Predicted_Genre  \n",
       "0     Science Fiction  \n",
       "1     Science Fiction  \n",
       "2     Science Fiction  \n",
       "3     Science Fiction  \n",
       "4     Science Fiction  \n",
       "...               ...  \n",
       "2995         Thriller  \n",
       "2996         Thriller  \n",
       "2997  Science Fiction  \n",
       "2998         Thriller  \n",
       "2999         Thriller  \n",
       "\n",
       "[3000 rows x 4 columns]"
      ]
     },
     "execution_count": 38,
     "metadata": {},
     "output_type": "execute_result"
    }
   ],
   "source": [
    "df = df[['book_name','summary','Actual Genre','Predicted_Genre']]\n",
    "df"
   ]
  },
  {
   "cell_type": "code",
   "execution_count": 41,
   "id": "organizational-kruger",
   "metadata": {},
   "outputs": [
    {
     "data": {
      "image/png": "[encoded data removed]",
      "text/plain": [
       "<Figure size 720x432 with 1 Axes>"
      ]
     },
     "metadata": {
      "needs_background": "light"
     },
     "output_type": "display_data"
    }
   ],
   "source": [
    "plt.figure(figsize=(10,6))\n",
    "ax=sns.countplot(x = df['Predicted_Genre'],palette='Blues')\n",
    "plt.xticks(rotation = 30)\n",
    "ax.set(ylabel='Book Count')\n",
    "plt.show()"
   ]
  },
  {
   "cell_type": "code",
   "execution_count": 42,
   "id": "nonprofit-zimbabwe",
   "metadata": {},
   "outputs": [
    {
     "data": {
      "image/png": "[encoded data removed]",
      "text/plain": [
       "<Figure size 720x432 with 1 Axes>"
      ]
     },
     "metadata": {
      "needs_background": "light"
     },
     "output_type": "display_data"
    }
   ],
   "source": [
    "plt.figure(figsize=(10,6))\n",
    "ax=sns.countplot(x = df['Actual Genre'],palette='Blues')\n",
    "ax.set(ylabel='Book Count')\n",
    "plt.xticks(rotation = 30)\n",
    "plt.show()"
   ]
  },
  {
   "cell_type": "code",
   "execution_count": null,
   "id": "9df61209",
   "metadata": {},
   "outputs": [],
   "source": [
    "df.tail()"
   ]
  },
  {
   "cell_type": "code",
   "execution_count": null,
   "id": "b13eda63",
   "metadata": {},
   "outputs": [],
   "source": []
  }
 ],
 "metadata": {
  "kernelspec": {
   "display_name": "Python 3 (ipykernel)",
   "language": "python",
   "name": "python3"
  },
  "language_info": {
   "codemirror_mode": {
    "name": "ipython",
    "version": 3
   },
   "file_extension": ".py",
   "mimetype": "text/x-python",
   "name": "python",
   "nbconvert_exporter": "python",
   "pygments_lexer": "ipython3",
   "version": "3.9.7"
  }
 },
 "nbformat": 4,
 "nbformat_minor": 5
}
